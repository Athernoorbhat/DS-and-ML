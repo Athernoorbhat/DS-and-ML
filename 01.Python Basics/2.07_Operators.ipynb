{
 "cells": [
  {
   "cell_type": "markdown",
   "id": "1ed2fdea",
   "metadata": {},
   "source": [
    "# Arithematic Operations"
   ]
  },
  {
   "cell_type": "code",
   "execution_count": 24,
   "id": "c63b8c30",
   "metadata": {},
   "outputs": [
    {
     "name": "stdout",
     "output_type": "stream",
     "text": [
      "15\n",
      "5\n",
      "50\n",
      "2.0\n",
      "0\n",
      "2\n",
      "7\n",
      "-8\n",
      "16\n"
     ]
    }
   ],
   "source": [
    "x,y = 10,5\n",
    "print(x+y)\n",
    "print(x-y)\n",
    "print(x*y)\n",
    "print(x/y)\n",
    "print(x%y) # reminder\n",
    "print(x//y) #floor\n",
    "print(15//2) #floor (closest small value)\n",
    "print(-15//2) #floor value\n",
    "print(2**4) #exp"
   ]
  },
  {
   "cell_type": "markdown",
   "id": "b2fc91a9",
   "metadata": {},
   "source": [
    "# Comparison Operations"
   ]
  },
  {
   "cell_type": "code",
   "execution_count": 17,
   "id": "8be85b31",
   "metadata": {},
   "outputs": [
    {
     "name": "stdout",
     "output_type": "stream",
     "text": [
      "True\n",
      "False\n",
      "False\n",
      "True\n",
      "False\n",
      "True\n"
     ]
    }
   ],
   "source": [
    "a,b =10,20\n",
    "print(a<b)\n",
    "print(a>b)\n",
    "print(a==b)\n",
    "print(a!=b)\n",
    "print(a>=b)\n",
    "print(a<=b)"
   ]
  },
  {
   "cell_type": "markdown",
   "id": "dc963c37",
   "metadata": {},
   "source": [
    "# Logical Operations"
   ]
  },
  {
   "cell_type": "code",
   "execution_count": 21,
   "id": "3dfd82bb",
   "metadata": {},
   "outputs": [
    {
     "name": "stdout",
     "output_type": "stream",
     "text": [
      "False\n",
      "True\n",
      "True\n"
     ]
    }
   ],
   "source": [
    "a,b = True,False\n",
    "print(a and b)\n",
    "print(a or b)\n",
    "print(not b)"
   ]
  },
  {
   "cell_type": "markdown",
   "id": "a4d19146",
   "metadata": {},
   "source": [
    "# Bitwise Operations"
   ]
  },
  {
   "cell_type": "code",
   "execution_count": 25,
   "id": "a0425f3f",
   "metadata": {},
   "outputs": [
    {
     "name": "stdout",
     "output_type": "stream",
     "text": [
      "0\n"
     ]
    }
   ],
   "source": [
    "a,b =10,4\n",
    "print(a & b) # binary a AND binary b\n",
    "print(a | b) # binary a OR binary b\n"
   ]
  },
  {
   "cell_type": "markdown",
   "id": "923809f5",
   "metadata": {},
   "source": [
    "# Assignment Operations"
   ]
  },
  {
   "cell_type": "code",
   "execution_count": 31,
   "id": "248f05df",
   "metadata": {},
   "outputs": [
    {
     "name": "stdout",
     "output_type": "stream",
     "text": [
      "20\n"
     ]
    }
   ],
   "source": [
    "a = 10\n",
    "\n",
    "a +=10 # a=a+10\n",
    "print(a)\n"
   ]
  },
  {
   "cell_type": "code",
   "execution_count": 32,
   "id": "63c9ec1c",
   "metadata": {},
   "outputs": [
    {
     "name": "stdout",
     "output_type": "stream",
     "text": [
      "0\n"
     ]
    }
   ],
   "source": [
    "a= 10\n",
    "\n",
    "a -=10 # a=a-10\n",
    "print(a)\n"
   ]
  },
  {
   "cell_type": "code",
   "execution_count": 34,
   "id": "161c8c81",
   "metadata": {},
   "outputs": [
    {
     "name": "stdout",
     "output_type": "stream",
     "text": [
      "100\n"
     ]
    }
   ],
   "source": [
    "a =10\n",
    "a *=10 # a=a*10\n",
    "print(a)\n"
   ]
  },
  {
   "cell_type": "code",
   "execution_count": 35,
   "id": "a80d5da5",
   "metadata": {},
   "outputs": [
    {
     "name": "stdout",
     "output_type": "stream",
     "text": [
      "1.0\n"
     ]
    }
   ],
   "source": [
    "a=10\n",
    "a /=10 # a=a/10\n",
    "print(a)\n"
   ]
  },
  {
   "cell_type": "code",
   "execution_count": 40,
   "id": "806b062d",
   "metadata": {},
   "outputs": [
    {
     "name": "stdout",
     "output_type": "stream",
     "text": [
      "9\n"
     ]
    }
   ],
   "source": [
    "a=20\n",
    "a %=11 # a=a%10\n",
    "print(a)"
   ]
  },
  {
   "cell_type": "code",
   "execution_count": 42,
   "id": "d11e651e",
   "metadata": {},
   "outputs": [
    {
     "name": "stdout",
     "output_type": "stream",
     "text": [
      "9\n"
     ]
    }
   ],
   "source": [
    "a=100\n",
    "a //=11 # a=a//10\n",
    "print(a)"
   ]
  },
  {
   "cell_type": "code",
   "execution_count": 44,
   "id": "a9f991e8",
   "metadata": {},
   "outputs": [
    {
     "name": "stdout",
     "output_type": "stream",
     "text": [
      "32\n"
     ]
    }
   ],
   "source": [
    "a=2\n",
    "a **=5 # a=a**10\n",
    "print(a)"
   ]
  },
  {
   "cell_type": "markdown",
   "id": "8fe36767",
   "metadata": {},
   "source": [
    "# Special Operator"
   ]
  },
  {
   "cell_type": "markdown",
   "id": "fafb7310",
   "metadata": {},
   "source": [
    "# 1 Identity Operator"
   ]
  },
  {
   "cell_type": "code",
   "execution_count": 47,
   "id": "eeb45623",
   "metadata": {},
   "outputs": [
    {
     "name": "stdout",
     "output_type": "stream",
     "text": [
      "True\n"
     ]
    }
   ],
   "source": [
    "a=5\n",
    "b=5\n",
    "print(a is b)"
   ]
  },
  {
   "cell_type": "code",
   "execution_count": 49,
   "id": "c0ec44fd",
   "metadata": {},
   "outputs": [
    {
     "name": "stdout",
     "output_type": "stream",
     "text": [
      "False\n"
     ]
    }
   ],
   "source": [
    "a=5\n",
    "b=10\n",
    "print(a is b)"
   ]
  },
  {
   "cell_type": "code",
   "execution_count": 51,
   "id": "c41cfb37",
   "metadata": {},
   "outputs": [
    {
     "name": "stdout",
     "output_type": "stream",
     "text": [
      "False\n"
     ]
    }
   ],
   "source": [
    "a=5\n",
    "b=5\n",
    "print(a is not b)"
   ]
  },
  {
   "cell_type": "code",
   "execution_count": 54,
   "id": "4fc53ba6",
   "metadata": {},
   "outputs": [
    {
     "name": "stdout",
     "output_type": "stream",
     "text": [
      "True\n"
     ]
    }
   ],
   "source": [
    "s1 = \"hi\"\n",
    "s2 = \"hi\"\n",
    "print(s1 is s2)"
   ]
  },
  {
   "cell_type": "markdown",
   "id": "2c7305a5",
   "metadata": {},
   "source": [
    "Lists , tuples are not replaced in same location"
   ]
  },
  {
   "cell_type": "code",
   "execution_count": 52,
   "id": "6f798467",
   "metadata": {},
   "outputs": [
    {
     "name": "stdout",
     "output_type": "stream",
     "text": [
      "False\n"
     ]
    }
   ],
   "source": [
    "l1 = [1,2,3]\n",
    "l2 = [1,2,3]\n",
    "print(l1 is l2)"
   ]
  },
  {
   "cell_type": "markdown",
   "id": "0ce1ba9e",
   "metadata": {},
   "source": [
    "# 2 MemberShip Operator"
   ]
  },
  {
   "cell_type": "code",
   "execution_count": 60,
   "id": "69d93bb9",
   "metadata": {},
   "outputs": [
    {
     "name": "stdout",
     "output_type": "stream",
     "text": [
      "True\n",
      "True\n",
      "False\n"
     ]
    }
   ],
   "source": [
    "lst = [1,2,3,4]\n",
    "print(1 in lst)\n",
    "print(2 in lst)\n",
    "print(5 in lst)"
   ]
  },
  {
   "cell_type": "code",
   "execution_count": 65,
   "id": "eafca4f9",
   "metadata": {},
   "outputs": [
    {
     "name": "stdout",
     "output_type": "stream",
     "text": [
      "True\n",
      "True\n",
      "False\n"
     ]
    }
   ],
   "source": [
    "dic ={1:\"a\",2:\"b\",3:\"c\"}\n",
    "print(1 in dic)\n",
    "print(2 in dic)\n",
    "print(5 in dic)\n",
    "\n",
    "#can only check key in dictionary"
   ]
  },
  {
   "cell_type": "code",
   "execution_count": 67,
   "id": "73d95844",
   "metadata": {},
   "outputs": [
    {
     "name": "stdout",
     "output_type": "stream",
     "text": [
      "False\n"
     ]
    }
   ],
   "source": [
    "dic ={1:\"a\",2:\"b\",3:\"c\"}\n",
    "print(a in dic)\n",
    "\n",
    "#can not check values in dictionary"
   ]
  },
  {
   "cell_type": "code",
   "execution_count": null,
   "id": "6fb3ca09",
   "metadata": {},
   "outputs": [],
   "source": []
  }
 ],
 "metadata": {
  "kernelspec": {
   "display_name": "Python 3 (ipykernel)",
   "language": "python",
   "name": "python3"
  },
  "language_info": {
   "codemirror_mode": {
    "name": "ipython",
    "version": 3
   },
   "file_extension": ".py",
   "mimetype": "text/x-python",
   "name": "python",
   "nbconvert_exporter": "python",
   "pygments_lexer": "ipython3",
   "version": "3.10.9"
  }
 },
 "nbformat": 4,
 "nbformat_minor": 5
}
