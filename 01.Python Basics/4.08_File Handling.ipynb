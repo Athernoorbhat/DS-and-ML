{
 "cells": [
  {
   "cell_type": "markdown",
   "id": "7b68f169",
   "metadata": {},
   "source": [
    "# File I/O"
   ]
  },
  {
   "cell_type": "raw",
   "id": "dfd11b96",
   "metadata": {},
   "source": [
    "File Operation:\n",
    "    1.Open a File\n",
    "    2.Read or Write File\n",
    "    3.Close a File"
   ]
  },
  {
   "cell_type": "markdown",
   "id": "c69401e4",
   "metadata": {},
   "source": [
    "# Opening a File"
   ]
  },
  {
   "cell_type": "code",
   "execution_count": 3,
   "id": "f1296b49",
   "metadata": {},
   "outputs": [],
   "source": [
    "f=open(\"example.txt\") #opens file in current directory"
   ]
  },
  {
   "cell_type": "markdown",
   "id": "c0590512",
   "metadata": {},
   "source": [
    "# Modes \n",
    "\n",
    "\"r\" --> open a file for read(default)\n",
    "\n",
    "\"w\" --> open a file for writting.Creates a new file if one doesnt exist or truncates the file if exits.\n",
    "\n",
    "\"x\" --> open a file for exclusive creation.If the file already exists, the operation fail\n",
    "\n",
    "\"a\" --> opens for appending at the end of file without truncating it.Creates new file if it does not exist\n",
    "\n",
    "\"t\" --> open in textmode(default)\n",
    "\n",
    "\"b\" --> open in n binary mode\n",
    "\n",
    "\"+\" --> open a file for updating"
   ]
  },
  {
   "cell_type": "code",
   "execution_count": 4,
   "id": "d19a77de",
   "metadata": {},
   "outputs": [],
   "source": [
    "f = open(\"example.txt\") #equivalent to 'r'\n",
    "#or\n",
    "f = open(\"example.txt\",'r')\n",
    "\n",
    "f = open(\"test.txt\",'w') #creates new file if not exits"
   ]
  },
  {
   "cell_type": "markdown",
   "id": "e4c61e07",
   "metadata": {},
   "source": [
    "# Closing a File"
   ]
  },
  {
   "cell_type": "raw",
   "id": "a65491a0",
   "metadata": {},
   "source": [
    "1.Closing a file free up the resources that were tied with the file and is  done using close() method.\n",
    "\n",
    "2.Python has gatbage collector to clean up the unrefrenced objects but,we must not rely on its to cloase the file"
   ]
  },
  {
   "cell_type": "code",
   "execution_count": 8,
   "id": "28138bac",
   "metadata": {},
   "outputs": [],
   "source": [
    "f=open(\"example.txt\")\n",
    "f.close()"
   ]
  },
  {
   "cell_type": "raw",
   "id": "43e47a8a",
   "metadata": {},
   "source": [
    "This method  is  not safe.If exception occurs when we are performing same operation with the file, the code exits without closing the file. \n",
    "\n",
    "A safer way is to use try....catch block."
   ]
  },
  {
   "cell_type": "code",
   "execution_count": 9,
   "id": "1fe67eba",
   "metadata": {},
   "outputs": [],
   "source": [
    "try:\n",
    "    f=open(\"test.txt\")\n",
    "    #perform file operations\n",
    "finally:\n",
    "    f.close()"
   ]
  },
  {
   "cell_type": "raw",
   "id": "bcce64d1",
   "metadata": {},
   "source": [
    "This Gurantees file is closed properly even if an exception is raised, causing program flow to stop."
   ]
  },
  {
   "cell_type": "raw",
   "id": "262184b6",
   "metadata": {},
   "source": [
    "We dont need to explicitly call the close() method .It is done internally.\n",
    "\n",
    "--> with open(\"example.txt\",enconding='utf-8') as f:\n",
    "\n",
    "        #perform file operations"
   ]
  },
  {
   "cell_type": "markdown",
   "id": "7705fc24",
   "metadata": {},
   "source": [
    "# Writing to a File"
   ]
  },
  {
   "cell_type": "code",
   "execution_count": 67,
   "id": "a23f8cfa",
   "metadata": {},
   "outputs": [],
   "source": [
    "f=open(\"test.txt\",'w')\n",
    "f.write(\"This is first line\\n\")\n",
    "f.write(\"This is second line\\n\")\n",
    "f.close()"
   ]
  },
  {
   "cell_type": "markdown",
   "id": "8e09380f",
   "metadata": {},
   "source": [
    "This program creates new file if not exist.If exists overwritten."
   ]
  },
  {
   "cell_type": "markdown",
   "id": "888dbc46",
   "metadata": {},
   "source": [
    "# Reading from a File"
   ]
  },
  {
   "cell_type": "code",
   "execution_count": 71,
   "id": "f7de2ba3",
   "metadata": {},
   "outputs": [
    {
     "data": {
      "text/plain": [
       "'This is first line\\nThis is second line\\n'"
      ]
     },
     "execution_count": 71,
     "metadata": {},
     "output_type": "execute_result"
    }
   ],
   "source": [
    "f=open(\"test.txt\",'r')\n",
    "f.read()"
   ]
  },
  {
   "cell_type": "code",
   "execution_count": 72,
   "id": "29f8dc6a",
   "metadata": {},
   "outputs": [
    {
     "data": {
      "text/plain": [
       "'This'"
      ]
     },
     "execution_count": 72,
     "metadata": {},
     "output_type": "execute_result"
    }
   ],
   "source": [
    "f=open(\"test.txt\",'r')\n",
    "f.read(4) #read first 4 characters/"
   ]
  },
  {
   "cell_type": "code",
   "execution_count": 73,
   "id": "0b180bd7",
   "metadata": {},
   "outputs": [
    {
     "data": {
      "text/plain": [
       "' is first '"
      ]
     },
     "execution_count": 73,
     "metadata": {},
     "output_type": "execute_result"
    }
   ],
   "source": [
    "f.read(10) #reads 10 characters from current location of 4"
   ]
  },
  {
   "cell_type": "code",
   "execution_count": 74,
   "id": "89c1c9ad",
   "metadata": {},
   "outputs": [
    {
     "data": {
      "text/plain": [
       "'This is fi'"
      ]
     },
     "execution_count": 74,
     "metadata": {},
     "output_type": "execute_result"
    }
   ],
   "source": [
    "f=open(\"test.txt\",'r')\n",
    "f.read(10) #reads 10 characterts"
   ]
  },
  {
   "cell_type": "code",
   "execution_count": 75,
   "id": "296dcd59",
   "metadata": {},
   "outputs": [
    {
     "data": {
      "text/plain": [
       "10"
      ]
     },
     "execution_count": 75,
     "metadata": {},
     "output_type": "execute_result"
    }
   ],
   "source": [
    "#returns current file cursor(position) using seek() method \n",
    "f.tell()"
   ]
  },
  {
   "cell_type": "code",
   "execution_count": 76,
   "id": "2c3b02d8",
   "metadata": {},
   "outputs": [
    {
     "data": {
      "text/plain": [
       "0"
      ]
     },
     "execution_count": 76,
     "metadata": {},
     "output_type": "execute_result"
    }
   ],
   "source": [
    "#bring the file cursor to initial position\n",
    "f.seek(0)"
   ]
  },
  {
   "cell_type": "code",
   "execution_count": 77,
   "id": "26fc709f",
   "metadata": {},
   "outputs": [
    {
     "name": "stdout",
     "output_type": "stream",
     "text": [
      "This is first line\n",
      "This is second line\n",
      "\n"
     ]
    }
   ],
   "source": [
    "print(f.read())"
   ]
  },
  {
   "cell_type": "markdown",
   "id": "1e7f7019",
   "metadata": {},
   "source": [
    "# READ LINE BY LINE"
   ]
  },
  {
   "cell_type": "code",
   "execution_count": 78,
   "id": "fb366e49",
   "metadata": {},
   "outputs": [
    {
     "name": "stdout",
     "output_type": "stream",
     "text": [
      "This is first line\n",
      "\n",
      "This is second line\n",
      "\n"
     ]
    }
   ],
   "source": [
    "f.seek(0)\n",
    "for lines in f:\n",
    "    print(lines)"
   ]
  },
  {
   "cell_type": "markdown",
   "id": "1cc53c30",
   "metadata": {},
   "source": [
    "# readline() to read individual lines of file."
   ]
  },
  {
   "cell_type": "code",
   "execution_count": 85,
   "id": "0cd05c90",
   "metadata": {},
   "outputs": [
    {
     "data": {
      "text/plain": [
       "'This is first line\\n'"
      ]
     },
     "execution_count": 85,
     "metadata": {},
     "output_type": "execute_result"
    }
   ],
   "source": [
    "f=open(\"test.txt\",\"r\")\n",
    "#f.read()\n",
    "f.readline()"
   ]
  },
  {
   "cell_type": "code",
   "execution_count": 86,
   "id": "0c200e62",
   "metadata": {},
   "outputs": [
    {
     "data": {
      "text/plain": [
       "'This is second line\\n'"
      ]
     },
     "execution_count": 86,
     "metadata": {},
     "output_type": "execute_result"
    }
   ],
   "source": [
    "f.readline() #cursor 2nd line mai"
   ]
  },
  {
   "cell_type": "code",
   "execution_count": 87,
   "id": "05a55c1e",
   "metadata": {},
   "outputs": [
    {
     "data": {
      "text/plain": [
       "''"
      ]
     },
     "execution_count": 87,
     "metadata": {},
     "output_type": "execute_result"
    }
   ],
   "source": [
    "f.readline()  #cursor 3rd line mai"
   ]
  },
  {
   "cell_type": "code",
   "execution_count": 88,
   "id": "397f7006",
   "metadata": {},
   "outputs": [
    {
     "data": {
      "text/plain": [
       "'This is first line\\n'"
      ]
     },
     "execution_count": 88,
     "metadata": {},
     "output_type": "execute_result"
    }
   ],
   "source": [
    "f.seek(0) #going back to ist line\n",
    "f.readline()"
   ]
  },
  {
   "cell_type": "markdown",
   "id": "1b3eb09c",
   "metadata": {},
   "source": [
    "# readlines() returns list of remaining lines of entire file"
   ]
  },
  {
   "cell_type": "code",
   "execution_count": 89,
   "id": "7c21db79",
   "metadata": {},
   "outputs": [
    {
     "data": {
      "text/plain": [
       "['This is first line\\n', 'This is second line\\n']"
      ]
     },
     "execution_count": 89,
     "metadata": {},
     "output_type": "execute_result"
    }
   ],
   "source": [
    "f.seek(0)\n",
    "f.readlines()"
   ]
  },
  {
   "cell_type": "markdown",
   "id": "d3617f17",
   "metadata": {},
   "source": [
    "# Renaming / Deleting Files in Python"
   ]
  },
  {
   "cell_type": "raw",
   "id": "0a7d98d4",
   "metadata": {},
   "source": [
    "os module brings support of file rename/delete operations"
   ]
  },
  {
   "cell_type": "code",
   "execution_count": 98,
   "id": "c0baeeb9",
   "metadata": {},
   "outputs": [],
   "source": [
    "f.close()"
   ]
  },
  {
   "cell_type": "code",
   "execution_count": 2,
   "id": "de15e42f",
   "metadata": {},
   "outputs": [
    {
     "ename": "FileNotFoundError",
     "evalue": "[WinError 2] The system cannot find the file specified: 'test.txt' -> 'sample.txt'",
     "output_type": "error",
     "traceback": [
      "\u001b[1;31m---------------------------------------------------------------------------\u001b[0m",
      "\u001b[1;31mFileNotFoundError\u001b[0m                         Traceback (most recent call last)",
      "Cell \u001b[1;32mIn[2], line 4\u001b[0m\n\u001b[0;32m      1\u001b[0m \u001b[38;5;28;01mimport\u001b[39;00m \u001b[38;5;21;01mos\u001b[39;00m\n\u001b[0;32m      3\u001b[0m \u001b[38;5;66;03m#renaming test.text to sample.txt\u001b[39;00m\n\u001b[1;32m----> 4\u001b[0m \u001b[43mos\u001b[49m\u001b[38;5;241;43m.\u001b[39;49m\u001b[43mrename\u001b[49m\u001b[43m(\u001b[49m\u001b[38;5;124;43m\"\u001b[39;49m\u001b[38;5;124;43mtest.txt\u001b[39;49m\u001b[38;5;124;43m\"\u001b[39;49m\u001b[43m,\u001b[49m\u001b[38;5;124;43m\"\u001b[39;49m\u001b[38;5;124;43msample.txt\u001b[39;49m\u001b[38;5;124;43m\"\u001b[39;49m\u001b[43m)\u001b[49m\n",
      "\u001b[1;31mFileNotFoundError\u001b[0m: [WinError 2] The system cannot find the file specified: 'test.txt' -> 'sample.txt'"
     ]
    }
   ],
   "source": [
    "import os\n",
    "\n",
    "#renaming test.text to sample.txt\n",
    "os.rename(\"test.txt\",\"sample.txt\")"
   ]
  },
  {
   "cell_type": "code",
   "execution_count": 5,
   "id": "f564277d",
   "metadata": {},
   "outputs": [
    {
     "data": {
      "text/plain": [
       "['This is first line\\n', 'This is second line\\n']"
      ]
     },
     "execution_count": 5,
     "metadata": {},
     "output_type": "execute_result"
    }
   ],
   "source": [
    "f=open(\"sample.txt\",'r')\n",
    "f.readlines()"
   ]
  },
  {
   "cell_type": "code",
   "execution_count": 3,
   "id": "71316b20",
   "metadata": {},
   "outputs": [
    {
     "ename": "FileNotFoundError",
     "evalue": "[WinError 2] The system cannot find the file specified: 'sample.txt'",
     "output_type": "error",
     "traceback": [
      "\u001b[1;31m---------------------------------------------------------------------------\u001b[0m",
      "\u001b[1;31mFileNotFoundError\u001b[0m                         Traceback (most recent call last)",
      "Cell \u001b[1;32mIn[3], line 3\u001b[0m\n\u001b[0;32m      1\u001b[0m \u001b[38;5;66;03m#deleting the sample.txt\u001b[39;00m\n\u001b[0;32m      2\u001b[0m \u001b[38;5;28;01mimport\u001b[39;00m \u001b[38;5;21;01mos\u001b[39;00m\n\u001b[1;32m----> 3\u001b[0m \u001b[43mos\u001b[49m\u001b[38;5;241;43m.\u001b[39;49m\u001b[43mremove\u001b[49m\u001b[43m(\u001b[49m\u001b[38;5;124;43m\"\u001b[39;49m\u001b[38;5;124;43msample.txt\u001b[39;49m\u001b[38;5;124;43m\"\u001b[39;49m\u001b[43m)\u001b[49m\n",
      "\u001b[1;31mFileNotFoundError\u001b[0m: [WinError 2] The system cannot find the file specified: 'sample.txt'"
     ]
    }
   ],
   "source": [
    "#deleting the sample.txt\n",
    "import os\n",
    "os.remove(\"sample.txt\")"
   ]
  },
  {
   "cell_type": "code",
   "execution_count": 4,
   "id": "78b2e67d",
   "metadata": {},
   "outputs": [
    {
     "ename": "FileNotFoundError",
     "evalue": "[Errno 2] No such file or directory: 'sample.txt'",
     "output_type": "error",
     "traceback": [
      "\u001b[1;31m---------------------------------------------------------------------------\u001b[0m",
      "\u001b[1;31mFileNotFoundError\u001b[0m                         Traceback (most recent call last)",
      "Cell \u001b[1;32mIn[4], line 1\u001b[0m\n\u001b[1;32m----> 1\u001b[0m f\u001b[38;5;241m=\u001b[39m\u001b[38;5;28;43mopen\u001b[39;49m\u001b[43m(\u001b[49m\u001b[38;5;124;43m\"\u001b[39;49m\u001b[38;5;124;43msample.txt\u001b[39;49m\u001b[38;5;124;43m\"\u001b[39;49m\u001b[43m,\u001b[49m\u001b[38;5;124;43m'\u001b[39;49m\u001b[38;5;124;43mr\u001b[39;49m\u001b[38;5;124;43m'\u001b[39;49m\u001b[43m)\u001b[49m\n\u001b[0;32m      2\u001b[0m f\u001b[38;5;241m.\u001b[39mreadlines()\n",
      "File \u001b[1;32m~\\anaconda3\\lib\\site-packages\\IPython\\core\\interactiveshell.py:282\u001b[0m, in \u001b[0;36m_modified_open\u001b[1;34m(file, *args, **kwargs)\u001b[0m\n\u001b[0;32m    275\u001b[0m \u001b[38;5;28;01mif\u001b[39;00m file \u001b[38;5;129;01min\u001b[39;00m {\u001b[38;5;241m0\u001b[39m, \u001b[38;5;241m1\u001b[39m, \u001b[38;5;241m2\u001b[39m}:\n\u001b[0;32m    276\u001b[0m     \u001b[38;5;28;01mraise\u001b[39;00m \u001b[38;5;167;01mValueError\u001b[39;00m(\n\u001b[0;32m    277\u001b[0m         \u001b[38;5;124mf\u001b[39m\u001b[38;5;124m\"\u001b[39m\u001b[38;5;124mIPython won\u001b[39m\u001b[38;5;124m'\u001b[39m\u001b[38;5;124mt let you open fd=\u001b[39m\u001b[38;5;132;01m{\u001b[39;00mfile\u001b[38;5;132;01m}\u001b[39;00m\u001b[38;5;124m by default \u001b[39m\u001b[38;5;124m\"\u001b[39m\n\u001b[0;32m    278\u001b[0m         \u001b[38;5;124m\"\u001b[39m\u001b[38;5;124mas it is likely to crash IPython. If you know what you are doing, \u001b[39m\u001b[38;5;124m\"\u001b[39m\n\u001b[0;32m    279\u001b[0m         \u001b[38;5;124m\"\u001b[39m\u001b[38;5;124myou can use builtins\u001b[39m\u001b[38;5;124m'\u001b[39m\u001b[38;5;124m open.\u001b[39m\u001b[38;5;124m\"\u001b[39m\n\u001b[0;32m    280\u001b[0m     )\n\u001b[1;32m--> 282\u001b[0m \u001b[38;5;28;01mreturn\u001b[39;00m io_open(file, \u001b[38;5;241m*\u001b[39margs, \u001b[38;5;241m*\u001b[39m\u001b[38;5;241m*\u001b[39mkwargs)\n",
      "\u001b[1;31mFileNotFoundError\u001b[0m: [Errno 2] No such file or directory: 'sample.txt'"
     ]
    }
   ],
   "source": [
    "f=open(\"sample.txt\",'r')\n",
    "f.readlines()"
   ]
  },
  {
   "cell_type": "markdown",
   "id": "1dd8a420",
   "metadata": {},
   "source": [
    "# Python Directory and File Managemnet"
   ]
  },
  {
   "cell_type": "markdown",
   "id": "fcda452d",
   "metadata": {},
   "source": [
    "# Current Directory"
   ]
  },
  {
   "cell_type": "code",
   "execution_count": 6,
   "id": "0798d12e",
   "metadata": {},
   "outputs": [
    {
     "data": {
      "text/plain": [
       "'C:\\\\Users\\\\noora\\\\Music\\\\Untitled Folder'"
      ]
     },
     "execution_count": 6,
     "metadata": {},
     "output_type": "execute_result"
    }
   ],
   "source": [
    "#get current directory\n",
    "import os\n",
    "os.getcwd()"
   ]
  },
  {
   "cell_type": "markdown",
   "id": "0fb84638",
   "metadata": {},
   "source": [
    "# Changing Directory"
   ]
  },
  {
   "cell_type": "code",
   "execution_count": 7,
   "id": "c4f9c772",
   "metadata": {},
   "outputs": [],
   "source": [
    "os.chdir(\"C:\\\\Users\\\\noora\\\\Music\\\\\")"
   ]
  },
  {
   "cell_type": "code",
   "execution_count": 8,
   "id": "28eb454e",
   "metadata": {},
   "outputs": [
    {
     "data": {
      "text/plain": [
       "'C:\\\\Users\\\\noora\\\\Music'"
      ]
     },
     "execution_count": 8,
     "metadata": {},
     "output_type": "execute_result"
    }
   ],
   "source": [
    "os.getcwd()"
   ]
  },
  {
   "cell_type": "code",
   "execution_count": 10,
   "id": "8a107b46",
   "metadata": {},
   "outputs": [],
   "source": [
    "os.chdir(\"C:\\\\Users\\\\noora\\\\Music\\\\Untitled Folder\")"
   ]
  },
  {
   "cell_type": "code",
   "execution_count": 11,
   "id": "997747b0",
   "metadata": {},
   "outputs": [
    {
     "data": {
      "text/plain": [
       "'C:\\\\Users\\\\noora\\\\Music\\\\Untitled Folder'"
      ]
     },
     "execution_count": 11,
     "metadata": {},
     "output_type": "execute_result"
    }
   ],
   "source": [
    "os.getcwd()"
   ]
  },
  {
   "cell_type": "markdown",
   "id": "37186806",
   "metadata": {},
   "source": [
    "# List Directories and Files"
   ]
  },
  {
   "cell_type": "code",
   "execution_count": 12,
   "id": "f50835c6",
   "metadata": {},
   "outputs": [
    {
     "data": {
      "text/plain": [
       "['.ipynb_checkpoints',\n",
       " '2.03_Indentifiers.ipynb',\n",
       " '2.05_Variable and Data Types.ipynb',\n",
       " '2.06_Input output.ipynb',\n",
       " '2.07_Operators.ipynb',\n",
       " '2.08_If Else.ipynb',\n",
       " '2.09_While Loop.ipynb',\n",
       " '2.10_For Loop.ipynb',\n",
       " '2.11_Break and Continue.ipynb',\n",
       " '3.01_Lists.ipynb',\n",
       " '3.02_Tuples.ipynb',\n",
       " '3.04_Sets.ipynb',\n",
       " '3.05_Dictionary.ipynb',\n",
       " '3.06_Strings.ipynb',\n",
       " '4.01_Functions.ipynb',\n",
       " '4.04_Recursion.ipynb',\n",
       " '4.05_Lambda or Anonymous Function.ipynb',\n",
       " '4.06_Modules And Packages.ipynb',\n",
       " '4.8_File Handling.ipynb',\n",
       " 'example.txt']"
      ]
     },
     "execution_count": 12,
     "metadata": {},
     "output_type": "execute_result"
    }
   ],
   "source": [
    "os.listdir(os.getcwd())"
   ]
  },
  {
   "cell_type": "markdown",
   "id": "2c3b783e",
   "metadata": {},
   "source": [
    "# Make New Directory"
   ]
  },
  {
   "cell_type": "code",
   "execution_count": 13,
   "id": "60e12110",
   "metadata": {},
   "outputs": [],
   "source": [
    "os.mkdir(\"test\") #new folder"
   ]
  },
  {
   "cell_type": "markdown",
   "id": "763c9125",
   "metadata": {},
   "source": [
    "# Remove Empty Directory"
   ]
  },
  {
   "cell_type": "code",
   "execution_count": 15,
   "id": "f1d036b1",
   "metadata": {},
   "outputs": [
    {
     "ename": "FileNotFoundError",
     "evalue": "[WinError 2] The system cannot find the file specified: 'test'",
     "output_type": "error",
     "traceback": [
      "\u001b[1;31m---------------------------------------------------------------------------\u001b[0m",
      "\u001b[1;31mFileNotFoundError\u001b[0m                         Traceback (most recent call last)",
      "Cell \u001b[1;32mIn[15], line 1\u001b[0m\n\u001b[1;32m----> 1\u001b[0m \u001b[43mos\u001b[49m\u001b[38;5;241;43m.\u001b[39;49m\u001b[43mrmdir\u001b[49m\u001b[43m(\u001b[49m\u001b[38;5;124;43m\"\u001b[39;49m\u001b[38;5;124;43mtest\u001b[39;49m\u001b[38;5;124;43m\"\u001b[39;49m\u001b[43m)\u001b[49m\n",
      "\u001b[1;31mFileNotFoundError\u001b[0m: [WinError 2] The system cannot find the file specified: 'test'"
     ]
    }
   ],
   "source": [
    "os.rmdir(\"test\") #removes empty directory"
   ]
  },
  {
   "cell_type": "markdown",
   "id": "4907d609",
   "metadata": {},
   "source": [
    "# Remove NON Empty Directory"
   ]
  },
  {
   "cell_type": "code",
   "execution_count": 2,
   "id": "a86097f7",
   "metadata": {},
   "outputs": [
    {
     "ename": "OSError",
     "evalue": "[WinError 145] The directory is not empty: 'test2'",
     "output_type": "error",
     "traceback": [
      "\u001b[1;31m---------------------------------------------------------------------------\u001b[0m",
      "\u001b[1;31mOSError\u001b[0m                                   Traceback (most recent call last)",
      "Cell \u001b[1;32mIn[2], line 10\u001b[0m\n\u001b[0;32m      8\u001b[0m os\u001b[38;5;241m.\u001b[39mchdir(\u001b[38;5;124m\"\u001b[39m\u001b[38;5;124m..\u001b[39m\u001b[38;5;130;01m\\\\\u001b[39;00m\u001b[38;5;124m\"\u001b[39m)\n\u001b[0;32m      9\u001b[0m \u001b[38;5;66;03m#os.getcwd()\u001b[39;00m\n\u001b[1;32m---> 10\u001b[0m \u001b[43mos\u001b[49m\u001b[38;5;241;43m.\u001b[39;49m\u001b[43mrmdir\u001b[49m\u001b[43m(\u001b[49m\u001b[38;5;124;43m\"\u001b[39;49m\u001b[38;5;124;43mtest2\u001b[39;49m\u001b[38;5;124;43m\"\u001b[39;49m\u001b[43m)\u001b[49m\n",
      "\u001b[1;31mOSError\u001b[0m: [WinError 145] The directory is not empty: 'test2'"
     ]
    }
   ],
   "source": [
    "import shutil\n",
    "import os\n",
    "\n",
    "os.mkdir(\"test2\")\n",
    "os.chdir(\".\\\\test2\")\n",
    "f=open(\"testfile.txt\",'w')\n",
    "f.write(\"Hello World\")\n",
    "os.chdir(\"..\\\\\")\n",
    "#os.getcwd()\n",
    "os.rmdir(\"test2\")\n"
   ]
  },
  {
   "cell_type": "code",
   "execution_count": 5,
   "id": "f486ac8d",
   "metadata": {},
   "outputs": [
    {
     "ename": "FileNotFoundError",
     "evalue": "[WinError 3] The system cannot find the path specified: 'test2'",
     "output_type": "error",
     "traceback": [
      "\u001b[1;31m---------------------------------------------------------------------------\u001b[0m",
      "\u001b[1;31mFileNotFoundError\u001b[0m                         Traceback (most recent call last)",
      "Cell \u001b[1;32mIn[5], line 5\u001b[0m\n\u001b[0;32m      2\u001b[0m \u001b[38;5;28;01mimport\u001b[39;00m \u001b[38;5;21;01mshutil\u001b[39;00m\n\u001b[0;32m      3\u001b[0m \u001b[38;5;28;01mimport\u001b[39;00m \u001b[38;5;21;01mos\u001b[39;00m\n\u001b[1;32m----> 5\u001b[0m \u001b[43mshutil\u001b[49m\u001b[38;5;241;43m.\u001b[39;49m\u001b[43mrmtree\u001b[49m\u001b[43m(\u001b[49m\u001b[38;5;124;43m\"\u001b[39;49m\u001b[38;5;124;43mtest2\u001b[39;49m\u001b[38;5;124;43m\"\u001b[39;49m\u001b[43m)\u001b[49m\n\u001b[0;32m      6\u001b[0m os\u001b[38;5;241m.\u001b[39mgetcwd()\n",
      "File \u001b[1;32m~\\anaconda3\\lib\\shutil.py:750\u001b[0m, in \u001b[0;36mrmtree\u001b[1;34m(path, ignore_errors, onerror)\u001b[0m\n\u001b[0;32m    748\u001b[0m     \u001b[38;5;66;03m# can't continue even if onerror hook returns\u001b[39;00m\n\u001b[0;32m    749\u001b[0m     \u001b[38;5;28;01mreturn\u001b[39;00m\n\u001b[1;32m--> 750\u001b[0m \u001b[38;5;28;01mreturn\u001b[39;00m \u001b[43m_rmtree_unsafe\u001b[49m\u001b[43m(\u001b[49m\u001b[43mpath\u001b[49m\u001b[43m,\u001b[49m\u001b[43m \u001b[49m\u001b[43monerror\u001b[49m\u001b[43m)\u001b[49m\n",
      "File \u001b[1;32m~\\anaconda3\\lib\\shutil.py:601\u001b[0m, in \u001b[0;36m_rmtree_unsafe\u001b[1;34m(path, onerror)\u001b[0m\n\u001b[0;32m    599\u001b[0m         entries \u001b[38;5;241m=\u001b[39m \u001b[38;5;28mlist\u001b[39m(scandir_it)\n\u001b[0;32m    600\u001b[0m \u001b[38;5;28;01mexcept\u001b[39;00m \u001b[38;5;167;01mOSError\u001b[39;00m:\n\u001b[1;32m--> 601\u001b[0m     \u001b[43monerror\u001b[49m\u001b[43m(\u001b[49m\u001b[43mos\u001b[49m\u001b[38;5;241;43m.\u001b[39;49m\u001b[43mscandir\u001b[49m\u001b[43m,\u001b[49m\u001b[43m \u001b[49m\u001b[43mpath\u001b[49m\u001b[43m,\u001b[49m\u001b[43m \u001b[49m\u001b[43msys\u001b[49m\u001b[38;5;241;43m.\u001b[39;49m\u001b[43mexc_info\u001b[49m\u001b[43m(\u001b[49m\u001b[43m)\u001b[49m\u001b[43m)\u001b[49m\n\u001b[0;32m    602\u001b[0m     entries \u001b[38;5;241m=\u001b[39m []\n\u001b[0;32m    603\u001b[0m \u001b[38;5;28;01mfor\u001b[39;00m entry \u001b[38;5;129;01min\u001b[39;00m entries:\n",
      "File \u001b[1;32m~\\anaconda3\\lib\\shutil.py:598\u001b[0m, in \u001b[0;36m_rmtree_unsafe\u001b[1;34m(path, onerror)\u001b[0m\n\u001b[0;32m    596\u001b[0m \u001b[38;5;28;01mdef\u001b[39;00m \u001b[38;5;21m_rmtree_unsafe\u001b[39m(path, onerror):\n\u001b[0;32m    597\u001b[0m     \u001b[38;5;28;01mtry\u001b[39;00m:\n\u001b[1;32m--> 598\u001b[0m         \u001b[38;5;28;01mwith\u001b[39;00m \u001b[43mos\u001b[49m\u001b[38;5;241;43m.\u001b[39;49m\u001b[43mscandir\u001b[49m\u001b[43m(\u001b[49m\u001b[43mpath\u001b[49m\u001b[43m)\u001b[49m \u001b[38;5;28;01mas\u001b[39;00m scandir_it:\n\u001b[0;32m    599\u001b[0m             entries \u001b[38;5;241m=\u001b[39m \u001b[38;5;28mlist\u001b[39m(scandir_it)\n\u001b[0;32m    600\u001b[0m     \u001b[38;5;28;01mexcept\u001b[39;00m \u001b[38;5;167;01mOSError\u001b[39;00m:\n",
      "\u001b[1;31mFileNotFoundError\u001b[0m: [WinError 3] The system cannot find the path specified: 'test2'"
     ]
    }
   ],
   "source": [
    "#remove the non empty dir\n",
    "import shutil\n",
    "import os\n",
    "\n",
    "shutil.rmtree(\"test2\")\n",
    "os.getcwd()"
   ]
  },
  {
   "cell_type": "code",
   "execution_count": null,
   "id": "bf47eb28",
   "metadata": {},
   "outputs": [],
   "source": []
  }
 ],
 "metadata": {
  "kernelspec": {
   "display_name": "Python 3 (ipykernel)",
   "language": "python",
   "name": "python3"
  },
  "language_info": {
   "codemirror_mode": {
    "name": "ipython",
    "version": 3
   },
   "file_extension": ".py",
   "mimetype": "text/x-python",
   "name": "python",
   "nbconvert_exporter": "python",
   "pygments_lexer": "ipython3",
   "version": "3.10.9"
  }
 },
 "nbformat": 4,
 "nbformat_minor": 5
}
