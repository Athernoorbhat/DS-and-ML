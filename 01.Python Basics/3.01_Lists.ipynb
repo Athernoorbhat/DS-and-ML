{
 "cells": [
  {
   "cell_type": "markdown",
   "id": "e865a0fd",
   "metadata": {},
   "source": [
    "# Lists"
   ]
  },
  {
   "cell_type": "raw",
   "id": "0d7e8dbb",
   "metadata": {},
   "source": [
    "1.Mutable i.e can be changed\n",
    "2.Sequential\n",
    "3.Collection of items\n",
    "4.[ ]\n",
    "5.Each item has index value\n"
   ]
  },
  {
   "cell_type": "code",
   "execution_count": 91,
   "id": "05455042",
   "metadata": {},
   "outputs": [
    {
     "name": "stdout",
     "output_type": "stream",
     "text": [
      "[1, 2, 3, (2, 3), 'bc']\n"
     ]
    }
   ],
   "source": [
    "lst0=[]  #empty list\n",
    "\n",
    "lst1=['one','two','three']  #list of strings\n",
    "\n",
    "lst2=[1,2,3]  #list of integers\n",
    "\n",
    "lst3=[[1,2],[3,4]]  #list of list\n",
    "\n",
    "lst4=[1,\"hi\",24,1.24] #list of differnt datatypes\n",
    "\n",
    "lst5=[1,2,3,(2,3),\"bc\"] #nested list\n",
    "\n",
    "print(lst5)"
   ]
  },
  {
   "cell_type": "markdown",
   "id": "3e206420",
   "metadata": {},
   "source": [
    "# List Length"
   ]
  },
  {
   "cell_type": "code",
   "execution_count": 7,
   "id": "d02fb1a9",
   "metadata": {},
   "outputs": [
    {
     "name": "stdout",
     "output_type": "stream",
     "text": [
      "3\n"
     ]
    }
   ],
   "source": [
    "lst=['one','two','three']\n",
    "print(len(lst))"
   ]
  },
  {
   "cell_type": "markdown",
   "id": "ffdef4f6",
   "metadata": {},
   "source": [
    "# Accessing Elements in List/Indexing"
   ]
  },
  {
   "cell_type": "code",
   "execution_count": 92,
   "id": "57cc599d",
   "metadata": {},
   "outputs": [
    {
     "name": "stdout",
     "output_type": "stream",
     "text": [
      "two\n"
     ]
    }
   ],
   "source": [
    "lst=['one','two','three']\n",
    "print(lst[1])"
   ]
  },
  {
   "cell_type": "markdown",
   "id": "21a66a67",
   "metadata": {},
   "source": [
    "# List Append"
   ]
  },
  {
   "cell_type": "code",
   "execution_count": 9,
   "id": "77765139",
   "metadata": {},
   "outputs": [
    {
     "name": "stdout",
     "output_type": "stream",
     "text": [
      "['one', 'two', 'three', 'four']\n"
     ]
    }
   ],
   "source": [
    "lst=['one','two','three']\n",
    "lst.append('four') #append at the end\n",
    "print(lst)"
   ]
  },
  {
   "cell_type": "markdown",
   "id": "a5db97d7",
   "metadata": {},
   "source": [
    "# List Insert"
   ]
  },
  {
   "cell_type": "code",
   "execution_count": 106,
   "id": "24fa2e61",
   "metadata": {},
   "outputs": [
    {
     "name": "stdout",
     "output_type": "stream",
     "text": [
      "['one', 'two', 'three', 'four']\n",
      "[1, 1, 6, 2, 8, 2.3]\n"
     ]
    }
   ],
   "source": [
    "lst=['one','two','four']\n",
    "lst.insert(2,'three') #adding elem at index 2\n",
    "print(lst)\n",
    "\n",
    "#Item Assignment\n",
    "\n",
    "lst2=[3,1,6,2,8,2.3]\n",
    "lst2[0]=1\n",
    "print(lst2)"
   ]
  },
  {
   "cell_type": "markdown",
   "id": "180af869",
   "metadata": {},
   "source": [
    "# List Remove"
   ]
  },
  {
   "cell_type": "code",
   "execution_count": 11,
   "id": "7c360a15",
   "metadata": {},
   "outputs": [
    {
     "name": "stdout",
     "output_type": "stream",
     "text": [
      "['one', 'three', 'four', 'two']\n"
     ]
    }
   ],
   "source": [
    "lst=['one', 'two', 'three', 'four','two']\n",
    "lst.remove('two') #removes ist occurance of two\n",
    "print(lst)"
   ]
  },
  {
   "cell_type": "markdown",
   "id": "c31c115e",
   "metadata": {},
   "source": [
    "# List Append\n",
    "Appends 2 Lists to Make bigger list within list"
   ]
  },
  {
   "cell_type": "code",
   "execution_count": 12,
   "id": "7f8f9e00",
   "metadata": {},
   "outputs": [
    {
     "name": "stdout",
     "output_type": "stream",
     "text": [
      "['one', 'two', 'three', 'four', ['five', 'six']]\n"
     ]
    }
   ],
   "source": [
    "lst1=['one', 'two', 'three', 'four']\n",
    "lst2=['five','six']\n",
    "lst1.append(lst2)\n",
    "print(lst1)"
   ]
  },
  {
   "cell_type": "markdown",
   "id": "8e9cd0c5",
   "metadata": {},
   "source": [
    "# List Extend\n",
    "Add Elemnts of 2nd List to Ist List"
   ]
  },
  {
   "cell_type": "code",
   "execution_count": 14,
   "id": "fa1fdb02",
   "metadata": {},
   "outputs": [
    {
     "name": "stdout",
     "output_type": "stream",
     "text": [
      "['one', 'two', 'three', 'four', 'five', 'six']\n"
     ]
    }
   ],
   "source": [
    "lst1=['one', 'two', 'three', 'four']\n",
    "lst2=['five','six']\n",
    "lst1.extend(lst2)\n",
    "print(lst1)"
   ]
  },
  {
   "cell_type": "markdown",
   "id": "eeae2adc",
   "metadata": {},
   "source": [
    "# List Delete"
   ]
  },
  {
   "cell_type": "code",
   "execution_count": 15,
   "id": "17134050",
   "metadata": {},
   "outputs": [
    {
     "name": "stdout",
     "output_type": "stream",
     "text": [
      "['one', 'three', 'four']\n"
     ]
    }
   ],
   "source": [
    "lst=['one', 'two', 'three', 'four']\n",
    "del lst[1] #index 1 elem removed\n",
    "print(lst)"
   ]
  },
  {
   "cell_type": "code",
   "execution_count": 17,
   "id": "7c3399f4",
   "metadata": {},
   "outputs": [
    {
     "name": "stdout",
     "output_type": "stream",
     "text": [
      "two\n"
     ]
    }
   ],
   "source": [
    "lst=['one', 'two', 'three', 'four']\n",
    "a = lst.pop(1) #reurns the item it removes\n",
    "print(a)"
   ]
  },
  {
   "cell_type": "code",
   "execution_count": 19,
   "id": "cffdb985",
   "metadata": {},
   "outputs": [
    {
     "name": "stdout",
     "output_type": "stream",
     "text": [
      "['one', 'three', 'four']\n"
     ]
    }
   ],
   "source": [
    "lst=['one', 'two', 'three', 'four']\n",
    "lst.pop(1) #reurns the item it removes\n",
    "print(lst)"
   ]
  },
  {
   "cell_type": "code",
   "execution_count": 68,
   "id": "7dc0e973",
   "metadata": {},
   "outputs": [
    {
     "name": "stdout",
     "output_type": "stream",
     "text": [
      "['one', 'three', 'four', 'two']\n"
     ]
    }
   ],
   "source": [
    "lst=['one', 'two', 'three', 'four','two']\n",
    "lst.remove('two') #sedhai Ist elem\n",
    "print(lst)"
   ]
  },
  {
   "cell_type": "markdown",
   "id": "2dc60b9f",
   "metadata": {},
   "source": [
    "# List Realted Keywords in Python"
   ]
  },
  {
   "cell_type": "code",
   "execution_count": 24,
   "id": "e2e0b146",
   "metadata": {},
   "outputs": [
    {
     "name": "stdout",
     "output_type": "stream",
     "text": [
      "AI\n",
      "ML\n"
     ]
    }
   ],
   "source": [
    "lst=['one','two','three', 'four']\n",
    "\n",
    "if 'two' in lst:\n",
    "    print(\"AI\")\n",
    "else:\n",
    "    print(\"NO AI\")\n",
    "\n",
    "if 'Six' not in lst:\n",
    "    print(\"ML\")"
   ]
  },
  {
   "cell_type": "markdown",
   "id": "8c722b89",
   "metadata": {},
   "source": [
    "# List Reverse"
   ]
  },
  {
   "cell_type": "code",
   "execution_count": 25,
   "id": "39c2a79a",
   "metadata": {},
   "outputs": [
    {
     "name": "stdout",
     "output_type": "stream",
     "text": [
      "['four', 'three', 'two', 'one']\n"
     ]
    }
   ],
   "source": [
    "lst=['one','two','three', 'four']\n",
    "lst.reverse()\n",
    "print(lst)"
   ]
  },
  {
   "cell_type": "markdown",
   "id": "8dff30b7",
   "metadata": {},
   "source": [
    "# List Sorting"
   ]
  },
  {
   "cell_type": "code",
   "execution_count": 28,
   "id": "f979feac",
   "metadata": {},
   "outputs": [
    {
     "name": "stdout",
     "output_type": "stream",
     "text": [
      "Sorted list : [1, 2, 3, 6, 8]\n",
      "Original List: [3, 1, 6, 2, 8]\n"
     ]
    }
   ],
   "source": [
    "lst=[3,1,6,2,8]\n",
    "sorted_lst=sorted(lst)\n",
    "print(\"Sorted list :\",sorted_lst) #ascendiing order\n",
    "print(\"Original List:\",lst)"
   ]
  },
  {
   "cell_type": "code",
   "execution_count": 32,
   "id": "cae28666",
   "metadata": {},
   "outputs": [
    {
     "name": "stdout",
     "output_type": "stream",
     "text": [
      "Reverse Sorted list : [8, 6, 3, 2, 1]\n",
      "Original List: [3, 1, 6, 2, 8]\n"
     ]
    }
   ],
   "source": [
    "lst=[3,1,6,2,8]\n",
    "sorted_lst=sorted(lst,reverse=True) #descending order\n",
    "print(\"Reverse Sorted list :\",sorted_lst)\n",
    "print(\"Original List:\",lst)"
   ]
  },
  {
   "cell_type": "code",
   "execution_count": 35,
   "id": "5f9b8d13",
   "metadata": {},
   "outputs": [
    {
     "name": "stdout",
     "output_type": "stream",
     "text": [
      "[1, 2, 2.3, 3, 6, 8]\n"
     ]
    }
   ],
   "source": [
    "lst=[3,1,6,2,8,2.3]\n",
    "lst.sort()\n",
    "print(lst)"
   ]
  },
  {
   "cell_type": "code",
   "execution_count": 36,
   "id": "9f1ecf97",
   "metadata": {},
   "outputs": [
    {
     "ename": "TypeError",
     "evalue": "'<' not supported between instances of 'str' and 'int'",
     "output_type": "error",
     "traceback": [
      "\u001b[1;31m---------------------------------------------------------------------------\u001b[0m",
      "\u001b[1;31mTypeError\u001b[0m                                 Traceback (most recent call last)",
      "Cell \u001b[1;32mIn[36], line 2\u001b[0m\n\u001b[0;32m      1\u001b[0m lst\u001b[38;5;241m=\u001b[39m[\u001b[38;5;241m3\u001b[39m,\u001b[38;5;241m1\u001b[39m,\u001b[38;5;241m6\u001b[39m,\u001b[38;5;241m2\u001b[39m,\u001b[38;5;241m8\u001b[39m,\u001b[38;5;241m2.3\u001b[39m,\u001b[38;5;124m'\u001b[39m\u001b[38;5;124ma\u001b[39m\u001b[38;5;124m'\u001b[39m]\n\u001b[1;32m----> 2\u001b[0m \u001b[43mlst\u001b[49m\u001b[38;5;241;43m.\u001b[39;49m\u001b[43msort\u001b[49m\u001b[43m(\u001b[49m\u001b[43m)\u001b[49m\n\u001b[0;32m      3\u001b[0m \u001b[38;5;28mprint\u001b[39m(lst)\n",
      "\u001b[1;31mTypeError\u001b[0m: '<' not supported between instances of 'str' and 'int'"
     ]
    }
   ],
   "source": [
    "lst=[3,1,6,2,8,2.3,'a']\n",
    "lst.sort()\n",
    "print(lst)"
   ]
  },
  {
   "cell_type": "markdown",
   "id": "13c57d16",
   "metadata": {},
   "source": [
    "# List Having Multiple Refrences"
   ]
  },
  {
   "cell_type": "code",
   "execution_count": 39,
   "id": "616a33de",
   "metadata": {},
   "outputs": [
    {
     "name": "stdout",
     "output_type": "stream",
     "text": [
      "[1, 2, 3, 4, 5, 6]\n",
      "[1, 2, 3, 4, 5, 6]\n"
     ]
    }
   ],
   "source": [
    "lst=[1,2,3,4,5]\n",
    "abc=lst\n",
    "abc.append(6)\n",
    "print(abc)\n",
    "print(lst)"
   ]
  },
  {
   "cell_type": "markdown",
   "id": "657dc34b",
   "metadata": {},
   "source": [
    "# String Split to Create a List"
   ]
  },
  {
   "cell_type": "code",
   "execution_count": 40,
   "id": "d9612461",
   "metadata": {},
   "outputs": [
    {
     "name": "stdout",
     "output_type": "stream",
     "text": [
      "['one', 'two', 'three', 'four']\n"
     ]
    }
   ],
   "source": [
    "s=\"one,two,three,four\"\n",
    "slst=s.split(',')\n",
    "print(slst) #returns list"
   ]
  },
  {
   "cell_type": "code",
   "execution_count": 41,
   "id": "bb8e8ef3",
   "metadata": {},
   "outputs": [
    {
     "name": "stdout",
     "output_type": "stream",
     "text": [
      "['one', 'two', 'three', 'four']\n"
     ]
    }
   ],
   "source": [
    "s=\"one:two:three:four\"\n",
    "slst=s.split(':')\n",
    "print(slst) #returns list"
   ]
  },
  {
   "cell_type": "code",
   "execution_count": 43,
   "id": "f89c763d",
   "metadata": {},
   "outputs": [
    {
     "name": "stdout",
     "output_type": "stream",
     "text": [
      "['this', 'is', 'the', 'introduction', 'to', 'AI', 'ML']\n"
     ]
    }
   ],
   "source": [
    "s =\"this is the introduction to AI ML\"\n",
    "slst=s.split() #space or tab pai \n",
    "print(slst)"
   ]
  },
  {
   "cell_type": "markdown",
   "id": "5ff71431",
   "metadata": {},
   "source": [
    "# list Indexing"
   ]
  },
  {
   "cell_type": "code",
   "execution_count": 95,
   "id": "017b7e4c",
   "metadata": {},
   "outputs": [
    {
     "name": "stdout",
     "output_type": "stream",
     "text": [
      "2\n",
      "5\n",
      "[2, 3]\n"
     ]
    }
   ],
   "source": [
    "lst =[1,2,3,4,5]\n",
    "print(lst[1])\n",
    "print(lst[-1])\n",
    "\n",
    "#list inside the list\n",
    "\n",
    "lst2=[1,2,3,4,5,[2,3]]\n",
    "print(lst2[5])"
   ]
  },
  {
   "cell_type": "markdown",
   "id": "09021ff0",
   "metadata": {},
   "source": [
    "# List Slicing"
   ]
  },
  {
   "cell_type": "code",
   "execution_count": 55,
   "id": "1eb20cdb",
   "metadata": {},
   "outputs": [
    {
     "name": "stdout",
     "output_type": "stream",
     "text": [
      "[1, 2, 3, 4, 5, 6, 7, 8, 9, 10]\n",
      "[1, 2, 3]\n",
      "[1, 2, 3, 4]\n",
      "[1, 3, 5, 7, 9]\n",
      "[1, 2, 3, 4, 5, 6, 7, 8, 9, 10]\n",
      "[3, 6, 9]\n"
     ]
    }
   ],
   "source": [
    "lst=[1,2,3,4,5,6,7,8,9,10]\n",
    "print(lst[:])\n",
    "print(lst[:3])     #n-1\n",
    "print(lst[0:4])\n",
    "print(lst[0:9:2]) #start,stop,step size\n",
    "print(lst[::1])   #start,stop,step size\n",
    "print(lst[2::3])"
   ]
  },
  {
   "cell_type": "markdown",
   "id": "4f13d17d",
   "metadata": {},
   "source": [
    "# List Extend Using \"+\""
   ]
  },
  {
   "cell_type": "code",
   "execution_count": 65,
   "id": "62d87319",
   "metadata": {},
   "outputs": [
    {
     "name": "stdout",
     "output_type": "stream",
     "text": [
      "[1, 2, 3, 4, 5, 'hi', 'hello', 'how', 'are']\n",
      "[1, 2, 3, 4, 5, ['hi', 'hello', 'how', 'are']]\n"
     ]
    }
   ],
   "source": [
    "lst1=[1,2,3,4,5]\n",
    "lst2=['hi','hello','how','are']\n",
    "new_list=lst1+lst2\n",
    "print(new_list)\n",
    "\n",
    "#append -> list within list add \n",
    "lst1.append(lst2)\n",
    "print(lst1)\n"
   ]
  },
  {
   "cell_type": "code",
   "execution_count": 67,
   "id": "4b404b28",
   "metadata": {},
   "outputs": [
    {
     "name": "stdout",
     "output_type": "stream",
     "text": [
      "[1, 2, 3, 4, 5, 'hi', 'hello', 'how', 'are']\n"
     ]
    }
   ],
   "source": [
    "lst1=[1,2,3,4,5]\n",
    "lst2=['hi','hello','how','are']\n",
    "\n",
    "\n",
    "#extend\n",
    "lst1.extend(lst2)\n",
    "print(lst1)"
   ]
  },
  {
   "cell_type": "code",
   "execution_count": 98,
   "id": "03177d30",
   "metadata": {},
   "outputs": [
    {
     "name": "stdout",
     "output_type": "stream",
     "text": [
      "['ather', 'ather', 'ather', 'ather']\n"
     ]
    }
   ],
   "source": [
    "lst=[\"ather\"]*4\n",
    "print(lst)"
   ]
  },
  {
   "cell_type": "markdown",
   "id": "c5cc5532",
   "metadata": {},
   "source": [
    "# List Count"
   ]
  },
  {
   "cell_type": "code",
   "execution_count": 100,
   "id": "6a589b52",
   "metadata": {},
   "outputs": [
    {
     "name": "stdout",
     "output_type": "stream",
     "text": [
      "3\n",
      "11\n",
      "1\n",
      "0\n"
     ]
    }
   ],
   "source": [
    "lst=[1,2,3,4,5,6,7,8,1,9,1]\n",
    "\n",
    "#frequency of 1 in lst\n",
    "\n",
    "print(lst.count(1))\n",
    "\n",
    "print(len(lst))\n",
    "\n",
    "print(lst.count(9))\n",
    "\n",
    "print(lst.count(10))"
   ]
  },
  {
   "cell_type": "markdown",
   "id": "01ad547a",
   "metadata": {},
   "source": [
    "# List looping"
   ]
  },
  {
   "cell_type": "code",
   "execution_count": 74,
   "id": "0bc0dc4e",
   "metadata": {},
   "outputs": [
    {
     "name": "stdout",
     "output_type": "stream",
     "text": [
      "one\n",
      "two\n",
      "three\n",
      "four\n"
     ]
    }
   ],
   "source": [
    "lst =['one','two','three','four']\n",
    "\n",
    "for elem in lst:\n",
    "    print(elem)"
   ]
  },
  {
   "cell_type": "markdown",
   "id": "50057ad5",
   "metadata": {},
   "source": [
    "# List Comprehensions"
   ]
  },
  {
   "cell_type": "code",
   "execution_count": 75,
   "id": "9d225bf2",
   "metadata": {},
   "outputs": [
    {
     "name": "stdout",
     "output_type": "stream",
     "text": [
      "[0, 1, 4, 9, 16, 25, 36, 49, 64, 81]\n"
     ]
    }
   ],
   "source": [
    "#without list Comprehension\n",
    "squre=[]\n",
    "for i in range(10):\n",
    "    squre.append(i**2)\n",
    "print(squre)"
   ]
  },
  {
   "cell_type": "code",
   "execution_count": 76,
   "id": "00b2dd40",
   "metadata": {},
   "outputs": [
    {
     "name": "stdout",
     "output_type": "stream",
     "text": [
      "[0, 1, 4, 9, 16, 25, 36, 49, 64, 81]\n"
     ]
    }
   ],
   "source": [
    "#using list Comprehension\n",
    "squre=[i**2 for i in range(10)]\n",
    "print(squre)"
   ]
  },
  {
   "cell_type": "code",
   "execution_count": 85,
   "id": "229bccf5",
   "metadata": {},
   "outputs": [
    {
     "name": "stdout",
     "output_type": "stream",
     "text": [
      "[-20, -40, 20, 40, 100]\n",
      "[10, 20, 50]\n",
      "[(0, 0), (1, 1), (2, 4), (3, 9), (4, 16), (5, 25), (6, 36), (7, 49), (8, 64), (9, 81)]\n",
      "[(10, 100), (20, 400), (50, 2500)]\n"
     ]
    }
   ],
   "source": [
    "lst =[-10,-20,10,20,50]\n",
    "\n",
    "#create new list with values doubled\n",
    "new_list=[i*2 for i in lst ]\n",
    "print(new_list)\n",
    "\n",
    "\n",
    "#filter the list exculding the -ve no\n",
    "new_list2=[i for i in lst if i>0]\n",
    "print(new_list2)\n",
    "\n",
    "#create  a list of tuples like (no, sq_of_no)\n",
    "new_list3=[(i,i**2) for i in range(10)]\n",
    "print(new_list3)\n",
    "\n",
    "new_list3=[(i,i**2) for i in lst if i>0]\n",
    "print(new_list3)\n"
   ]
  },
  {
   "cell_type": "markdown",
   "id": "f2ffa359",
   "metadata": {},
   "source": [
    "# Nested List Comprehension\n",
    "TRANSPOSE OF MATRIX"
   ]
  },
  {
   "cell_type": "code",
   "execution_count": 87,
   "id": "7339df73",
   "metadata": {},
   "outputs": [
    {
     "name": "stdout",
     "output_type": "stream",
     "text": [
      "[[1, 5, 9], [2, 6, 10], [3, 7, 11], [4, 8, 12]]\n"
     ]
    }
   ],
   "source": [
    "#without list comprehension\n",
    "\n",
    "matrix=[\n",
    "    [1,2,3,4],\n",
    "    [5,6,7,8],\n",
    "    [9,10,11,12]\n",
    "       ] \n",
    "#matrix as list of lists\n",
    "\n",
    "#transpose of matrix without list comprehension\n",
    "transposed_matrix=[]\n",
    "for i in range (4): #4 columns\n",
    "    lst = []\n",
    "    for row in matrix:\n",
    "        lst.append(row[i])\n",
    "    transposed_matrix.append(lst)\n",
    "print(transposed_matrix)"
   ]
  },
  {
   "cell_type": "code",
   "execution_count": 89,
   "id": "976c2033",
   "metadata": {},
   "outputs": [
    {
     "name": "stdout",
     "output_type": "stream",
     "text": [
      "[[1, 5, 9], [2, 6, 10], [3, 7, 11], [4, 8, 12]]\n"
     ]
    }
   ],
   "source": [
    "#with list comprehension\n",
    "transposed_matrix=[[row[i] for row in matrix] for i in range(4)]\n",
    "print(transposed_matrix)"
   ]
  },
  {
   "cell_type": "markdown",
   "id": "46daea6c",
   "metadata": {},
   "source": [
    "# MISC"
   ]
  },
  {
   "cell_type": "code",
   "execution_count": 102,
   "id": "62c7ecfe",
   "metadata": {},
   "outputs": [
    {
     "name": "stdout",
     "output_type": "stream",
     "text": [
      "8\n",
      "1\n",
      "22.3\n"
     ]
    }
   ],
   "source": [
    "lst=[3,1,6,2,8,2.3]\n",
    "print(max(lst))\n",
    "print(min(lst))\n",
    "print(sum(lst))"
   ]
  },
  {
   "cell_type": "code",
   "execution_count": 104,
   "id": "c09fd2dc",
   "metadata": {},
   "outputs": [
    {
     "name": "stdout",
     "output_type": "stream",
     "text": [
      "[1, 1, 6, 2, 8, 2.3]\n"
     ]
    }
   ],
   "source": []
  },
  {
   "cell_type": "code",
   "execution_count": null,
   "id": "2aebecce",
   "metadata": {},
   "outputs": [],
   "source": []
  }
 ],
 "metadata": {
  "kernelspec": {
   "display_name": "Python 3 (ipykernel)",
   "language": "python",
   "name": "python3"
  },
  "language_info": {
   "codemirror_mode": {
    "name": "ipython",
    "version": 3
   },
   "file_extension": ".py",
   "mimetype": "text/x-python",
   "name": "python",
   "nbconvert_exporter": "python",
   "pygments_lexer": "ipython3",
   "version": "3.10.9"
  }
 },
 "nbformat": 4,
 "nbformat_minor": 5
}
