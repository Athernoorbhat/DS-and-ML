{
 "cells": [
  {
   "cell_type": "markdown",
   "id": "3527420d",
   "metadata": {},
   "source": [
    "# Sets"
   ]
  },
  {
   "cell_type": "raw",
   "id": "f2fba8d1",
   "metadata": {},
   "source": [
    "1.Unordered (can not be index) collection of items\n",
    "2.Mutable like lists\n",
    "3.UNIQUE"
   ]
  },
  {
   "cell_type": "code",
   "execution_count": 3,
   "id": "e96e3cc9",
   "metadata": {},
   "outputs": [
    {
     "name": "stdout",
     "output_type": "stream",
     "text": [
      "{1, 2, 3}\n",
      "<class 'set'>\n"
     ]
    }
   ],
   "source": [
    "s = {1,1,2,3} #repeted elem not allowed\n",
    "print(s)\n",
    "print(type(s))"
   ]
  },
  {
   "cell_type": "markdown",
   "id": "2685b01a",
   "metadata": {},
   "source": [
    "# SET CONSTRUCTOR"
   ]
  },
  {
   "cell_type": "code",
   "execution_count": 4,
   "id": "57d48a8c",
   "metadata": {},
   "outputs": [
    {
     "name": "stdout",
     "output_type": "stream",
     "text": [
      "{1, 2, 3, 4, 5}\n"
     ]
    }
   ],
   "source": [
    "# we CAN make set from list using SET CONSTRUCTOR\n",
    "s=set([1,2,3,4,5])\n",
    "print(s)"
   ]
  },
  {
   "cell_type": "code",
   "execution_count": 5,
   "id": "cdbd0dc9",
   "metadata": {
    "scrolled": true
   },
   "outputs": [
    {
     "name": "stdout",
     "output_type": "stream",
     "text": [
      "<class 'set'>\n"
     ]
    }
   ],
   "source": [
    "s= set()\n",
    "print(type(s))"
   ]
  },
  {
   "cell_type": "markdown",
   "id": "83b8b3bf",
   "metadata": {},
   "source": [
    "# INDEXING NOT ALLOWED"
   ]
  },
  {
   "cell_type": "code",
   "execution_count": 60,
   "id": "7d6d7a5d",
   "metadata": {},
   "outputs": [
    {
     "ename": "TypeError",
     "evalue": "'set' object does not support item assignment",
     "output_type": "error",
     "traceback": [
      "\u001b[1;31m---------------------------------------------------------------------------\u001b[0m",
      "\u001b[1;31mTypeError\u001b[0m                                 Traceback (most recent call last)",
      "Cell \u001b[1;32mIn[60], line 5\u001b[0m\n\u001b[0;32m      2\u001b[0m \u001b[38;5;66;03m#print(s[1])\u001b[39;00m\n\u001b[0;32m      4\u001b[0m s2\u001b[38;5;241m=\u001b[39m{\u001b[38;5;241m1\u001b[39m,\u001b[38;5;241m2\u001b[39m,\u001b[38;5;241m3\u001b[39m,\u001b[38;5;241m4\u001b[39m,\u001b[38;5;241m5\u001b[39m,\u001b[38;5;241m6\u001b[39m}\n\u001b[1;32m----> 5\u001b[0m s2[\u001b[38;5;241m0\u001b[39m]\u001b[38;5;241m=\u001b[39m\u001b[38;5;241m2\u001b[39m\n\u001b[0;32m      6\u001b[0m \u001b[38;5;28mprint\u001b[39m(s2)\n",
      "\u001b[1;31mTypeError\u001b[0m: 'set' object does not support item assignment"
     ]
    }
   ],
   "source": [
    "s={1,2,3,4,5,6}\n",
    "print(s[1])\n"
   ]
  },
  {
   "cell_type": "markdown",
   "id": "ace99697",
   "metadata": {},
   "source": [
    "# Item Assignment Not Allowed"
   ]
  },
  {
   "cell_type": "code",
   "execution_count": null,
   "id": "34a071ff",
   "metadata": {},
   "outputs": [],
   "source": [
    "s2={1,2,3,4,5,6}\n",
    "s2[0]=2\n",
    "print(s2)"
   ]
  },
  {
   "cell_type": "markdown",
   "id": "8a48187c",
   "metadata": {},
   "source": [
    "# ADD Elemnets to Set"
   ]
  },
  {
   "cell_type": "code",
   "execution_count": 26,
   "id": "ab299a9c",
   "metadata": {},
   "outputs": [
    {
     "name": "stdout",
     "output_type": "stream",
     "text": [
      "{1, 2, 3}\n"
     ]
    }
   ],
   "source": [
    "s={1,2}\n",
    "s.add(3) #single argumnet\n",
    "print(s)"
   ]
  },
  {
   "cell_type": "code",
   "execution_count": 56,
   "id": "f9fb4e89",
   "metadata": {},
   "outputs": [
    {
     "name": "stdout",
     "output_type": "stream",
     "text": [
      "{1, 2, 3, 4, 5, 6}\n"
     ]
    },
    {
     "ename": "TypeError",
     "evalue": "'set' object does not support item assignment",
     "output_type": "error",
     "traceback": [
      "\u001b[1;31m---------------------------------------------------------------------------\u001b[0m",
      "\u001b[1;31mTypeError\u001b[0m                                 Traceback (most recent call last)",
      "Cell \u001b[1;32mIn[56], line 5\u001b[0m\n\u001b[0;32m      2\u001b[0m \u001b[38;5;28mprint\u001b[39m(s)\n\u001b[0;32m      4\u001b[0m set1\u001b[38;5;241m=\u001b[39m{\u001b[38;5;241m1\u001b[39m,\u001b[38;5;241m2\u001b[39m,\u001b[38;5;241m3\u001b[39m,\u001b[38;5;241m4\u001b[39m,\u001b[38;5;241m5\u001b[39m}\n\u001b[1;32m----> 5\u001b[0m set1[\u001b[38;5;241m1\u001b[39m]\u001b[38;5;241m=\u001b[39m\u001b[38;5;241m6\u001b[39m\n\u001b[0;32m      6\u001b[0m \u001b[38;5;28mprint\u001b[39m(set1)\n",
      "\u001b[1;31mTypeError\u001b[0m: 'set' object does not support item assignment"
     ]
    }
   ],
   "source": [
    "s.update([4,5,6]) #single param\n",
    "print(s)\n"
   ]
  },
  {
   "cell_type": "code",
   "execution_count": 18,
   "id": "a1b8094f",
   "metadata": {},
   "outputs": [
    {
     "name": "stdout",
     "output_type": "stream",
     "text": [
      "{1, 2, 3, 4, 5, 6, 7, 8, 9, 10}\n"
     ]
    }
   ],
   "source": [
    "s.update([7,8],{9,10,2,3}) #multiple param list and Set\n",
    "print(s)"
   ]
  },
  {
   "cell_type": "code",
   "execution_count": 58,
   "id": "929d17b4",
   "metadata": {},
   "outputs": [
    {
     "ename": "TypeError",
     "evalue": "'set' object does not support item assignment",
     "output_type": "error",
     "traceback": [
      "\u001b[1;31m---------------------------------------------------------------------------\u001b[0m",
      "\u001b[1;31mTypeError\u001b[0m                                 Traceback (most recent call last)",
      "Cell \u001b[1;32mIn[58], line 3\u001b[0m\n\u001b[0;32m      1\u001b[0m \u001b[38;5;66;03m#NO Item assignment\u001b[39;00m\n\u001b[0;32m      2\u001b[0m set1\u001b[38;5;241m=\u001b[39m{\u001b[38;5;241m1\u001b[39m,\u001b[38;5;241m2\u001b[39m,\u001b[38;5;241m3\u001b[39m,\u001b[38;5;241m4\u001b[39m,\u001b[38;5;241m5\u001b[39m}\n\u001b[1;32m----> 3\u001b[0m set1[\u001b[38;5;241m1\u001b[39m]\u001b[38;5;241m=\u001b[39m\u001b[38;5;241m6\u001b[39m\n\u001b[0;32m      4\u001b[0m \u001b[38;5;28mprint\u001b[39m(set1)\n",
      "\u001b[1;31mTypeError\u001b[0m: 'set' object does not support item assignment"
     ]
    }
   ],
   "source": [
    "#NO Item assignment\n",
    "set1={1,2,3,4,5}\n",
    "set1[1]=6\n",
    "print(set1)"
   ]
  },
  {
   "cell_type": "markdown",
   "id": "833c096e",
   "metadata": {},
   "source": [
    "# Removing Elements from Set"
   ]
  },
  {
   "cell_type": "code",
   "execution_count": 19,
   "id": "deb4c9dc",
   "metadata": {},
   "outputs": [
    {
     "name": "stdout",
     "output_type": "stream",
     "text": [
      "{1, 2, 3, 5, 6, 7, 8, 9, 10}\n"
     ]
    }
   ],
   "source": [
    "s={1, 2, 3, 4, 5, 6, 7, 8, 9, 10}\n",
    "s.discard(4)  # 4 is removed from set\n",
    "print(s)"
   ]
  },
  {
   "cell_type": "code",
   "execution_count": 22,
   "id": "420da20c",
   "metadata": {},
   "outputs": [
    {
     "name": "stdout",
     "output_type": "stream",
     "text": [
      "{1, 2, 3, 5, 6, 7, 8, 9, 10}\n"
     ]
    }
   ],
   "source": [
    "s={1, 2, 3, 4, 5, 6, 7, 8, 9, 10}\n",
    "s.remove(4)  # 4 is removed from set\n",
    "print(s)"
   ]
  },
  {
   "cell_type": "code",
   "execution_count": 28,
   "id": "39c6031c",
   "metadata": {},
   "outputs": [
    {
     "name": "stdout",
     "output_type": "stream",
     "text": [
      "{2, 3, 4, 5, 6, 7, 8, 9, 10}\n"
     ]
    }
   ],
   "source": [
    "s={1, 2, 3, 4, 5, 6, 7, 8, 9, 10}\n",
    "s.pop()  #random elem is removed from set\n",
    "print(s)"
   ]
  },
  {
   "cell_type": "code",
   "execution_count": 30,
   "id": "042195d9",
   "metadata": {},
   "outputs": [
    {
     "name": "stdout",
     "output_type": "stream",
     "text": [
      "set()\n"
     ]
    }
   ],
   "source": [
    "s={1, 2, 3, 4, 5, 6, 7, 8, 9, 10}\n",
    "s.clear()\n",
    "print(s)\n",
    "#empty set is returned"
   ]
  },
  {
   "cell_type": "markdown",
   "id": "c6fdbcb1",
   "metadata": {},
   "source": [
    "# Python SET Operations"
   ]
  },
  {
   "cell_type": "code",
   "execution_count": 37,
   "id": "c0a31c52",
   "metadata": {},
   "outputs": [
    {
     "name": "stdout",
     "output_type": "stream",
     "text": [
      "{1, 2, 3, 4, 5, 6, 7}\n",
      "{1, 2, 3, 4, 5, 6, 7}\n"
     ]
    }
   ],
   "source": [
    "#UNION\n",
    "set1={1,2,3,4,5}\n",
    "set2={3,4,5,6,7}\n",
    "print(set1|set2)\n",
    "\n",
    "#UNION\n",
    "set1={1,2,3,4,5}\n",
    "set2={3,4,5,6,7}\n",
    "print(set1.union(set2))"
   ]
  },
  {
   "cell_type": "code",
   "execution_count": 36,
   "id": "9eccb346",
   "metadata": {},
   "outputs": [
    {
     "name": "stdout",
     "output_type": "stream",
     "text": [
      "{3, 4, 5}\n",
      "{3, 4, 5}\n"
     ]
    }
   ],
   "source": [
    "#INTERSECTION\n",
    "set1={1,2,3,4,5}\n",
    "set2={3,4,5,6,7}\n",
    "print(set1 & set2)\n",
    "\n",
    "#INTERSECTION\n",
    "set1={1,2,3,4,5}\n",
    "set2={3,4,5,6,7}\n",
    "print(set1.intersection(set2))"
   ]
  },
  {
   "cell_type": "code",
   "execution_count": 40,
   "id": "8bd3b6ee",
   "metadata": {},
   "outputs": [
    {
     "name": "stdout",
     "output_type": "stream",
     "text": [
      "{1, 2}\n",
      "{6, 7}\n",
      "{1, 2}\n"
     ]
    }
   ],
   "source": [
    "#SET DIFFERENCE\n",
    "set1={1,2,3,4,5}\n",
    "set2={3,4,5,6,7}\n",
    "print(set1-set2)\n",
    "print(set2-set1)\n",
    "\n",
    "#SET DIFFERENCE\n",
    "set1={1,2,3,4,5}\n",
    "set2={3,4,5,6,7}\n",
    "print(set1.difference(set2))\n"
   ]
  },
  {
   "cell_type": "code",
   "execution_count": 43,
   "id": "f618e2ab",
   "metadata": {},
   "outputs": [
    {
     "name": "stdout",
     "output_type": "stream",
     "text": [
      "{1, 2, 6, 7}\n",
      "{1, 2, 6, 7}\n"
     ]
    }
   ],
   "source": [
    "#SYMMETRIC DIFFERENCE (A ∪ B)-( A ∩ B)\n",
    "set1={1,2,3,4,5}\n",
    "set2={3,4,5,6,7}\n",
    "print(set1^set2)\n",
    "\n",
    "#SYMMETRIC DIFFERENCE (A ∪ B)-( A ∩ B)\n",
    "set1={1,2,3,4,5}\n",
    "set2={3,4,5,6,7}\n",
    "print(set1.symmetric_difference(set2))"
   ]
  },
  {
   "cell_type": "code",
   "execution_count": 46,
   "id": "ef910922",
   "metadata": {},
   "outputs": [
    {
     "name": "stdout",
     "output_type": "stream",
     "text": [
      "set x is subset of y ? : False\n",
      "set y is subset of x ? : True\n"
     ]
    }
   ],
   "source": [
    "#ISSUBSET\n",
    "x = {\"a\",\"b\",\"c\",\"d\",\"e\"}\n",
    "y = {\"c\",\"d\"}\n",
    "\n",
    "#check if x subset of y\n",
    "print(\"set x is subset of y ? :\", x.issubset(y))\n",
    "\n",
    "#check if y subset of x\n",
    "print(\"set y is subset of x ? :\", y.issubset(x))"
   ]
  },
  {
   "cell_type": "markdown",
   "id": "9282833b",
   "metadata": {},
   "source": [
    "# FROZEN Set"
   ]
  },
  {
   "cell_type": "raw",
   "id": "1ed0e1e0",
   "metadata": {},
   "source": [
    "1.Character of set but can't be changed once assigned\n",
    "2.Function frozenset\n",
    "3.Supports copy(),differenc(),intersection(),isdisjoint(),issubset(),issuperset(),symmetric_difference() and union()\n",
    "4.Immutable  Set so can't add or remove elements\n",
    "5.Sets being mutable cant be used as disctionary key but Frozen sets can be used as keys to a dictionary"
   ]
  },
  {
   "cell_type": "code",
   "execution_count": 51,
   "id": "141d6a9b",
   "metadata": {},
   "outputs": [
    {
     "ename": "AttributeError",
     "evalue": "'frozenset' object has no attribute 'add'",
     "output_type": "error",
     "traceback": [
      "\u001b[1;31m---------------------------------------------------------------------------\u001b[0m",
      "\u001b[1;31mAttributeError\u001b[0m                            Traceback (most recent call last)",
      "Cell \u001b[1;32mIn[51], line 5\u001b[0m\n\u001b[0;32m      2\u001b[0m set2\u001b[38;5;241m=\u001b[39m\u001b[38;5;28mfrozenset\u001b[39m([\u001b[38;5;241m3\u001b[39m,\u001b[38;5;241m4\u001b[39m,\u001b[38;5;241m5\u001b[39m,\u001b[38;5;241m6\u001b[39m])\n\u001b[0;32m      4\u001b[0m \u001b[38;5;66;03m#doesnt support adding \u001b[39;00m\n\u001b[1;32m----> 5\u001b[0m \u001b[43mset1\u001b[49m\u001b[38;5;241;43m.\u001b[39;49m\u001b[43madd\u001b[49m(\u001b[38;5;241m5\u001b[39m)\n",
      "\u001b[1;31mAttributeError\u001b[0m: 'frozenset' object has no attribute 'add'"
     ]
    }
   ],
   "source": [
    "set1=frozenset([1,2,3,4])\n",
    "set2=frozenset([3,4,5,6])\n",
    "\n",
    "#doesnt support adding \n",
    "set1.add(5)\n",
    "\n"
   ]
  },
  {
   "cell_type": "code",
   "execution_count": 52,
   "id": "0feea0f2",
   "metadata": {},
   "outputs": [
    {
     "ename": "TypeError",
     "evalue": "'frozenset' object is not subscriptable",
     "output_type": "error",
     "traceback": [
      "\u001b[1;31m---------------------------------------------------------------------------\u001b[0m",
      "\u001b[1;31mTypeError\u001b[0m                                 Traceback (most recent call last)",
      "Cell \u001b[1;32mIn[52], line 2\u001b[0m\n\u001b[0;32m      1\u001b[0m \u001b[38;5;66;03m#doesnt support indexing\u001b[39;00m\n\u001b[1;32m----> 2\u001b[0m \u001b[38;5;28mprint\u001b[39m(\u001b[43mset1\u001b[49m\u001b[43m[\u001b[49m\u001b[38;5;241;43m1\u001b[39;49m\u001b[43m]\u001b[49m)\n",
      "\u001b[1;31mTypeError\u001b[0m: 'frozenset' object is not subscriptable"
     ]
    }
   ],
   "source": [
    "#doesnt support indexing\n",
    "print(set1[1])"
   ]
  },
  {
   "cell_type": "code",
   "execution_count": 53,
   "id": "7809e1b0",
   "metadata": {},
   "outputs": [
    {
     "name": "stdout",
     "output_type": "stream",
     "text": [
      "frozenset({1, 2, 3, 4, 5, 6})\n",
      "frozenset({3, 4})\n",
      "frozenset({1, 2, 5, 6})\n"
     ]
    }
   ],
   "source": [
    "print(set1 | set2 ) #union\n",
    "print(set1 & set2 ) #intersection\n",
    "print(set1 ^ set2 ) #symm diff\n"
   ]
  },
  {
   "cell_type": "code",
   "execution_count": null,
   "id": "a3eb4c06",
   "metadata": {},
   "outputs": [],
   "source": []
  }
 ],
 "metadata": {
  "kernelspec": {
   "display_name": "Python 3 (ipykernel)",
   "language": "python",
   "name": "python3"
  },
  "language_info": {
   "codemirror_mode": {
    "name": "ipython",
    "version": 3
   },
   "file_extension": ".py",
   "mimetype": "text/x-python",
   "name": "python",
   "nbconvert_exporter": "python",
   "pygments_lexer": "ipython3",
   "version": "3.10.9"
  }
 },
 "nbformat": 4,
 "nbformat_minor": 5
}
