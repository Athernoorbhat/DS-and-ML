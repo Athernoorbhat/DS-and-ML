{
 "cells": [
  {
   "cell_type": "markdown",
   "id": "b1a7c115",
   "metadata": {},
   "source": [
    "# Python Errors and Built-in-Exceptions"
   ]
  },
  {
   "cell_type": "code",
   "execution_count": null,
   "id": "6ef3714b",
   "metadata": {},
   "outputs": [],
   "source": []
  },
  {
   "cell_type": "markdown",
   "id": "feff3099",
   "metadata": {},
   "source": [
    "# Error Examples"
   ]
  },
  {
   "cell_type": "code",
   "execution_count": 1,
   "id": "06f17fa9",
   "metadata": {},
   "outputs": [
    {
     "ename": "SyntaxError",
     "evalue": "expected ':' (3228524563.py, line 1)",
     "output_type": "error",
     "traceback": [
      "\u001b[1;36m  Cell \u001b[1;32mIn[1], line 1\u001b[1;36m\u001b[0m\n\u001b[1;33m    if a < 10\u001b[0m\n\u001b[1;37m             ^\u001b[0m\n\u001b[1;31mSyntaxError\u001b[0m\u001b[1;31m:\u001b[0m expected ':'\n"
     ]
    }
   ],
   "source": [
    "if a < 10"
   ]
  },
  {
   "cell_type": "code",
   "execution_count": 2,
   "id": "3c418920",
   "metadata": {},
   "outputs": [
    {
     "ename": "ZeroDivisionError",
     "evalue": "division by zero",
     "output_type": "error",
     "traceback": [
      "\u001b[1;31m---------------------------------------------------------------------------\u001b[0m",
      "\u001b[1;31mZeroDivisionError\u001b[0m                         Traceback (most recent call last)",
      "Cell \u001b[1;32mIn[2], line 1\u001b[0m\n\u001b[1;32m----> 1\u001b[0m \u001b[38;5;241;43m1\u001b[39;49m\u001b[38;5;241;43m/\u001b[39;49m\u001b[38;5;241;43m0\u001b[39;49m\n",
      "\u001b[1;31mZeroDivisionError\u001b[0m: division by zero"
     ]
    }
   ],
   "source": [
    "1/0"
   ]
  },
  {
   "cell_type": "code",
   "execution_count": 4,
   "id": "dd825204",
   "metadata": {},
   "outputs": [
    {
     "ename": "FileNotFoundError",
     "evalue": "[Errno 2] No such file or directory: 'test.txt'",
     "output_type": "error",
     "traceback": [
      "\u001b[1;31m---------------------------------------------------------------------------\u001b[0m",
      "\u001b[1;31mFileNotFoundError\u001b[0m                         Traceback (most recent call last)",
      "Cell \u001b[1;32mIn[4], line 1\u001b[0m\n\u001b[1;32m----> 1\u001b[0m \u001b[38;5;28;43mopen\u001b[39;49m\u001b[43m(\u001b[49m\u001b[38;5;124;43m'\u001b[39;49m\u001b[38;5;124;43mtest.txt\u001b[39;49m\u001b[38;5;124;43m'\u001b[39;49m\u001b[43m)\u001b[49m\n",
      "File \u001b[1;32m~\\anaconda3\\lib\\site-packages\\IPython\\core\\interactiveshell.py:282\u001b[0m, in \u001b[0;36m_modified_open\u001b[1;34m(file, *args, **kwargs)\u001b[0m\n\u001b[0;32m    275\u001b[0m \u001b[38;5;28;01mif\u001b[39;00m file \u001b[38;5;129;01min\u001b[39;00m {\u001b[38;5;241m0\u001b[39m, \u001b[38;5;241m1\u001b[39m, \u001b[38;5;241m2\u001b[39m}:\n\u001b[0;32m    276\u001b[0m     \u001b[38;5;28;01mraise\u001b[39;00m \u001b[38;5;167;01mValueError\u001b[39;00m(\n\u001b[0;32m    277\u001b[0m         \u001b[38;5;124mf\u001b[39m\u001b[38;5;124m\"\u001b[39m\u001b[38;5;124mIPython won\u001b[39m\u001b[38;5;124m'\u001b[39m\u001b[38;5;124mt let you open fd=\u001b[39m\u001b[38;5;132;01m{\u001b[39;00mfile\u001b[38;5;132;01m}\u001b[39;00m\u001b[38;5;124m by default \u001b[39m\u001b[38;5;124m\"\u001b[39m\n\u001b[0;32m    278\u001b[0m         \u001b[38;5;124m\"\u001b[39m\u001b[38;5;124mas it is likely to crash IPython. If you know what you are doing, \u001b[39m\u001b[38;5;124m\"\u001b[39m\n\u001b[0;32m    279\u001b[0m         \u001b[38;5;124m\"\u001b[39m\u001b[38;5;124myou can use builtins\u001b[39m\u001b[38;5;124m'\u001b[39m\u001b[38;5;124m open.\u001b[39m\u001b[38;5;124m\"\u001b[39m\n\u001b[0;32m    280\u001b[0m     )\n\u001b[1;32m--> 282\u001b[0m \u001b[38;5;28;01mreturn\u001b[39;00m io_open(file, \u001b[38;5;241m*\u001b[39margs, \u001b[38;5;241m*\u001b[39m\u001b[38;5;241m*\u001b[39mkwargs)\n",
      "\u001b[1;31mFileNotFoundError\u001b[0m: [Errno 2] No such file or directory: 'test.txt'"
     ]
    }
   ],
   "source": [
    "open('test.txt')"
   ]
  },
  {
   "cell_type": "markdown",
   "id": "97d1279f",
   "metadata": {},
   "source": [
    "# Python Bulit-in Exceptions "
   ]
  },
  {
   "cell_type": "code",
   "execution_count": 5,
   "id": "d1537953",
   "metadata": {},
   "outputs": [
    {
     "data": {
      "text/plain": [
       "['ArithmeticError',\n",
       " 'AssertionError',\n",
       " 'AttributeError',\n",
       " 'BaseException',\n",
       " 'BlockingIOError',\n",
       " 'BrokenPipeError',\n",
       " 'BufferError',\n",
       " 'BytesWarning',\n",
       " 'ChildProcessError',\n",
       " 'ConnectionAbortedError',\n",
       " 'ConnectionError',\n",
       " 'ConnectionRefusedError',\n",
       " 'ConnectionResetError',\n",
       " 'DeprecationWarning',\n",
       " 'EOFError',\n",
       " 'Ellipsis',\n",
       " 'EncodingWarning',\n",
       " 'EnvironmentError',\n",
       " 'Exception',\n",
       " 'False',\n",
       " 'FileExistsError',\n",
       " 'FileNotFoundError',\n",
       " 'FloatingPointError',\n",
       " 'FutureWarning',\n",
       " 'GeneratorExit',\n",
       " 'IOError',\n",
       " 'ImportError',\n",
       " 'ImportWarning',\n",
       " 'IndentationError',\n",
       " 'IndexError',\n",
       " 'InterruptedError',\n",
       " 'IsADirectoryError',\n",
       " 'KeyError',\n",
       " 'KeyboardInterrupt',\n",
       " 'LookupError',\n",
       " 'MemoryError',\n",
       " 'ModuleNotFoundError',\n",
       " 'NameError',\n",
       " 'None',\n",
       " 'NotADirectoryError',\n",
       " 'NotImplemented',\n",
       " 'NotImplementedError',\n",
       " 'OSError',\n",
       " 'OverflowError',\n",
       " 'PendingDeprecationWarning',\n",
       " 'PermissionError',\n",
       " 'ProcessLookupError',\n",
       " 'RecursionError',\n",
       " 'ReferenceError',\n",
       " 'ResourceWarning',\n",
       " 'RuntimeError',\n",
       " 'RuntimeWarning',\n",
       " 'StopAsyncIteration',\n",
       " 'StopIteration',\n",
       " 'SyntaxError',\n",
       " 'SyntaxWarning',\n",
       " 'SystemError',\n",
       " 'SystemExit',\n",
       " 'TabError',\n",
       " 'TimeoutError',\n",
       " 'True',\n",
       " 'TypeError',\n",
       " 'UnboundLocalError',\n",
       " 'UnicodeDecodeError',\n",
       " 'UnicodeEncodeError',\n",
       " 'UnicodeError',\n",
       " 'UnicodeTranslateError',\n",
       " 'UnicodeWarning',\n",
       " 'UserWarning',\n",
       " 'ValueError',\n",
       " 'Warning',\n",
       " 'WindowsError',\n",
       " 'ZeroDivisionError',\n",
       " '__IPYTHON__',\n",
       " '__build_class__',\n",
       " '__debug__',\n",
       " '__doc__',\n",
       " '__import__',\n",
       " '__loader__',\n",
       " '__name__',\n",
       " '__package__',\n",
       " '__spec__',\n",
       " 'abs',\n",
       " 'aiter',\n",
       " 'all',\n",
       " 'anext',\n",
       " 'any',\n",
       " 'ascii',\n",
       " 'bin',\n",
       " 'bool',\n",
       " 'breakpoint',\n",
       " 'bytearray',\n",
       " 'bytes',\n",
       " 'callable',\n",
       " 'chr',\n",
       " 'classmethod',\n",
       " 'compile',\n",
       " 'complex',\n",
       " 'copyright',\n",
       " 'credits',\n",
       " 'delattr',\n",
       " 'dict',\n",
       " 'dir',\n",
       " 'display',\n",
       " 'divmod',\n",
       " 'enumerate',\n",
       " 'eval',\n",
       " 'exec',\n",
       " 'execfile',\n",
       " 'filter',\n",
       " 'float',\n",
       " 'format',\n",
       " 'frozenset',\n",
       " 'get_ipython',\n",
       " 'getattr',\n",
       " 'globals',\n",
       " 'hasattr',\n",
       " 'hash',\n",
       " 'help',\n",
       " 'hex',\n",
       " 'id',\n",
       " 'input',\n",
       " 'int',\n",
       " 'isinstance',\n",
       " 'issubclass',\n",
       " 'iter',\n",
       " 'len',\n",
       " 'license',\n",
       " 'list',\n",
       " 'locals',\n",
       " 'map',\n",
       " 'max',\n",
       " 'memoryview',\n",
       " 'min',\n",
       " 'next',\n",
       " 'object',\n",
       " 'oct',\n",
       " 'open',\n",
       " 'ord',\n",
       " 'pow',\n",
       " 'print',\n",
       " 'property',\n",
       " 'range',\n",
       " 'repr',\n",
       " 'reversed',\n",
       " 'round',\n",
       " 'runfile',\n",
       " 'set',\n",
       " 'setattr',\n",
       " 'slice',\n",
       " 'sorted',\n",
       " 'staticmethod',\n",
       " 'str',\n",
       " 'sum',\n",
       " 'super',\n",
       " 'tuple',\n",
       " 'type',\n",
       " 'vars',\n",
       " 'zip']"
      ]
     },
     "execution_count": 5,
     "metadata": {},
     "output_type": "execute_result"
    }
   ],
   "source": [
    "dir(__builtins__)"
   ]
  },
  {
   "cell_type": "markdown",
   "id": "d4f35913",
   "metadata": {},
   "source": [
    "# Catching Exceptions in Python"
   ]
  },
  {
   "cell_type": "code",
   "execution_count": 13,
   "id": "db574fc2",
   "metadata": {},
   "outputs": [
    {
     "name": "stdout",
     "output_type": "stream",
     "text": [
      "The Entry is  b\n",
      "Oops! <class 'ValueError'> Occured\n",
      "Next entry\n",
      "***************************\n",
      "The Entry is  0\n",
      "Oops! <class 'ZeroDivisionError'> Occured\n",
      "Next entry\n",
      "***************************\n",
      "The Entry is  2\n",
      "The 1/Division of elem  2 is 0.5\n"
     ]
    }
   ],
   "source": [
    "#sys module to get the type of execution\n",
    "import sys\n",
    "\n",
    "lst=['b',0,2]\n",
    "\n",
    "for i in lst:\n",
    "    try:\n",
    "        print(\"The Entry is \",i)\n",
    "        r=1/int(i) #let divide the lst 1/elem\n",
    "    \n",
    "    except:\n",
    "        print(\"Oops!\",sys.exc_info()[0],\"Occured\")\n",
    "        print(\"Next entry\")\n",
    "        print(\"***************************\")\n",
    "print(\"The 1/Division of elem \",i,\"is\",r)"
   ]
  },
  {
   "cell_type": "markdown",
   "id": "11ba28a7",
   "metadata": {},
   "source": [
    "# Giving messages to the errors"
   ]
  },
  {
   "cell_type": "code",
   "execution_count": 15,
   "id": "5df44299",
   "metadata": {},
   "outputs": [
    {
     "name": "stdout",
     "output_type": "stream",
     "text": [
      "***********************\n",
      "The elem is  b\n",
      "This is Value Error\n",
      "***********************\n",
      "The elem is  0\n",
      "This is Zero Error\n",
      "***********************\n",
      "The elem is  2\n",
      "The 1/Div of elem  2 is 0.5\n"
     ]
    }
   ],
   "source": [
    "#sys module to get the type of execution\n",
    "import sys\n",
    "\n",
    "lst=['b',0,2]\n",
    "\n",
    "for i in lst:\n",
    "    try:\n",
    "        print(\"***********************\")\n",
    "        print(\"The elem is \", i)\n",
    "        r=1/int(i)\n",
    "    \n",
    "    except(ZeroDivisionError): #signifying the error type\n",
    "        print(\"This is Zero Error\")\n",
    "    except(ValueError):\n",
    "        print(\"This is Value Error\")\n",
    "    except:\n",
    "        print(\"Some Other error\")\n",
    "print(\"The 1/Div of elem \",i,\"is\",r)"
   ]
  },
  {
   "cell_type": "markdown",
   "id": "4dc54529",
   "metadata": {},
   "source": [
    "# Rasing Exception"
   ]
  },
  {
   "cell_type": "code",
   "execution_count": 16,
   "id": "a740e740",
   "metadata": {},
   "outputs": [
    {
     "ename": "NameError",
     "evalue": "name 'keyboardInterrupt' is not defined",
     "output_type": "error",
     "traceback": [
      "\u001b[1;31m---------------------------------------------------------------------------\u001b[0m",
      "\u001b[1;31mNameError\u001b[0m                                 Traceback (most recent call last)",
      "Cell \u001b[1;32mIn[16], line 1\u001b[0m\n\u001b[1;32m----> 1\u001b[0m \u001b[38;5;28;01mraise\u001b[39;00m \u001b[43mkeyboardInterrupt\u001b[49m\n",
      "\u001b[1;31mNameError\u001b[0m: name 'keyboardInterrupt' is not defined"
     ]
    }
   ],
   "source": [
    "raise keyboardInterrupt"
   ]
  },
  {
   "cell_type": "code",
   "execution_count": 20,
   "id": "c668af6a",
   "metadata": {},
   "outputs": [
    {
     "ename": "MemoryError",
     "evalue": "This is memory Error",
     "output_type": "error",
     "traceback": [
      "\u001b[1;31m---------------------------------------------------------------------------\u001b[0m",
      "\u001b[1;31mMemoryError\u001b[0m                               Traceback (most recent call last)",
      "Cell \u001b[1;32mIn[20], line 1\u001b[0m\n\u001b[1;32m----> 1\u001b[0m \u001b[38;5;28;01mraise\u001b[39;00m \u001b[38;5;167;01mMemoryError\u001b[39;00m(\u001b[38;5;124m\"\u001b[39m\u001b[38;5;124mThis is memory Error\u001b[39m\u001b[38;5;124m\"\u001b[39m)\n",
      "\u001b[1;31mMemoryError\u001b[0m: This is memory Error"
     ]
    }
   ],
   "source": [
    "raise MemoryError(\"This is memory Error\")"
   ]
  },
  {
   "cell_type": "code",
   "execution_count": 22,
   "id": "3afc337f",
   "metadata": {},
   "outputs": [
    {
     "name": "stdout",
     "output_type": "stream",
     "text": [
      "Enter a +ve number:-1\n",
      "Error : Entered -ve number\n"
     ]
    }
   ],
   "source": [
    "try:\n",
    "    num=int(input(\"Enter a +ve number:\"))\n",
    "    if num <=0:\n",
    "        raise ValueError(\"Error : Entered -ve number\")\n",
    "except ValueError as e:\n",
    "    print(e)"
   ]
  },
  {
   "cell_type": "markdown",
   "id": "213a6af6",
   "metadata": {},
   "source": [
    "# Try......Finally"
   ]
  },
  {
   "cell_type": "raw",
   "id": "b143dc87",
   "metadata": {},
   "source": [
    "The Try Statement in Python can have finally Clause.This Clause is executed no matter waht , and is genrealy used to release external resource"
   ]
  },
  {
   "cell_type": "code",
   "execution_count": 23,
   "id": "2f862662",
   "metadata": {},
   "outputs": [
    {
     "ename": "NameError",
     "evalue": "name 'f' is not defined",
     "output_type": "error",
     "traceback": [
      "\u001b[1;31m---------------------------------------------------------------------------\u001b[0m",
      "\u001b[1;31mFileNotFoundError\u001b[0m                         Traceback (most recent call last)",
      "Cell \u001b[1;32mIn[23], line 2\u001b[0m\n\u001b[0;32m      1\u001b[0m \u001b[38;5;28;01mtry\u001b[39;00m:\n\u001b[1;32m----> 2\u001b[0m     f\u001b[38;5;241m=\u001b[39m\u001b[38;5;28;43mopen\u001b[39;49m\u001b[43m(\u001b[49m\u001b[38;5;124;43m\"\u001b[39;49m\u001b[38;5;124;43msample.txt\u001b[39;49m\u001b[38;5;124;43m\"\u001b[39;49m\u001b[43m)\u001b[49m\n\u001b[0;32m      3\u001b[0m     \u001b[38;5;66;03m#file operation\u001b[39;00m\n\u001b[0;32m      4\u001b[0m \u001b[38;5;28;01mfinally\u001b[39;00m:\n",
      "File \u001b[1;32m~\\anaconda3\\lib\\site-packages\\IPython\\core\\interactiveshell.py:282\u001b[0m, in \u001b[0;36m_modified_open\u001b[1;34m(file, *args, **kwargs)\u001b[0m\n\u001b[0;32m    276\u001b[0m     \u001b[38;5;28;01mraise\u001b[39;00m \u001b[38;5;167;01mValueError\u001b[39;00m(\n\u001b[0;32m    277\u001b[0m         \u001b[38;5;124mf\u001b[39m\u001b[38;5;124m\"\u001b[39m\u001b[38;5;124mIPython won\u001b[39m\u001b[38;5;124m'\u001b[39m\u001b[38;5;124mt let you open fd=\u001b[39m\u001b[38;5;132;01m{\u001b[39;00mfile\u001b[38;5;132;01m}\u001b[39;00m\u001b[38;5;124m by default \u001b[39m\u001b[38;5;124m\"\u001b[39m\n\u001b[0;32m    278\u001b[0m         \u001b[38;5;124m\"\u001b[39m\u001b[38;5;124mas it is likely to crash IPython. If you know what you are doing, \u001b[39m\u001b[38;5;124m\"\u001b[39m\n\u001b[0;32m    279\u001b[0m         \u001b[38;5;124m\"\u001b[39m\u001b[38;5;124myou can use builtins\u001b[39m\u001b[38;5;124m'\u001b[39m\u001b[38;5;124m open.\u001b[39m\u001b[38;5;124m\"\u001b[39m\n\u001b[0;32m    280\u001b[0m     )\n\u001b[1;32m--> 282\u001b[0m \u001b[38;5;28;01mreturn\u001b[39;00m io_open(file, \u001b[38;5;241m*\u001b[39margs, \u001b[38;5;241m*\u001b[39m\u001b[38;5;241m*\u001b[39mkwargs)\n",
      "\u001b[1;31mFileNotFoundError\u001b[0m: [Errno 2] No such file or directory: 'sample.txt'",
      "\nDuring handling of the above exception, another exception occurred:\n",
      "\u001b[1;31mNameError\u001b[0m                                 Traceback (most recent call last)",
      "Cell \u001b[1;32mIn[23], line 5\u001b[0m\n\u001b[0;32m      2\u001b[0m     f\u001b[38;5;241m=\u001b[39m\u001b[38;5;28mopen\u001b[39m(\u001b[38;5;124m\"\u001b[39m\u001b[38;5;124msample.txt\u001b[39m\u001b[38;5;124m\"\u001b[39m)\n\u001b[0;32m      3\u001b[0m     \u001b[38;5;66;03m#file operation\u001b[39;00m\n\u001b[0;32m      4\u001b[0m \u001b[38;5;28;01mfinally\u001b[39;00m:\n\u001b[1;32m----> 5\u001b[0m     \u001b[43mf\u001b[49m\u001b[38;5;241m.\u001b[39mclose()\n",
      "\u001b[1;31mNameError\u001b[0m: name 'f' is not defined"
     ]
    }
   ],
   "source": [
    "try:\n",
    "    f=open(\"sample.txt\")\n",
    "    #File is present \n",
    "    #file operation and some errors occured \n",
    "    \n",
    "finally:\n",
    "    f.close()"
   ]
  },
  {
   "cell_type": "markdown",
   "id": "de2da060",
   "metadata": {},
   "source": [
    "# Debugging"
   ]
  },
  {
   "cell_type": "raw",
   "id": "6067e192",
   "metadata": {},
   "source": [
    "python debugger(pdb) implements an interactive debugging environment for python programs.\n",
    "It includes feature to let you pause your program,look at the value of variable,and watch the program execution step-by-step,so you can understand what what your program actullay does find bugs in the logic. "
   ]
  },
  {
   "cell_type": "markdown",
   "id": "0111b2ee",
   "metadata": {},
   "source": [
    "# Starting The Debugger"
   ]
  },
  {
   "cell_type": "code",
   "execution_count": 27,
   "id": "4e237593",
   "metadata": {},
   "outputs": [
    {
     "name": "stdout",
     "output_type": "stream",
     "text": [
      "0\n",
      "1\n",
      "2\n",
      "3\n",
      "4\n",
      "5\n",
      "6\n"
     ]
    }
   ],
   "source": [
    "def seq(n):\n",
    "    for i in range (n):\n",
    "        print(i) #stop/break point\n",
    "    return\n",
    "seq(7)"
   ]
  },
  {
   "cell_type": "markdown",
   "id": "9b1a54c5",
   "metadata": {},
   "source": [
    "# Example"
   ]
  },
  {
   "cell_type": "code",
   "execution_count": 2,
   "id": "f655d5fe",
   "metadata": {},
   "outputs": [
    {
     "name": "stdout",
     "output_type": "stream",
     "text": [
      "> \u001b[1;32mc:\\users\\noora\\appdata\\local\\temp\\ipykernel_9384\\3612303182.py\u001b[0m(7)\u001b[0;36mseq\u001b[1;34m()\u001b[0m\n",
      "\n",
      "ipdb> list\n",
      "\u001b[0;32m      2 \u001b[0m\u001b[1;33m\u001b[0m\u001b[0m\n",
      "\u001b[0;32m      3 \u001b[0m\u001b[1;31m#interactive debugging\u001b[0m\u001b[1;33m\u001b[0m\u001b[1;33m\u001b[0m\u001b[0m\n",
      "\u001b[0;32m      4 \u001b[0m\u001b[1;32mdef\u001b[0m \u001b[0mseq\u001b[0m\u001b[1;33m(\u001b[0m\u001b[0mn\u001b[0m\u001b[1;33m)\u001b[0m\u001b[1;33m:\u001b[0m\u001b[1;33m\u001b[0m\u001b[1;33m\u001b[0m\u001b[0m\n",
      "\u001b[0;32m      5 \u001b[0m    \u001b[1;32mfor\u001b[0m  \u001b[0mi\u001b[0m \u001b[1;32min\u001b[0m \u001b[0mrange\u001b[0m\u001b[1;33m(\u001b[0m\u001b[0mn\u001b[0m\u001b[1;33m)\u001b[0m\u001b[1;33m:\u001b[0m\u001b[1;33m\u001b[0m\u001b[1;33m\u001b[0m\u001b[0m\n",
      "\u001b[0;32m      6 \u001b[0m        \u001b[0mpdb\u001b[0m\u001b[1;33m.\u001b[0m\u001b[0mset_trace\u001b[0m\u001b[1;33m(\u001b[0m\u001b[1;33m)\u001b[0m \u001b[1;31m#break point\u001b[0m\u001b[1;33m\u001b[0m\u001b[1;33m\u001b[0m\u001b[0m\n",
      "\u001b[1;32m----> 7 \u001b[1;33m        \u001b[0mprint\u001b[0m\u001b[1;33m(\u001b[0m\u001b[0mi\u001b[0m\u001b[1;33m)\u001b[0m\u001b[1;33m\u001b[0m\u001b[1;33m\u001b[0m\u001b[0m\n",
      "\u001b[0m\u001b[0;32m      8 \u001b[0m    \u001b[1;32mreturn\u001b[0m\u001b[1;33m\u001b[0m\u001b[1;33m\u001b[0m\u001b[0m\n",
      "\u001b[0;32m      9 \u001b[0m\u001b[0mseq\u001b[0m\u001b[1;33m(\u001b[0m\u001b[1;36m5\u001b[0m\u001b[1;33m)\u001b[0m\u001b[1;33m\u001b[0m\u001b[1;33m\u001b[0m\u001b[0m\n",
      "\u001b[0;32m     10 \u001b[0m\u001b[1;33m\u001b[0m\u001b[0m\n",
      "\u001b[0;32m     11 \u001b[0m\u001b[1;31m# c:continue\u001b[0m\u001b[1;33m\u001b[0m\u001b[1;33m\u001b[0m\u001b[0m\n",
      "\u001b[0;32m     12 \u001b[0m\u001b[1;31m# q:quit\u001b[0m\u001b[1;33m\u001b[0m\u001b[1;33m\u001b[0m\u001b[0m\n",
      "\n",
      "ipdb> p i\n",
      "0\n",
      "ipdb> p n\n",
      "5\n",
      "ipdb> p locals()\n",
      "{'n': 5, 'i': 0}\n",
      "ipdb> c\n",
      "0\n",
      "> \u001b[1;32mc:\\users\\noora\\appdata\\local\\temp\\ipykernel_9384\\3612303182.py\u001b[0m(7)\u001b[0;36mseq\u001b[1;34m()\u001b[0m\n",
      "\n",
      "ipdb> p locals()\n",
      "{'n': 5, 'i': 1}\n",
      "ipdb> c\n",
      "1\n",
      "> \u001b[1;32mc:\\users\\noora\\appdata\\local\\temp\\ipykernel_9384\\3612303182.py\u001b[0m(7)\u001b[0;36mseq\u001b[1;34m()\u001b[0m\n",
      "\n",
      "ipdb> p locals()\n",
      "{'n': 5, 'i': 2}\n",
      "ipdb> h\n",
      "\n",
      "Documented commands (type help <topic>):\n",
      "========================================\n",
      "EOF    commands   enable    ll        pp       s                until \n",
      "a      condition  exit      longlist  psource  skip_hidden      up    \n",
      "alias  cont       h         n         q        skip_predicates  w     \n",
      "args   context    help      next      quit     source           whatis\n",
      "b      continue   ignore    p         r        step             where \n",
      "break  d          interact  pdef      restart  tbreak         \n",
      "bt     debug      j         pdoc      return   u              \n",
      "c      disable    jump      pfile     retval   unalias        \n",
      "cl     display    l         pinfo     run      undisplay      \n",
      "clear  down       list      pinfo2    rv       unt            \n",
      "\n",
      "Miscellaneous help topics:\n",
      "==========================\n",
      "exec  pdb\n",
      "\n",
      "ipdb> q\n"
     ]
    }
   ],
   "source": [
    "import pdb\n",
    "\n",
    "#interactive debugging\n",
    "def seq(n):\n",
    "    for  i in range(n):\n",
    "        pdb.set_trace() #break point\n",
    "        print(i)\n",
    "    return\n",
    "seq(5)\n",
    "\n",
    "# c:continue\n",
    "# q:quit\n",
    "# h:help\n",
    "# list --> where are youb  in\n",
    "# p:print\n",
    "# p locals()\n",
    "# g global()\n"
   ]
  },
  {
   "cell_type": "markdown",
   "id": "c16f9ead",
   "metadata": {},
   "source": [
    "# Debugger Commands"
   ]
  },
  {
   "cell_type": "raw",
   "id": "b1cb6dd3",
   "metadata": {},
   "source": [
    "h(elp) command\\\n",
    "w(here)\n",
    "d(own)[count]\n",
    "c(ont(inue))\n",
    "q(uit)"
   ]
  },
  {
   "cell_type": "code",
   "execution_count": null,
   "id": "0dc1b876",
   "metadata": {},
   "outputs": [],
   "source": []
  }
 ],
 "metadata": {
  "kernelspec": {
   "display_name": "Python 3 (ipykernel)",
   "language": "python",
   "name": "python3"
  },
  "language_info": {
   "codemirror_mode": {
    "name": "ipython",
    "version": 3
   },
   "file_extension": ".py",
   "mimetype": "text/x-python",
   "name": "python",
   "nbconvert_exporter": "python",
   "pygments_lexer": "ipython3",
   "version": "3.10.9"
  }
 },
 "nbformat": 4,
 "nbformat_minor": 5
}
