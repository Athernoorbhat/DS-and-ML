{
 "cells": [
  {
   "cell_type": "markdown",
   "id": "502b1176",
   "metadata": {},
   "source": [
    "# Lambda/Anonymous Function"
   ]
  },
  {
   "cell_type": "raw",
   "id": "8d28c394",
   "metadata": {},
   "source": [
    "1.normal functions defined using def keyword , but anonymous functions are defined using lambda Keyword\n",
    "\n",
    "2.Lambda functions are extensively used along with built-in functions like filter() , map() , reduce()\n",
    "\n",
    "3.-->Syntax:\n",
    "    function name = lambda arguments : expression\n",
    "    double        = lambda x         : x*2"
   ]
  },
  {
   "cell_type": "code",
   "execution_count": 1,
   "id": "52d983bb",
   "metadata": {},
   "outputs": [
    {
     "name": "stdout",
     "output_type": "stream",
     "text": [
      "10\n"
     ]
    }
   ],
   "source": [
    "double = lambda x:x*2\n",
    "print(double(5))"
   ]
  },
  {
   "cell_type": "code",
   "execution_count": 2,
   "id": "56b0e2d4",
   "metadata": {},
   "outputs": [
    {
     "name": "stdout",
     "output_type": "stream",
     "text": [
      "10\n"
     ]
    }
   ],
   "source": [
    "#normal method\n",
    "def double(x):\n",
    "    return x*2\n",
    "print(double(5))"
   ]
  },
  {
   "cell_type": "markdown",
   "id": "17b0c378",
   "metadata": {},
   "source": [
    "# Example"
   ]
  },
  {
   "cell_type": "raw",
   "id": "68c57e58",
   "metadata": {},
   "source": [
    "syntax:filter(function_to_apply,iterable)"
   ]
  },
  {
   "cell_type": "code",
   "execution_count": 7,
   "id": "51473c33",
   "metadata": {},
   "outputs": [
    {
     "name": "stdout",
     "output_type": "stream",
     "text": [
      "[2, 4, 6]\n"
     ]
    }
   ],
   "source": [
    "#example use with filter()\n",
    "lst=[1,2,3,4,5,6]\n",
    "even_lst=filter(lambda x: (x%2==0),lst)\n",
    "\n",
    "print(list(even_lst))\n"
   ]
  },
  {
   "cell_type": "raw",
   "id": "25fae81f",
   "metadata": {},
   "source": [
    "syntax:map(function_to_apply,list_of_inputs)"
   ]
  },
  {
   "cell_type": "code",
   "execution_count": 10,
   "id": "19627b48",
   "metadata": {},
   "outputs": [
    {
     "name": "stdout",
     "output_type": "stream",
     "text": [
      "[1, 4, 9, 16, 25, 36]\n"
     ]
    }
   ],
   "source": [
    "#example us of map()\n",
    "lst=[1,2,3,4,5,6]\n",
    "new_lst = map(lambda x : x**2,lst)\n",
    "print(list(new_lst))"
   ]
  },
  {
   "cell_type": "raw",
   "id": "f8434e3a",
   "metadata": {},
   "source": [
    "syntax:reduce(function_name,list_of_inputs)"
   ]
  },
  {
   "cell_type": "code",
   "execution_count": 14,
   "id": "c8a4b1f7",
   "metadata": {},
   "outputs": [
    {
     "name": "stdout",
     "output_type": "stream",
     "text": [
      "720\n"
     ]
    }
   ],
   "source": [
    "from functools import reduce\n",
    "lst=[1,2,3,4,5,6]\n",
    "product_lst= reduce (lambda x,y :x*y,lst )\n",
    "print(product_lst)"
   ]
  },
  {
   "cell_type": "code",
   "execution_count": null,
   "id": "40c3d7b9",
   "metadata": {},
   "outputs": [],
   "source": []
  }
 ],
 "metadata": {
  "kernelspec": {
   "display_name": "Python 3 (ipykernel)",
   "language": "python",
   "name": "python3"
  },
  "language_info": {
   "codemirror_mode": {
    "name": "ipython",
    "version": 3
   },
   "file_extension": ".py",
   "mimetype": "text/x-python",
   "name": "python",
   "nbconvert_exporter": "python",
   "pygments_lexer": "ipython3",
   "version": "3.10.9"
  }
 },
 "nbformat": 4,
 "nbformat_minor": 5
}
