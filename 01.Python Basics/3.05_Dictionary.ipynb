{
 "cells": [
  {
   "cell_type": "markdown",
   "id": "0e586715",
   "metadata": {},
   "source": [
    "# Dictionary"
   ]
  },
  {
   "cell_type": "raw",
   "id": "d943ac2a",
   "metadata": {},
   "source": [
    "1.Unordered collection of items\n",
    "3.Can not be indexed\n",
    "2.Key:Value pair"
   ]
  },
  {
   "cell_type": "code",
   "execution_count": 11,
   "id": "627e34c5",
   "metadata": {},
   "outputs": [
    {
     "name": "stdout",
     "output_type": "stream",
     "text": [
      "{1: 'Apple', 2: 'Banana'}\n",
      "{'Fruit': 'Apple', 2: ['Banana', 'Cherry']}\n",
      "{}\n",
      "{1: 'Apple', 2: 'Banana'}\n"
     ]
    }
   ],
   "source": [
    "my_dict={} #empty\n",
    "\n",
    "my_dict={1:'Apple',2:'Banana'} #dic with int Key\n",
    "print(my_dict)\n",
    "\n",
    "my_dict={'Fruit':'Apple',2:['Banana','Cherry']} # dic with mixed Key\n",
    "print(my_dict)\n",
    "\n",
    "my_dict=dict() #Empty Dict using dict function\n",
    "print(my_dict)\n",
    "\n",
    "my_dict=dict([(1,\"Apple\"),(2,\"Banana\")]) #dict with list[of (tupple pair)]\n",
    "print(my_dict)"
   ]
  },
  {
   "cell_type": "markdown",
   "id": "28fbb5e2",
   "metadata": {},
   "source": [
    "# DICT Access"
   ]
  },
  {
   "cell_type": "code",
   "execution_count": 17,
   "id": "a25e9565",
   "metadata": {},
   "outputs": [
    {
     "name": "stdout",
     "output_type": "stream",
     "text": [
      "Ather\n",
      "Ather\n"
     ]
    },
    {
     "ename": "KeyError",
     "evalue": "'Degree'",
     "output_type": "error",
     "traceback": [
      "\u001b[1;31m---------------------------------------------------------------------------\u001b[0m",
      "\u001b[1;31mKeyError\u001b[0m                                  Traceback (most recent call last)",
      "Cell \u001b[1;32mIn[17], line 8\u001b[0m\n\u001b[0;32m      5\u001b[0m \u001b[38;5;28mprint\u001b[39m(my_dict\u001b[38;5;241m.\u001b[39mget(\u001b[38;5;124m\"\u001b[39m\u001b[38;5;124mName\u001b[39m\u001b[38;5;124m\"\u001b[39m))\n\u001b[0;32m      7\u001b[0m \u001b[38;5;66;03m#Key not within the dictionary\u001b[39;00m\n\u001b[1;32m----> 8\u001b[0m \u001b[38;5;28mprint\u001b[39m(\u001b[43mmy_dict\u001b[49m\u001b[43m[\u001b[49m\u001b[38;5;124;43m\"\u001b[39;49m\u001b[38;5;124;43mDegree\u001b[39;49m\u001b[38;5;124;43m\"\u001b[39;49m\u001b[43m]\u001b[49m)\n",
      "\u001b[1;31mKeyError\u001b[0m: 'Degree'"
     ]
    }
   ],
   "source": [
    "#direct acess to the particular element\n",
    "my_dict={\"Name\":\"Ather\",\"Age\":27,\"Address\":\"Srinagar\"}\n",
    "print(my_dict[\"Name\"])\n",
    "\n",
    "#2nd Way \n",
    "print(my_dict.get(\"Name\"))\n",
    "\n",
    "#Key not within the dictionary\n",
    "print(my_dict[\"Degree\"]) \n",
    "\n"
   ]
  },
  {
   "cell_type": "markdown",
   "id": "a6c00e91",
   "metadata": {},
   "source": [
    "# DICT Add or Modify Elements"
   ]
  },
  {
   "cell_type": "code",
   "execution_count": 18,
   "id": "b35ca3d0",
   "metadata": {},
   "outputs": [
    {
     "name": "stdout",
     "output_type": "stream",
     "text": [
      "{'Name': 'Azhar', 'Age': 27, 'Address': 'Srinagar'}\n"
     ]
    }
   ],
   "source": [
    "#Modify KEY\n",
    "my_dict={\"Name\":\"Ather\",\"Age\":27,\"Address\":\"Srinagar\"}\n",
    "\n",
    "my_dict[\"Name\"] =\"Azhar\"\n",
    "print(my_dict)"
   ]
  },
  {
   "cell_type": "code",
   "execution_count": 19,
   "id": "6633d073",
   "metadata": {},
   "outputs": [
    {
     "name": "stdout",
     "output_type": "stream",
     "text": [
      "{'Name': 'Ather', 'Age': 27, 'Address': 'Srinagar', 'Degree': 'B.E'}\n"
     ]
    }
   ],
   "source": [
    "#ADD KEY\n",
    "my_dict={\"Name\":\"Ather\",\"Age\":27,\"Address\":\"Srinagar\"}\n",
    "\n",
    "my_dict[\"Degree\"]=\"B.E\"\n",
    "print(my_dict)"
   ]
  },
  {
   "cell_type": "markdown",
   "id": "83de9bd3",
   "metadata": {},
   "source": [
    "# DICT Delte or Remove Element"
   ]
  },
  {
   "cell_type": "code",
   "execution_count": 21,
   "id": "8a00032c",
   "metadata": {},
   "outputs": [
    {
     "name": "stdout",
     "output_type": "stream",
     "text": [
      "27\n",
      "{'Name': 'Ather', 'Address': 'Srinagar'}\n"
     ]
    }
   ],
   "source": [
    "my_dict={\"Name\":\"Ather\",\"Age\":27,\"Address\":\"Srinagar\"}\n",
    "print(my_dict.pop(\"Age\"))\n",
    "\n",
    "print(my_dict)"
   ]
  },
  {
   "cell_type": "code",
   "execution_count": 24,
   "id": "0c0730b2",
   "metadata": {},
   "outputs": [
    {
     "name": "stdout",
     "output_type": "stream",
     "text": [
      "{'Name': 'Ather', 'Age': 27}\n"
     ]
    }
   ],
   "source": [
    "my_dict={\"Name\":\"Ather\",\"Age\":27,\"Address\":\"Srinagar\"}\n",
    "my_dict.popitem() #removes random Key\n",
    "\n",
    "print(my_dict)"
   ]
  },
  {
   "cell_type": "code",
   "execution_count": 32,
   "id": "92655e9f",
   "metadata": {},
   "outputs": [
    {
     "name": "stdout",
     "output_type": "stream",
     "text": [
      "{3: 9, 4: 16, 5: 25}\n"
     ]
    }
   ],
   "source": [
    "#removes KEY 2 along with value\n",
    "squres={2:4,3:9,4:16,5:25}\n",
    "del squres[2] \n",
    "print(squres)"
   ]
  },
  {
   "cell_type": "code",
   "execution_count": 33,
   "id": "d8a3706d",
   "metadata": {},
   "outputs": [
    {
     "ename": "NameError",
     "evalue": "name 'squres' is not defined",
     "output_type": "error",
     "traceback": [
      "\u001b[1;31m---------------------------------------------------------------------------\u001b[0m",
      "\u001b[1;31mNameError\u001b[0m                                 Traceback (most recent call last)",
      "Cell \u001b[1;32mIn[33], line 3\u001b[0m\n\u001b[0;32m      1\u001b[0m squres\u001b[38;5;241m=\u001b[39m{\u001b[38;5;241m2\u001b[39m:\u001b[38;5;241m4\u001b[39m,\u001b[38;5;241m3\u001b[39m:\u001b[38;5;241m9\u001b[39m,\u001b[38;5;241m4\u001b[39m:\u001b[38;5;241m16\u001b[39m,\u001b[38;5;241m5\u001b[39m:\u001b[38;5;241m25\u001b[39m}\n\u001b[0;32m      2\u001b[0m \u001b[38;5;28;01mdel\u001b[39;00m squres\n\u001b[1;32m----> 3\u001b[0m \u001b[38;5;28mprint\u001b[39m(\u001b[43msqures\u001b[49m)\n",
      "\u001b[1;31mNameError\u001b[0m: name 'squres' is not defined"
     ]
    }
   ],
   "source": [
    "#deletes the dictionary\n",
    "squres={2:4,3:9,4:16,5:25}\n",
    "del squres\n",
    "print(squres)\n"
   ]
  },
  {
   "cell_type": "code",
   "execution_count": 27,
   "id": "4789dd2d",
   "metadata": {},
   "outputs": [
    {
     "name": "stdout",
     "output_type": "stream",
     "text": [
      "{}\n"
     ]
    }
   ],
   "source": [
    "#remove all items\n",
    "squres.clear()\n",
    "print(squres)"
   ]
  },
  {
   "cell_type": "code",
   "execution_count": 31,
   "id": "6c339f12",
   "metadata": {},
   "outputs": [
    {
     "ename": "AttributeError",
     "evalue": "'dict' object has no attribute 'remove'",
     "output_type": "error",
     "traceback": [
      "\u001b[1;31m---------------------------------------------------------------------------\u001b[0m",
      "\u001b[1;31mAttributeError\u001b[0m                            Traceback (most recent call last)",
      "Cell \u001b[1;32mIn[31], line 2\u001b[0m\n\u001b[0;32m      1\u001b[0m squres\u001b[38;5;241m=\u001b[39m{\u001b[38;5;241m2\u001b[39m:\u001b[38;5;241m4\u001b[39m,\u001b[38;5;241m3\u001b[39m:\u001b[38;5;241m9\u001b[39m,\u001b[38;5;241m4\u001b[39m:\u001b[38;5;241m16\u001b[39m,\u001b[38;5;241m5\u001b[39m:\u001b[38;5;241m25\u001b[39m}\n\u001b[1;32m----> 2\u001b[0m \u001b[43msqures\u001b[49m\u001b[38;5;241;43m.\u001b[39;49m\u001b[43mremove\u001b[49m(\u001b[38;5;241m2\u001b[39m) \n\u001b[0;32m      3\u001b[0m \u001b[38;5;28mprint\u001b[39m(squres)\n",
      "\u001b[1;31mAttributeError\u001b[0m: 'dict' object has no attribute 'remove'"
     ]
    }
   ],
   "source": [
    "squres={2:4,3:9,4:16,5:25}\n",
    "squres.remove(2) \n",
    "print(squres)"
   ]
  },
  {
   "cell_type": "markdown",
   "id": "a70db7ce",
   "metadata": {},
   "source": [
    "# DICTIONARY METHODS"
   ]
  },
  {
   "cell_type": "code",
   "execution_count": 34,
   "id": "6a89e580",
   "metadata": {},
   "outputs": [
    {
     "name": "stdout",
     "output_type": "stream",
     "text": [
      "{2: 4, 3: 9, 4: 16, 5: 25}\n"
     ]
    }
   ],
   "source": [
    "#COPY\n",
    "squres={2:4,3:9,4:16,5:25}\n",
    "my_dict=squres.copy()\n",
    "print(my_dict)"
   ]
  },
  {
   "cell_type": "code",
   "execution_count": 35,
   "id": "59e9319a",
   "metadata": {},
   "outputs": [
    {
     "name": "stdout",
     "output_type": "stream",
     "text": [
      "{2: 4, 3: 9, 4: 16, 5: 25}\n"
     ]
    }
   ],
   "source": [
    "squres={2:4,3:9,4:16,5:25}\n",
    "my_dict=squres\n",
    "print(my_dict)"
   ]
  },
  {
   "cell_type": "code",
   "execution_count": 36,
   "id": "43ee59e0",
   "metadata": {},
   "outputs": [
    {
     "name": "stdout",
     "output_type": "stream",
     "text": [
      "{'Apple': 0, 'Banana': 0, 'Cherry': 0}\n"
     ]
    }
   ],
   "source": [
    "#empty dic fill karna with same value to all keys\n",
    "subjects={}.fromkeys(['Apple','Banana','Cherry'],0)\n",
    "print(subjects)"
   ]
  },
  {
   "cell_type": "code",
   "execution_count": 42,
   "id": "4f96d06a",
   "metadata": {},
   "outputs": [
    {
     "name": "stdout",
     "output_type": "stream",
     "text": [
      "dict_items([('Apple', 1), ('Banana', 2), ('Cherry', 3)])\n"
     ]
    }
   ],
   "source": [
    "#ITEMS gives new view of the dictionary keys--> Returns list of tupples \n",
    "my_dict={'Apple': 1, 'Banana': 2, 'Cherry': 3}\n",
    "print(my_dict.items())"
   ]
  },
  {
   "cell_type": "code",
   "execution_count": 40,
   "id": "b0d62918",
   "metadata": {},
   "outputs": [
    {
     "name": "stdout",
     "output_type": "stream",
     "text": [
      "dict_keys(['Apple', 'Banana', 'Cherry'])\n"
     ]
    }
   ],
   "source": [
    "#Returns KEYS\n",
    "my_dict={'Apple': 0, 'Banana': 0, 'Cherry': 0}\n",
    "print(my_dict.keys())"
   ]
  },
  {
   "cell_type": "code",
   "execution_count": 41,
   "id": "c5be2358",
   "metadata": {},
   "outputs": [
    {
     "name": "stdout",
     "output_type": "stream",
     "text": [
      "dict_values([0, 0, 0])\n"
     ]
    }
   ],
   "source": [
    "##Returns VALUES\n",
    "my_dict={'Apple': 0, 'Banana': 0, 'Cherry': 0}\n",
    "print(my_dict.values())"
   ]
  },
  {
   "cell_type": "code",
   "execution_count": 45,
   "id": "890e0d45",
   "metadata": {},
   "outputs": [
    {
     "name": "stdout",
     "output_type": "stream",
     "text": [
      "['__class__', '__class_getitem__', '__contains__', '__delattr__', '__delitem__', '__dir__', '__doc__', '__eq__', '__format__', '__ge__', '__getattribute__', '__getitem__', '__gt__', '__hash__', '__init__', '__init_subclass__', '__ior__', '__iter__', '__le__', '__len__', '__lt__', '__ne__', '__new__', '__or__', '__reduce__', '__reduce_ex__', '__repr__', '__reversed__', '__ror__', '__setattr__', '__setitem__', '__sizeof__', '__str__', '__subclasshook__', 'clear', 'copy', 'fromkeys', 'get', 'items', 'keys', 'pop', 'popitem', 'setdefault', 'update', 'values']\n"
     ]
    }
   ],
   "source": [
    "new_dict={}\n",
    "print(dir(new_dict))"
   ]
  },
  {
   "cell_type": "markdown",
   "id": "d3d4c735",
   "metadata": {},
   "source": [
    "# DICT Comprehension"
   ]
  },
  {
   "cell_type": "code",
   "execution_count": 47,
   "id": "c52bad88",
   "metadata": {},
   "outputs": [
    {
     "name": "stdout",
     "output_type": "stream",
     "text": [
      "('Apple', 1)\n",
      "('Banana', 2)\n",
      "('Cherry', 3)\n"
     ]
    }
   ],
   "source": [
    "my_dict={'Apple': 1, 'Banana': 2, 'Cherry': 3}\n",
    "for pair in my_dict.items():\n",
    "    print(pair)"
   ]
  },
  {
   "cell_type": "code",
   "execution_count": 49,
   "id": "db70b6c5",
   "metadata": {},
   "outputs": [
    {
     "name": "stdout",
     "output_type": "stream",
     "text": [
      "{'Cherry': 3, 'Mango': 4}\n"
     ]
    }
   ],
   "source": [
    "my_dict={'Apple': 1, 'Banana': 2, 'Cherry': 3 , 'Mango':4}\n",
    "new_dict={k:v for k ,v in my_dict.items() if v>2}\n",
    "print(new_dict)"
   ]
  },
  {
   "cell_type": "code",
   "execution_count": 53,
   "id": "20ae3ee7",
   "metadata": {},
   "outputs": [
    {
     "name": "stdout",
     "output_type": "stream",
     "text": [
      "{'Cherry fruit': 6, 'Mango fruit': 8}\n"
     ]
    }
   ],
   "source": [
    "my_dict={'Apple': 1, 'Banana': 2, 'Cherry': 3 , 'Mango':4}\n",
    "new_dict={k + ' fruit':v*2 for k ,v in my_dict.items() if v>2}\n",
    "print(new_dict)"
   ]
  },
  {
   "cell_type": "code",
   "execution_count": null,
   "id": "f4f63b84",
   "metadata": {},
   "outputs": [],
   "source": []
  }
 ],
 "metadata": {
  "kernelspec": {
   "display_name": "Python 3 (ipykernel)",
   "language": "python",
   "name": "python3"
  },
  "language_info": {
   "codemirror_mode": {
    "name": "ipython",
    "version": 3
   },
   "file_extension": ".py",
   "mimetype": "text/x-python",
   "name": "python",
   "nbconvert_exporter": "python",
   "pygments_lexer": "ipython3",
   "version": "3.10.9"
  }
 },
 "nbformat": 4,
 "nbformat_minor": 5
}
