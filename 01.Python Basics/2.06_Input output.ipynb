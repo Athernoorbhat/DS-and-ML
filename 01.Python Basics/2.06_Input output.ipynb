{
 "cells": [
  {
   "cell_type": "code",
   "execution_count": 5,
   "id": "0fec286e",
   "metadata": {},
   "outputs": [
    {
     "name": "stdout",
     "output_type": "stream",
     "text": [
      "the value of a is : 10\n",
      "the value of a is : 10\n",
      "10\n"
     ]
    }
   ],
   "source": [
    "a=10\n",
    "print(\"the value of a is :\", a)\n",
    "print(\"the value of a is : \" + str(a))\n",
    "\n",
    "print(a)"
   ]
  },
  {
   "cell_type": "code",
   "execution_count": 8,
   "id": "2d8fc7a0",
   "metadata": {},
   "outputs": [
    {
     "name": "stdout",
     "output_type": "stream",
     "text": [
      "the value of a is 10 and value of b is 20\n"
     ]
    }
   ],
   "source": [
    "a =10 \n",
    "b =20\n",
    "print(\"the value of a is {} and value of b is {}\".format(a,b))"
   ]
  },
  {
   "cell_type": "code",
   "execution_count": 9,
   "id": "fd418b11",
   "metadata": {},
   "outputs": [
    {
     "name": "stdout",
     "output_type": "stream",
     "text": [
      "the value of a is 20 and value of b is 10\n"
     ]
    }
   ],
   "source": [
    "a =10 \n",
    "b =20\n",
    "print(\"the value of a is {1} and value of b is {0}\".format(a,b))"
   ]
  },
  {
   "cell_type": "code",
   "execution_count": 10,
   "id": "1d7e1242",
   "metadata": {},
   "outputs": [
    {
     "name": "stdout",
     "output_type": "stream",
     "text": [
      "Hello Ather, Good Evening\n"
     ]
    }
   ],
   "source": [
    "print(\"Hello {name}, {greeting}\".format(name=\"Ather\",greeting=\"Good Evening\"))"
   ]
  },
  {
   "cell_type": "code",
   "execution_count": 14,
   "id": "1f0ea7b9",
   "metadata": {},
   "outputs": [
    {
     "name": "stdout",
     "output_type": "stream",
     "text": [
      "the story of bill, Manfred and George\n"
     ]
    }
   ],
   "source": [
    "print(\"the story of {0}, {1} and {other}\".format(\"bill\",\"Manfred\",other=\"George\"))"
   ]
  },
  {
   "cell_type": "markdown",
   "id": "c2e34768",
   "metadata": {},
   "source": [
    "# Python Input"
   ]
  },
  {
   "cell_type": "code",
   "execution_count": 15,
   "id": "e969e567",
   "metadata": {},
   "outputs": [
    {
     "name": "stdout",
     "output_type": "stream",
     "text": [
      "Enter a number12345\n",
      "12345\n"
     ]
    }
   ],
   "source": [
    "num = input(\"Enter a number\")\n",
    "print(num)"
   ]
  },
  {
   "cell_type": "code",
   "execution_count": null,
   "id": "a754358b",
   "metadata": {},
   "outputs": [],
   "source": []
  }
 ],
 "metadata": {
  "kernelspec": {
   "display_name": "Python 3 (ipykernel)",
   "language": "python",
   "name": "python3"
  },
  "language_info": {
   "codemirror_mode": {
    "name": "ipython",
    "version": 3
   },
   "file_extension": ".py",
   "mimetype": "text/x-python",
   "name": "python",
   "nbconvert_exporter": "python",
   "pygments_lexer": "ipython3",
   "version": "3.10.9"
  }
 },
 "nbformat": 4,
 "nbformat_minor": 5
}
