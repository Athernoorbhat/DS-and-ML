{
 "cells": [
  {
   "cell_type": "code",
   "execution_count": 1,
   "id": "a55c75a6",
   "metadata": {},
   "outputs": [
    {
     "name": "stdout",
     "output_type": "stream",
     "text": [
      "Product is : 6000\n"
     ]
    }
   ],
   "source": [
    "lst=[10,20,30]\n",
    "\n",
    "product = 1\n",
    "\n",
    "for x in lst:\n",
    "    product *=x\n",
    "    # product = product * X\n",
    "    \n",
    "print(\"Product is : {}\".format(product))"
   ]
  },
  {
   "cell_type": "markdown",
   "id": "0b2cb4a3",
   "metadata": {},
   "source": [
    "# Range function"
   ]
  },
  {
   "cell_type": "markdown",
   "id": "3fe0503c",
   "metadata": {},
   "source": [
    "Range function doesnt store all the value , \n",
    "it remembers start, stop ,stepsize and generates"
   ]
  },
  {
   "cell_type": "code",
   "execution_count": 2,
   "id": "3ff74cd9",
   "metadata": {},
   "outputs": [
    {
     "name": "stdout",
     "output_type": "stream",
     "text": [
      "0\n",
      "1\n",
      "2\n",
      "3\n",
      "4\n",
      "5\n",
      "6\n",
      "7\n",
      "8\n",
      "9\n"
     ]
    }
   ],
   "source": [
    "for i in range(10): # 10-1\n",
    "    print(i)"
   ]
  },
  {
   "cell_type": "code",
   "execution_count": 5,
   "id": "1098d723",
   "metadata": {},
   "outputs": [
    {
     "name": "stdout",
     "output_type": "stream",
     "text": [
      "1\n",
      "3\n",
      "5\n",
      "7\n",
      "9\n",
      "11\n",
      "13\n",
      "15\n",
      "17\n",
      "19\n"
     ]
    }
   ],
   "source": [
    "for i in range(1,20,2): # start, Stop , Step Size\n",
    "    print(i)"
   ]
  },
  {
   "cell_type": "code",
   "execution_count": 8,
   "id": "7df0de71",
   "metadata": {},
   "outputs": [
    {
     "name": "stdout",
     "output_type": "stream",
     "text": [
      "A\n",
      "B\n",
      "C\n",
      "D\n",
      "E\n"
     ]
    }
   ],
   "source": [
    "lst = [\"A\",\"B\",\"C\",\"D\",\"E\"]\n",
    "for i in lst:\n",
    "    print(i)"
   ]
  },
  {
   "cell_type": "code",
   "execution_count": 11,
   "id": "9bf39315",
   "metadata": {},
   "outputs": [
    {
     "name": "stdout",
     "output_type": "stream",
     "text": [
      "A\n",
      "B\n",
      "C\n",
      "D\n",
      "E\n"
     ]
    }
   ],
   "source": [
    "lst = [\"A\",\"B\",\"C\",\"D\",\"E\"]\n",
    "for i in range(len(lst)): #range(5)\n",
    "    print(lst[i])"
   ]
  },
  {
   "cell_type": "markdown",
   "id": "bb36f636",
   "metadata": {},
   "source": [
    "# FOR LOOP WITH ELSE"
   ]
  },
  {
   "cell_type": "code",
   "execution_count": 15,
   "id": "54e99012",
   "metadata": {},
   "outputs": [
    {
     "name": "stdout",
     "output_type": "stream",
     "text": [
      "1\n",
      "2\n",
      "3\n",
      "4\n",
      "list ended\n"
     ]
    }
   ],
   "source": [
    "num = [1,2,3,4]\n",
    "for i in num:\n",
    "    print(i)\n",
    "else:\n",
    "    print(\"list ended\")"
   ]
  },
  {
   "cell_type": "code",
   "execution_count": 16,
   "id": "fcb5885e",
   "metadata": {},
   "outputs": [
    {
     "name": "stdout",
     "output_type": "stream",
     "text": [
      "1\n",
      "2\n"
     ]
    }
   ],
   "source": [
    "for i in num:\n",
    "    print(i)\n",
    "    if i % 2 ==0: #reminder\n",
    "        break\n",
    "else:\n",
    "    print(\"list ended\") "
   ]
  },
  {
   "cell_type": "markdown",
   "id": "151947ed",
   "metadata": {},
   "source": [
    "# Python Program to display all Prime Numbers within interval"
   ]
  },
  {
   "cell_type": "code",
   "execution_count": 26,
   "id": "053a8b0e",
   "metadata": {},
   "outputs": [
    {
     "name": "stdout",
     "output_type": "stream",
     "text": [
      "Prime no between 10 and 50 are :\n",
      "11\n",
      "13\n",
      "17\n",
      "19\n",
      "23\n",
      "29\n",
      "31\n",
      "37\n",
      "41\n",
      "43\n",
      "47\n"
     ]
    }
   ],
   "source": [
    "num1 =10\n",
    "num2 =50\n",
    "print(\"Prime no between {} and {} are :\".format(num1,num2))\n",
    "\n",
    "for i in range (num1,num2+1): # range-1 Always so +1 \n",
    "    if i > 1:                 #i =10,11,12 sai 50 tak\n",
    "        isDivisible = False;\n",
    "        for index in range (2, i): # start from 2 to i-1\n",
    "            if i % index == 0:\n",
    "                isDivisible = True;\n",
    "        if not isDivisible:\n",
    "                print(i)\n",
    "        "
   ]
  },
  {
   "cell_type": "code",
   "execution_count": 3,
   "id": "8e2ef93a",
   "metadata": {},
   "outputs": [
    {
     "name": "stdout",
     "output_type": "stream",
     "text": [
      "Prime no between 10 and 50 are :\n",
      "10\n",
      "11\n",
      "12\n",
      "13\n",
      "14\n",
      "15\n",
      "16\n",
      "17\n",
      "18\n",
      "19\n",
      "20\n",
      "21\n",
      "22\n",
      "23\n",
      "24\n",
      "25\n",
      "26\n",
      "27\n",
      "28\n",
      "29\n",
      "30\n",
      "31\n",
      "32\n",
      "33\n",
      "34\n",
      "35\n",
      "36\n",
      "37\n",
      "38\n",
      "39\n",
      "40\n",
      "41\n",
      "42\n",
      "43\n",
      "44\n",
      "45\n",
      "46\n",
      "47\n",
      "48\n",
      "49\n",
      "50\n"
     ]
    }
   ],
   "source": [
    "num1 =10\n",
    "num2 =50\n",
    "print(\"Prime no between {} and {} are :\".format(num1,num2))\n",
    "\n",
    "for i in range (num1,num2+1):\n",
    "    print(i)"
   ]
  },
  {
   "cell_type": "code",
   "execution_count": null,
   "id": "ab3500cf",
   "metadata": {},
   "outputs": [],
   "source": []
  }
 ],
 "metadata": {
  "kernelspec": {
   "display_name": "Python 3 (ipykernel)",
   "language": "python",
   "name": "python3"
  },
  "language_info": {
   "codemirror_mode": {
    "name": "ipython",
    "version": 3
   },
   "file_extension": ".py",
   "mimetype": "text/x-python",
   "name": "python",
   "nbconvert_exporter": "python",
   "pygments_lexer": "ipython3",
   "version": "3.10.9"
  }
 },
 "nbformat": 4,
 "nbformat_minor": 5
}
