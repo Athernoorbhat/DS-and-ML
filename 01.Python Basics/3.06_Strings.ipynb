{
 "cells": [
  {
   "cell_type": "markdown",
   "id": "030c3b92",
   "metadata": {},
   "source": [
    "# String"
   ]
  },
  {
   "cell_type": "raw",
   "id": "a3f7cb87",
   "metadata": {},
   "source": [
    "1.A string is sequence of characters.\n",
    "2.In Python , string is sequence of Unicode Character.\n",
    "3.IMMUTABLE"
   ]
  },
  {
   "cell_type": "code",
   "execution_count": 3,
   "id": "101b5e65",
   "metadata": {},
   "outputs": [
    {
     "name": "stdout",
     "output_type": "stream",
     "text": [
      "Hello\n",
      "Hello\n",
      "Hello\n"
     ]
    }
   ],
   "source": [
    "myString='Hello'\n",
    "print(myString)\n",
    "\n",
    "myString=\"Hello\"\n",
    "\n",
    "print(myString)\n",
    "\n",
    "myString='''Hello'''\n",
    "print(myString)"
   ]
  },
  {
   "cell_type": "markdown",
   "id": "b9bbd343",
   "metadata": {},
   "source": [
    "# Access characters in String / Indexing\n"
   ]
  },
  {
   "cell_type": "code",
   "execution_count": 8,
   "id": "9636c3b7",
   "metadata": {},
   "outputs": [
    {
     "name": "stdout",
     "output_type": "stream",
     "text": [
      "H\n",
      "e\n",
      "o\n",
      "llo\n"
     ]
    },
    {
     "ename": "IndexError",
     "evalue": "string index out of range",
     "output_type": "error",
     "traceback": [
      "\u001b[1;31m---------------------------------------------------------------------------\u001b[0m",
      "\u001b[1;31mIndexError\u001b[0m                                Traceback (most recent call last)",
      "Cell \u001b[1;32mIn[8], line 8\u001b[0m\n\u001b[0;32m      5\u001b[0m \u001b[38;5;28mprint\u001b[39m(myString[\u001b[38;5;241m-\u001b[39m\u001b[38;5;241m1\u001b[39m])\n\u001b[0;32m      6\u001b[0m \u001b[38;5;28mprint\u001b[39m(myString[\u001b[38;5;241m2\u001b[39m:\u001b[38;5;241m5\u001b[39m])\n\u001b[1;32m----> 8\u001b[0m \u001b[38;5;28mprint\u001b[39m(\u001b[43mmyString\u001b[49m\u001b[43m[\u001b[49m\u001b[38;5;241;43m15\u001b[39;49m\u001b[43m]\u001b[49m) \u001b[38;5;66;03m#out of range index\u001b[39;00m\n\u001b[0;32m      9\u001b[0m \u001b[38;5;28mprint\u001b[39m(myString[\u001b[38;5;241m1.5\u001b[39m])\n",
      "\u001b[1;31mIndexError\u001b[0m: string index out of range"
     ]
    }
   ],
   "source": [
    "myString='Hello'\n",
    "print(myString[0])\n",
    "print(myString[1])\n",
    "\n",
    "print(myString[-1])\n",
    "print(myString[2:5])\n",
    "\n",
    "print(myString[15]) #out of range index\n"
   ]
  },
  {
   "cell_type": "code",
   "execution_count": 9,
   "id": "e3ca1a0c",
   "metadata": {},
   "outputs": [
    {
     "ename": "TypeError",
     "evalue": "string indices must be integers",
     "output_type": "error",
     "traceback": [
      "\u001b[1;31m---------------------------------------------------------------------------\u001b[0m",
      "\u001b[1;31mTypeError\u001b[0m                                 Traceback (most recent call last)",
      "Cell \u001b[1;32mIn[9], line 1\u001b[0m\n\u001b[1;32m----> 1\u001b[0m \u001b[38;5;28mprint\u001b[39m(\u001b[43mmyString\u001b[49m\u001b[43m[\u001b[49m\u001b[38;5;241;43m1.5\u001b[39;49m\u001b[43m]\u001b[49m)\n",
      "\u001b[1;31mTypeError\u001b[0m: string indices must be integers"
     ]
    }
   ],
   "source": [
    "print(myString[1.5])"
   ]
  },
  {
   "cell_type": "markdown",
   "id": "4013f703",
   "metadata": {},
   "source": [
    "# Change or Delete String"
   ]
  },
  {
   "cell_type": "raw",
   "id": "cd47eadf",
   "metadata": {},
   "source": [
    "Strings are IMMUTABLE "
   ]
  },
  {
   "cell_type": "code",
   "execution_count": 10,
   "id": "db3fa20b",
   "metadata": {
    "scrolled": true
   },
   "outputs": [
    {
     "ename": "NameError",
     "evalue": "name 'X' is not defined",
     "output_type": "error",
     "traceback": [
      "\u001b[1;31m---------------------------------------------------------------------------\u001b[0m",
      "\u001b[1;31mNameError\u001b[0m                                 Traceback (most recent call last)",
      "Cell \u001b[1;32mIn[10], line 2\u001b[0m\n\u001b[0;32m      1\u001b[0m myString\u001b[38;5;241m=\u001b[39m\u001b[38;5;124m'\u001b[39m\u001b[38;5;124mHello\u001b[39m\u001b[38;5;124m'\u001b[39m\n\u001b[1;32m----> 2\u001b[0m myString[\u001b[38;5;241m4\u001b[39m]\u001b[38;5;241m=\u001b[39m\u001b[43mX\u001b[49m\n",
      "\u001b[1;31mNameError\u001b[0m: name 'X' is not defined"
     ]
    }
   ],
   "source": [
    "myString='Hello'\n",
    "myString[4]=X"
   ]
  },
  {
   "cell_type": "raw",
   "id": "294dc0ae",
   "metadata": {},
   "source": [
    "CAN NOT delete or Remove Single Character "
   ]
  },
  {
   "cell_type": "code",
   "execution_count": 12,
   "id": "149245ae",
   "metadata": {},
   "outputs": [
    {
     "ename": "NameError",
     "evalue": "name 'myString' is not defined",
     "output_type": "error",
     "traceback": [
      "\u001b[1;31m---------------------------------------------------------------------------\u001b[0m",
      "\u001b[1;31mNameError\u001b[0m                                 Traceback (most recent call last)",
      "Cell \u001b[1;32mIn[12], line 3\u001b[0m\n\u001b[0;32m      1\u001b[0m myString\u001b[38;5;241m=\u001b[39m\u001b[38;5;124m'\u001b[39m\u001b[38;5;124mHello\u001b[39m\u001b[38;5;124m'\u001b[39m\n\u001b[0;32m      2\u001b[0m \u001b[38;5;28;01mdel\u001b[39;00m myString\n\u001b[1;32m----> 3\u001b[0m \u001b[38;5;28mprint\u001b[39m(\u001b[43mmyString\u001b[49m)\n",
      "\u001b[1;31mNameError\u001b[0m: name 'myString' is not defined"
     ]
    }
   ],
   "source": [
    "myString='Hello'\n",
    "del myString\n",
    "print(myString)"
   ]
  },
  {
   "cell_type": "markdown",
   "id": "f2008abd",
   "metadata": {},
   "source": [
    "# CONCATINATION"
   ]
  },
  {
   "cell_type": "code",
   "execution_count": 24,
   "id": "0ed4a411",
   "metadata": {},
   "outputs": [
    {
     "name": "stdout",
     "output_type": "stream",
     "text": [
      "Hi Hello\n",
      "Hi Hi Hi \n"
     ]
    }
   ],
   "source": [
    "str1 = \"Hi \"\n",
    "str2 = \"Hello\"\n",
    "\n",
    "print(str1 + str2)\n",
    "print(str1 * 3)"
   ]
  },
  {
   "cell_type": "markdown",
   "id": "6c4a8acb",
   "metadata": {},
   "source": [
    "# ITERATE Through String"
   ]
  },
  {
   "cell_type": "code",
   "execution_count": 28,
   "id": "e1dcc6b6",
   "metadata": {},
   "outputs": [
    {
     "name": "stdout",
     "output_type": "stream",
     "text": [
      "2 letters found\n"
     ]
    }
   ],
   "source": [
    "strg=\"Hello World\"\n",
    "count=0\n",
    "for i in strg:\n",
    "    if i == 'o': # find no of o in hello world\n",
    "        count+=1\n",
    "print(count,\"letters found\")\n",
    "        "
   ]
  },
  {
   "cell_type": "markdown",
   "id": "61c3c2c9",
   "metadata": {},
   "source": [
    "# Sting Membership Test"
   ]
  },
  {
   "cell_type": "code",
   "execution_count": 31,
   "id": "2a0636e1",
   "metadata": {},
   "outputs": [
    {
     "name": "stdout",
     "output_type": "stream",
     "text": [
      "True\n"
     ]
    }
   ],
   "source": [
    "print('l' in \"Hello World\") #in operator to test membership"
   ]
  },
  {
   "cell_type": "code",
   "execution_count": 32,
   "id": "aeac3d20",
   "metadata": {},
   "outputs": [
    {
     "name": "stdout",
     "output_type": "stream",
     "text": [
      "True\n"
     ]
    }
   ],
   "source": [
    "print('or' in \"Hello World\") #in operator to test membership"
   ]
  },
  {
   "cell_type": "markdown",
   "id": "11e56c7e",
   "metadata": {},
   "source": [
    "# STRING METHODS"
   ]
  },
  {
   "cell_type": "code",
   "execution_count": 34,
   "id": "9c4ecfd1",
   "metadata": {},
   "outputs": [
    {
     "data": {
      "text/plain": [
       "'hello'"
      ]
     },
     "execution_count": 34,
     "metadata": {},
     "output_type": "execute_result"
    }
   ],
   "source": [
    "\"Hello\".lower()"
   ]
  },
  {
   "cell_type": "code",
   "execution_count": 35,
   "id": "d9b78db8",
   "metadata": {},
   "outputs": [
    {
     "data": {
      "text/plain": [
       "'HELLO'"
      ]
     },
     "execution_count": 35,
     "metadata": {},
     "output_type": "execute_result"
    }
   ],
   "source": [
    "\"Hello\".upper()"
   ]
  },
  {
   "cell_type": "code",
   "execution_count": 36,
   "id": "91b2557b",
   "metadata": {},
   "outputs": [
    {
     "data": {
      "text/plain": [
       "['This', 'is', 'my', 'first', 'Program']"
      ]
     },
     "execution_count": 36,
     "metadata": {},
     "output_type": "execute_result"
    }
   ],
   "source": [
    "\"This is my first Program\".split() #spilts in list"
   ]
  },
  {
   "cell_type": "code",
   "execution_count": 44,
   "id": "e20dc923",
   "metadata": {},
   "outputs": [
    {
     "data": {
      "text/plain": [
       "'This-is-my-first-Program'"
      ]
     },
     "execution_count": 44,
     "metadata": {},
     "output_type": "execute_result"
    }
   ],
   "source": [
    "'-'.join(['This', 'is', 'my', 'first', 'Program']) #'-' gives space inbetween"
   ]
  },
  {
   "cell_type": "code",
   "execution_count": 42,
   "id": "6e5cea8f",
   "metadata": {
    "scrolled": true
   },
   "outputs": [
    {
     "data": {
      "text/plain": [
       "6"
      ]
     },
     "execution_count": 42,
     "metadata": {},
     "output_type": "execute_result"
    }
   ],
   "source": [
    "\"Hello World\".find(\"Wo\") #gives index no of \"Wo\" "
   ]
  },
  {
   "cell_type": "code",
   "execution_count": 48,
   "id": "b690e507",
   "metadata": {},
   "outputs": [
    {
     "name": "stdout",
     "output_type": "stream",
     "text": [
      "Hi World\n"
     ]
    }
   ],
   "source": [
    "#immutabale cannot change 1 index but we can change the string as wholes\n",
    "strg=\"Hello World\"\n",
    "strg2=strg.replace(\"Hello\",\"Hi\")\n",
    "print(strg2)"
   ]
  },
  {
   "cell_type": "markdown",
   "id": "37a72414",
   "metadata": {},
   "source": [
    "# Python Program to Check Palindrome or Not"
   ]
  },
  {
   "cell_type": "code",
   "execution_count": 53,
   "id": "c14ccb66",
   "metadata": {},
   "outputs": [
    {
     "name": "stdout",
     "output_type": "stream",
     "text": [
      "Given word is palindrome\n"
     ]
    }
   ],
   "source": [
    "my_str=\"MadaM\"\n",
    "\n",
    "#lower or upper as you like\n",
    "my_str=my_str.lower()\n",
    "\n",
    "#reverse the string\n",
    "rev_str=reversed(my_str)\n",
    "\n",
    "#check if string is equal to its reverse\n",
    "if list(my_str) == list(rev_str):\n",
    "\n",
    "#if my_str== rev_str:\n",
    "#will not work becoz diff memory location\n",
    "    print(\"Given word is palindrome\")\n",
    "else:\n",
    "    print(\"NOT Palindrome\")"
   ]
  },
  {
   "cell_type": "markdown",
   "id": "fb9f86a0",
   "metadata": {},
   "source": [
    "# Python Program to Sort Words in Alphabetic Order"
   ]
  },
  {
   "cell_type": "code",
   "execution_count": 61,
   "id": "2df3a56e",
   "metadata": {},
   "outputs": [
    {
     "name": "stdout",
     "output_type": "stream",
     "text": [
      "Alphabetic\n",
      "Order\n",
      "Python\n",
      "in\n",
      "program\n",
      "sort\n",
      "to\n",
      "words\n"
     ]
    }
   ],
   "source": [
    "my_stgr=\"Python program to sort words in Alphabetic Order\"\n",
    "\n",
    "#breakdown string into list of word\n",
    "words=my_stgr.split()\n",
    "\n",
    "#sort the list\n",
    "words.sort()\n",
    "#print\n",
    "for i in words:\n",
    "    print(i)"
   ]
  },
  {
   "cell_type": "code",
   "execution_count": null,
   "id": "a9da8110",
   "metadata": {},
   "outputs": [],
   "source": []
  }
 ],
 "metadata": {
  "kernelspec": {
   "display_name": "Python 3 (ipykernel)",
   "language": "python",
   "name": "python3"
  },
  "language_info": {
   "codemirror_mode": {
    "name": "ipython",
    "version": 3
   },
   "file_extension": ".py",
   "mimetype": "text/x-python",
   "name": "python",
   "nbconvert_exporter": "python",
   "pygments_lexer": "ipython3",
   "version": "3.10.9"
  }
 },
 "nbformat": 4,
 "nbformat_minor": 5
}
