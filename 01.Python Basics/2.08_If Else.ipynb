{
 "cells": [
  {
   "cell_type": "raw",
   "id": "9fcd0342",
   "metadata": {},
   "source": [
    "0, None , False is considered false"
   ]
  },
  {
   "cell_type": "code",
   "execution_count": 12,
   "id": "7f32ae98",
   "metadata": {},
   "outputs": [
    {
     "name": "stdout",
     "output_type": "stream",
     "text": [
      "This will always print as its outside the indentation\n"
     ]
    }
   ],
   "source": [
    "num = 10\n",
    "if num > 10:\n",
    "    print(\"Num is Positive\")\n",
    "print(\"This will always print as its outside the indentation\")"
   ]
  },
  {
   "cell_type": "code",
   "execution_count": 14,
   "id": "8d170921",
   "metadata": {},
   "outputs": [
    {
     "name": "stdout",
     "output_type": "stream",
     "text": [
      "This will always print as its outside the indentation\n"
     ]
    }
   ],
   "source": [
    "num = 10\n",
    "if num < 10:\n",
    "    print(\"Num is Negative\")\n",
    "print(\"This will always print as its outside the indentation\")"
   ]
  },
  {
   "cell_type": "code",
   "execution_count": 13,
   "id": "8bdd0b60",
   "metadata": {},
   "outputs": [
    {
     "name": "stdout",
     "output_type": "stream",
     "text": [
      "Num is Equal\n",
      "This will always print as its outside the indentation\n"
     ]
    }
   ],
   "source": [
    "num = 10\n",
    "if num == 10:\n",
    "    print(\"Num is Equal\")\n",
    "print(\"This will always print as its outside the indentation\")"
   ]
  },
  {
   "cell_type": "code",
   "execution_count": 5,
   "id": "f1645650",
   "metadata": {},
   "outputs": [
    {
     "name": "stdout",
     "output_type": "stream",
     "text": [
      "This will always print as its outside the indentation\n"
     ]
    }
   ],
   "source": [
    "num = 10\n",
    "if num-10: #num-10=0\n",
    "    print(\"Num is Positive\")\n",
    "print(\"This will always print as its outside the indentation\")"
   ]
  },
  {
   "cell_type": "code",
   "execution_count": 8,
   "id": "8d578ce5",
   "metadata": {},
   "outputs": [
    {
     "name": "stdout",
     "output_type": "stream",
     "text": [
      "This will always print as its outside the indentation\n"
     ]
    }
   ],
   "source": [
    "num = 10\n",
    "if None:\n",
    "    print(\"Num is Positive\")\n",
    "print(\"This will always print as its outside the indentation\")"
   ]
  },
  {
   "cell_type": "code",
   "execution_count": 9,
   "id": "2ddceb97",
   "metadata": {},
   "outputs": [
    {
     "name": "stdout",
     "output_type": "stream",
     "text": [
      "This will always print as its outside the indentation\n"
     ]
    }
   ],
   "source": [
    "num = 10\n",
    "if 0:\n",
    "    print(\"Num is Positive\")\n",
    "print(\"This will always print as its outside the indentation\")"
   ]
  },
  {
   "cell_type": "code",
   "execution_count": 6,
   "id": "ec244193",
   "metadata": {},
   "outputs": [
    {
     "name": "stdout",
     "output_type": "stream",
     "text": [
      "Num is Positive\n",
      "This will always print as its outside the indentation\n"
     ]
    }
   ],
   "source": [
    "num = 10\n",
    "if -1:\n",
    "    print(\"Num is Positive\")\n",
    "print(\"This will always print as its outside the indentation\")"
   ]
  },
  {
   "cell_type": "code",
   "execution_count": 16,
   "id": "87427a0b",
   "metadata": {},
   "outputs": [
    {
     "name": "stdout",
     "output_type": "stream",
     "text": [
      "Num is Positive\n",
      "This will always print as its outside the indentation\n"
     ]
    }
   ],
   "source": [
    "num = 10\n",
    "if +10:\n",
    "    print(\"Num is Positive\")\n",
    "print(\"This will always print as its outside the indentation\")"
   ]
  },
  {
   "cell_type": "markdown",
   "id": "f05252dc",
   "metadata": {},
   "source": [
    "\n",
    "# Example"
   ]
  },
  {
   "cell_type": "code",
   "execution_count": 17,
   "id": "965f7b4b",
   "metadata": {},
   "outputs": [
    {
     "name": "stdout",
     "output_type": "stream",
     "text": [
      "num is positive number\n"
     ]
    }
   ],
   "source": [
    "num = 1\n",
    "if num >0:\n",
    "    print(\"num is positive number\")\n",
    "else:\n",
    "    print(\"num is negative number\")"
   ]
  },
  {
   "cell_type": "code",
   "execution_count": 18,
   "id": "b51ff19a",
   "metadata": {},
   "outputs": [
    {
     "name": "stdout",
     "output_type": "stream",
     "text": [
      "+ num\n"
     ]
    }
   ],
   "source": [
    "num = 10.5\n",
    "if num > 0:\n",
    "    print(\"+ num\")\n",
    "elif num ==10.5:\n",
    "    print(\"= num\")\n",
    "else:\n",
    "    print(\"- num\")"
   ]
  },
  {
   "cell_type": "code",
   "execution_count": 20,
   "id": "91516a01",
   "metadata": {},
   "outputs": [
    {
     "name": "stdout",
     "output_type": "stream",
     "text": [
      "Zero\n"
     ]
    }
   ],
   "source": [
    "num = 0\n",
    "if num > 0:\n",
    "    print(\"+ num\")\n",
    "elif num ==0:\n",
    "    print(\"Zero\")\n",
    "else:\n",
    "    print(\"- num\")"
   ]
  },
  {
   "cell_type": "markdown",
   "id": "a6560797",
   "metadata": {},
   "source": [
    "# NESTED IF ELSE"
   ]
  },
  {
   "cell_type": "code",
   "execution_count": 21,
   "id": "6edd1898",
   "metadata": {},
   "outputs": [
    {
     "name": "stdout",
     "output_type": "stream",
     "text": [
      "+ num\n"
     ]
    }
   ],
   "source": [
    "num = 10.5\n",
    "\n",
    "if num >=0:\n",
    "    if num == 0:\n",
    "        print(\"Zero\")\n",
    "    else:\n",
    "        print(\"+ num\")\n",
    "else:\n",
    "    print(\"- num\")"
   ]
  },
  {
   "cell_type": "markdown",
   "id": "e3bae17f",
   "metadata": {},
   "source": [
    "# Greatest of Three number\n"
   ]
  },
  {
   "cell_type": "code",
   "execution_count": 22,
   "id": "c7823bff",
   "metadata": {},
   "outputs": [
    {
     "name": "stdout",
     "output_type": "stream",
     "text": [
      "largest num is : 50\n"
     ]
    }
   ],
   "source": [
    "num1=10\n",
    "num2=50\n",
    "num3=15\n",
    "\n",
    "if (num1>=num2) and (num1>=num3):\n",
    "    largest = num1\n",
    "elif (num2>=num1) and (num2>=num3):\n",
    "    largest = num2\n",
    "else:\n",
    "    largest = num3\n",
    "print(\"largest num is : {}\".format(largest))\n"
   ]
  },
  {
   "cell_type": "code",
   "execution_count": null,
   "id": "64cf6501",
   "metadata": {},
   "outputs": [],
   "source": []
  }
 ],
 "metadata": {
  "kernelspec": {
   "display_name": "Python 3 (ipykernel)",
   "language": "python",
   "name": "python3"
  },
  "language_info": {
   "codemirror_mode": {
    "name": "ipython",
    "version": 3
   },
   "file_extension": ".py",
   "mimetype": "text/x-python",
   "name": "python",
   "nbconvert_exporter": "python",
   "pygments_lexer": "ipython3",
   "version": "3.10.9"
  }
 },
 "nbformat": 4,
 "nbformat_minor": 5
}
