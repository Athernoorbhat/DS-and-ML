{
 "cells": [
  {
   "cell_type": "markdown",
   "id": "7697cd73",
   "metadata": {},
   "source": [
    "# Tuples\n"
   ]
  },
  {
   "cell_type": "raw",
   "id": "7f5a42b8",
   "metadata": {},
   "source": [
    "1.Imutable i.e can't be changed\n",
    "2.Sequential\n",
    "3.Collection of items\n",
    "4.()\n",
    "5.Each item has index value\n",
    "6.END WITH COMMA\n"
   ]
  },
  {
   "cell_type": "code",
   "execution_count": 3,
   "id": "c4c2c423",
   "metadata": {},
   "outputs": [
    {
     "name": "stdout",
     "output_type": "stream",
     "text": [
      "(1, 2, 3)\n",
      "(1, 'hi', 28, 'hello')\n",
      "(1, (2, 3, 4), [1, 2, 'Hi', 28])\n"
     ]
    }
   ],
   "source": [
    "t=() #empty Tuple\n",
    "\n",
    "t=(1,2,3) #tuple with integers\n",
    "print(t)\n",
    "\n",
    "t=(1,'hi',28,'hello') #tuple with mixed datatypes\n",
    "print(t)\n",
    "\n",
    "t=(1,(2,3,4),[1,2,'Hi',28]) #nested tuples \n",
    "print(t)"
   ]
  },
  {
   "cell_type": "code",
   "execution_count": 9,
   "id": "5306bbc6",
   "metadata": {},
   "outputs": [
    {
     "data": {
      "text/plain": [
       "tuple"
      ]
     },
     "execution_count": 9,
     "metadata": {},
     "output_type": "execute_result"
    }
   ],
   "source": [
    "t2=(\"hi\",) #comma at end is must for tuple\n",
    "type(t2)"
   ]
  },
  {
   "cell_type": "code",
   "execution_count": 12,
   "id": "407dcb9d",
   "metadata": {},
   "outputs": [
    {
     "data": {
      "text/plain": [
       "tuple"
      ]
     },
     "execution_count": 12,
     "metadata": {},
     "output_type": "execute_result"
    }
   ],
   "source": [
    "t2=\"hi\", #comma at end is must for tuple\n",
    "type(t2)"
   ]
  },
  {
   "cell_type": "code",
   "execution_count": 18,
   "id": "ba802d17",
   "metadata": {},
   "outputs": [
    {
     "data": {
      "text/plain": [
       "tuple"
      ]
     },
     "execution_count": 18,
     "metadata": {},
     "output_type": "execute_result"
    }
   ],
   "source": [
    "t2=(\"hi\",\"hello\") #min two elem for tuple\n",
    "type(t2)"
   ]
  },
  {
   "cell_type": "code",
   "execution_count": 15,
   "id": "a09cffa5",
   "metadata": {},
   "outputs": [
    {
     "data": {
      "text/plain": [
       "str"
      ]
     },
     "execution_count": 15,
     "metadata": {},
     "output_type": "execute_result"
    }
   ],
   "source": [
    "t=(\"hi\")\n",
    "type(t)"
   ]
  },
  {
   "cell_type": "code",
   "execution_count": 14,
   "id": "0c729c10",
   "metadata": {},
   "outputs": [
    {
     "data": {
      "text/plain": [
       "str"
      ]
     },
     "execution_count": 14,
     "metadata": {},
     "output_type": "execute_result"
    }
   ],
   "source": [
    "t2=\"hi\"\n",
    "type(t2)"
   ]
  },
  {
   "cell_type": "markdown",
   "id": "3518e656",
   "metadata": {},
   "source": [
    "# Tuple Length"
   ]
  },
  {
   "cell_type": "code",
   "execution_count": 19,
   "id": "4d7d010a",
   "metadata": {},
   "outputs": [
    {
     "name": "stdout",
     "output_type": "stream",
     "text": [
      "3\n"
     ]
    }
   ],
   "source": [
    "t=(1,2,3)\n",
    "print(len(t))"
   ]
  },
  {
   "cell_type": "markdown",
   "id": "f39e4418",
   "metadata": {},
   "source": [
    "# Accessing Elements in Tuple / Indexing"
   ]
  },
  {
   "cell_type": "code",
   "execution_count": 21,
   "id": "05bb578c",
   "metadata": {},
   "outputs": [
    {
     "name": "stdout",
     "output_type": "stream",
     "text": [
      "2\n",
      "6\n"
     ]
    }
   ],
   "source": [
    "t=(1,2,3,4,5,6)\n",
    "print(t[1])\n",
    "print(t[-1])"
   ]
  },
  {
   "cell_type": "code",
   "execution_count": 26,
   "id": "37838c19",
   "metadata": {},
   "outputs": [
    {
     "name": "stdout",
     "output_type": "stream",
     "text": [
      "2\n",
      "(3, 4, 5)\n"
     ]
    }
   ],
   "source": [
    "#tuple inside the tuple\n",
    "t=(1,2,(3,4,5))\n",
    "print(t[1]) \n",
    "print(t[2])"
   ]
  },
  {
   "cell_type": "markdown",
   "id": "c55985f3",
   "metadata": {},
   "source": [
    "# Slicing"
   ]
  },
  {
   "cell_type": "code",
   "execution_count": 41,
   "id": "3931b3da",
   "metadata": {},
   "outputs": [
    {
     "name": "stdout",
     "output_type": "stream",
     "text": [
      "2\n",
      "(1, 2)\n",
      "(1, 2)\n",
      "(2, 3)\n",
      "7\n",
      "(1, 2, 3, 4, 5, 6)\n",
      "(1, 2, 3, 4, 5, 6, 7, 8)\n",
      "(1, 3, 5, 7)\n"
     ]
    }
   ],
   "source": [
    "t=(1,2,3,4,5,6,7,8)\n",
    "print(t[1])\n",
    "print(t[:2]) #n-1\n",
    "print(t[0:2])\n",
    "print(t[1:3])\n",
    "print(t[-2])\n",
    "print(t[:-2]) #start sai n-1\n",
    "print(t[:])\n",
    "print(t[0:8:2])"
   ]
  },
  {
   "cell_type": "markdown",
   "id": "8e255dcc",
   "metadata": {},
   "source": [
    "# Changing a Tuple"
   ]
  },
  {
   "cell_type": "raw",
   "id": "56207642",
   "metadata": {},
   "source": [
    "Unlike List Tuple are immutable"
   ]
  },
  {
   "cell_type": "code",
   "execution_count": 42,
   "id": "983179e7",
   "metadata": {},
   "outputs": [
    {
     "ename": "TypeError",
     "evalue": "'tuple' object does not support item assignment",
     "output_type": "error",
     "traceback": [
      "\u001b[1;31m---------------------------------------------------------------------------\u001b[0m",
      "\u001b[1;31mTypeError\u001b[0m                                 Traceback (most recent call last)",
      "Cell \u001b[1;32mIn[42], line 2\u001b[0m\n\u001b[0;32m      1\u001b[0m t\u001b[38;5;241m=\u001b[39m(\u001b[38;5;241m1\u001b[39m,\u001b[38;5;241m2\u001b[39m,\u001b[38;5;241m3\u001b[39m,\u001b[38;5;241m4\u001b[39m,\u001b[38;5;241m5\u001b[39m,\u001b[38;5;241m6\u001b[39m,\u001b[38;5;241m7\u001b[39m,\u001b[38;5;241m8\u001b[39m)\n\u001b[1;32m----> 2\u001b[0m t[\u001b[38;5;241m1\u001b[39m]\u001b[38;5;241m=\u001b[39m\u001b[38;5;124m'\u001b[39m\u001b[38;5;124mx\u001b[39m\u001b[38;5;124m'\u001b[39m\n\u001b[0;32m      3\u001b[0m t[\u001b[38;5;241m2\u001b[39m]\u001b[38;5;241m=\u001b[39m\u001b[38;5;241m0\u001b[39m\n",
      "\u001b[1;31mTypeError\u001b[0m: 'tuple' object does not support item assignment"
     ]
    }
   ],
   "source": [
    "t=(1,2,3,4,5,6,7,8)\n",
    "t[1]='x'\n",
    "t[2]=0"
   ]
  },
  {
   "cell_type": "code",
   "execution_count": 44,
   "id": "a6c83e76",
   "metadata": {},
   "outputs": [
    {
     "name": "stdout",
     "output_type": "stream",
     "text": [
      "(1, 2, 3, 4, 5, 6, 7, 8, [9, 'Hello', 10])\n"
     ]
    }
   ],
   "source": [
    "t=(1,2,3,4,5,6,7,8,[9,'Hi',10])\n",
    "t[8][1]='Hello'\n",
    "print(t)"
   ]
  },
  {
   "cell_type": "markdown",
   "id": "32942da0",
   "metadata": {},
   "source": [
    "# Concatinate Tuple"
   ]
  },
  {
   "cell_type": "code",
   "execution_count": 45,
   "id": "266fe1ce",
   "metadata": {},
   "outputs": [
    {
     "name": "stdout",
     "output_type": "stream",
     "text": [
      "(1, 2, 3, 4, 5, 6)\n"
     ]
    }
   ],
   "source": [
    "t=(1,2,3)+(4,5,6)\n",
    "print(t)"
   ]
  },
  {
   "cell_type": "code",
   "execution_count": 46,
   "id": "3a72b09e",
   "metadata": {},
   "outputs": [
    {
     "name": "stdout",
     "output_type": "stream",
     "text": [
      "('ather', 'ather', 'ather', 'ather')\n"
     ]
    }
   ],
   "source": [
    "t=((\"ather\",)*4)\n",
    "print(t)"
   ]
  },
  {
   "cell_type": "markdown",
   "id": "0cd370b1",
   "metadata": {},
   "source": [
    "# Tuple Deletion"
   ]
  },
  {
   "cell_type": "raw",
   "id": "34c40703",
   "metadata": {},
   "source": [
    "we cannot change/delete the elements in tuple"
   ]
  },
  {
   "cell_type": "code",
   "execution_count": 49,
   "id": "9a092253",
   "metadata": {},
   "outputs": [
    {
     "ename": "NameError",
     "evalue": "name 't' is not defined",
     "output_type": "error",
     "traceback": [
      "\u001b[1;31m---------------------------------------------------------------------------\u001b[0m",
      "\u001b[1;31mNameError\u001b[0m                                 Traceback (most recent call last)",
      "Cell \u001b[1;32mIn[49], line 3\u001b[0m\n\u001b[0;32m      1\u001b[0m t\u001b[38;5;241m=\u001b[39m(\u001b[38;5;241m1\u001b[39m,\u001b[38;5;241m2\u001b[39m,\u001b[38;5;241m3\u001b[39m,\u001b[38;5;241m4\u001b[39m,\u001b[38;5;241m5\u001b[39m,\u001b[38;5;241m6\u001b[39m,\u001b[38;5;241m7\u001b[39m,\u001b[38;5;241m8\u001b[39m)\n\u001b[0;32m      2\u001b[0m \u001b[38;5;28;01mdel\u001b[39;00m t\n\u001b[1;32m----> 3\u001b[0m \u001b[38;5;28mprint\u001b[39m(\u001b[43mt\u001b[49m)\n",
      "\u001b[1;31mNameError\u001b[0m: name 't' is not defined"
     ]
    }
   ],
   "source": [
    "t=(1,2,3,4,5,6,7,8)\n",
    "del t  #deletes everything\n",
    "print(t)"
   ]
  },
  {
   "cell_type": "markdown",
   "id": "bccad9b2",
   "metadata": {},
   "source": [
    "# Tuple Count"
   ]
  },
  {
   "cell_type": "code",
   "execution_count": 59,
   "id": "f53ec75a",
   "metadata": {},
   "outputs": [
    {
     "name": "stdout",
     "output_type": "stream",
     "text": [
      "2\n"
     ]
    }
   ],
   "source": [
    "#counts how many times 1 exts /frequency\n",
    "t=(1,2,3,4,5,6,7,8,1)\n",
    "print(t.count(1))"
   ]
  },
  {
   "cell_type": "markdown",
   "id": "b2301485",
   "metadata": {},
   "source": [
    "# Tuple Sort"
   ]
  },
  {
   "cell_type": "code",
   "execution_count": 53,
   "id": "7f4d5294",
   "metadata": {},
   "outputs": [
    {
     "name": "stdout",
     "output_type": "stream",
     "text": [
      "[1, 2, 2.3, 3, 6, 8]\n"
     ]
    }
   ],
   "source": [
    "t=(3,1,6,2,8,2.3)\n",
    "t_new=sorted(t)\n",
    "print(t_new)"
   ]
  },
  {
   "cell_type": "code",
   "execution_count": 70,
   "id": "e7f875f3",
   "metadata": {},
   "outputs": [
    {
     "ename": "AttributeError",
     "evalue": "'tuple' object has no attribute 'sort'",
     "output_type": "error",
     "traceback": [
      "\u001b[1;31m---------------------------------------------------------------------------\u001b[0m",
      "\u001b[1;31mAttributeError\u001b[0m                            Traceback (most recent call last)",
      "Cell \u001b[1;32mIn[70], line 2\u001b[0m\n\u001b[0;32m      1\u001b[0m t\u001b[38;5;241m=\u001b[39m(\u001b[38;5;241m3\u001b[39m,\u001b[38;5;241m1\u001b[39m,\u001b[38;5;241m6\u001b[39m,\u001b[38;5;241m2\u001b[39m,\u001b[38;5;241m8\u001b[39m,\u001b[38;5;241m2.3\u001b[39m)\n\u001b[1;32m----> 2\u001b[0m \u001b[38;5;28mprint\u001b[39m(\u001b[43mt\u001b[49m\u001b[38;5;241;43m.\u001b[39;49m\u001b[43msort\u001b[49m())\n",
      "\u001b[1;31mAttributeError\u001b[0m: 'tuple' object has no attribute 'sort'"
     ]
    }
   ],
   "source": [
    "t=(3,1,6,2,8,2.3)\n",
    "print(t.sort())\n",
    "\n",
    "# it does not work becoz immutable"
   ]
  },
  {
   "cell_type": "markdown",
   "id": "e09b982a",
   "metadata": {},
   "source": [
    "# Tuple Index"
   ]
  },
  {
   "cell_type": "code",
   "execution_count": 66,
   "id": "3ad775cf",
   "metadata": {},
   "outputs": [
    {
     "name": "stdout",
     "output_type": "stream",
     "text": [
      "element at index 0 : 3\n",
      "element at index 1 : 1\n",
      "0\n",
      "2\n",
      "5\n"
     ]
    }
   ],
   "source": [
    "t=(3,1,6,2,8,2.3)\n",
    "print(\"element at index 0 :\" ,t[0])\n",
    "print(\"element at index 1 :\" ,t[1])\n",
    "\n",
    "#gives the index no the elemnt comes first in tuple\n",
    "print(t.index(3))\n",
    "print(t.index(6))\n",
    "print(t.index(2.3))"
   ]
  },
  {
   "cell_type": "markdown",
   "id": "241fc516",
   "metadata": {},
   "source": [
    "# Tuple Memebership"
   ]
  },
  {
   "cell_type": "code",
   "execution_count": 69,
   "id": "f225ffbf",
   "metadata": {},
   "outputs": [
    {
     "name": "stdout",
     "output_type": "stream",
     "text": [
      "True\n",
      "True\n",
      "False\n"
     ]
    }
   ],
   "source": [
    "#returns boolean\n",
    "t=(3,1,6,2,8,2.3)\n",
    "print (1 in t)\n",
    "print (2 in t)\n",
    "print (9 in t)"
   ]
  },
  {
   "cell_type": "markdown",
   "id": "0459f927",
   "metadata": {},
   "source": [
    "# MISC"
   ]
  },
  {
   "cell_type": "code",
   "execution_count": 72,
   "id": "6df25dac",
   "metadata": {},
   "outputs": [
    {
     "name": "stdout",
     "output_type": "stream",
     "text": [
      "8\n",
      "1\n",
      "22.3\n"
     ]
    }
   ],
   "source": [
    "t=(3,1,6,2,8,2.3)\n",
    "print(max(t))\n",
    "print(min(t))\n",
    "print(sum(t))"
   ]
  },
  {
   "cell_type": "code",
   "execution_count": null,
   "id": "63b333ea",
   "metadata": {},
   "outputs": [],
   "source": []
  }
 ],
 "metadata": {
  "kernelspec": {
   "display_name": "Python 3 (ipykernel)",
   "language": "python",
   "name": "python3"
  },
  "language_info": {
   "codemirror_mode": {
    "name": "ipython",
    "version": 3
   },
   "file_extension": ".py",
   "mimetype": "text/x-python",
   "name": "python",
   "nbconvert_exporter": "python",
   "pygments_lexer": "ipython3",
   "version": "3.10.9"
  }
 },
 "nbformat": 4,
 "nbformat_minor": 5
}
