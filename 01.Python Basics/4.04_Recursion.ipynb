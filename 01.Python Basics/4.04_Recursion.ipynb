{
 "cells": [
  {
   "cell_type": "markdown",
   "id": "97d20eb9",
   "metadata": {},
   "source": [
    "# Recursion"
   ]
  },
  {
   "cell_type": "markdown",
   "id": "a773ae21",
   "metadata": {},
   "source": [
    "# Advantages"
   ]
  },
  {
   "cell_type": "raw",
   "id": "c32c4893",
   "metadata": {},
   "source": [
    "1.Calling Function within the function.It is even possible for function to call itslef.\n",
    "\n",
    "2.These type of construct are termed as recursion function.\n",
    "\n",
    "3.It makes code look Clean and elegant.\n",
    "\n",
    "4.Sequence Generation is easier with this. \n"
   ]
  },
  {
   "cell_type": "markdown",
   "id": "33e28d12",
   "metadata": {},
   "source": [
    "# Disadvantages"
   ]
  },
  {
   "cell_type": "code",
   "execution_count": null,
   "id": "f70b2612",
   "metadata": {},
   "outputs": [],
   "source": [
    "1. Logic is hard to follow .\n",
    "\n",
    "2.Recursive calls are expensive (inefficeint) as they take lot of memory.\n",
    "\n",
    "3.They are hard to debug."
   ]
  },
  {
   "cell_type": "markdown",
   "id": "a42afbd5",
   "metadata": {},
   "source": [
    "# Example"
   ]
  },
  {
   "cell_type": "markdown",
   "id": "8b32dbce",
   "metadata": {},
   "source": [
    "Python Program toprint factorial of number"
   ]
  },
  {
   "cell_type": "code",
   "execution_count": 15,
   "id": "aeb15301",
   "metadata": {},
   "outputs": [
    {
     "name": "stdout",
     "output_type": "stream",
     "text": [
      "120\n"
     ]
    }
   ],
   "source": [
    "def factorial(num):\n",
    "    \"\"\"\n",
    "    This is a recursive function to find factorial of given number\n",
    "    \n",
    "    \"\"\"\n",
    "    if num==1:\n",
    "        return 1 \n",
    "    else:\n",
    "        return num * factorial(num-1)\n",
    "result = factorial(5)\n",
    "print(result)"
   ]
  },
  {
   "cell_type": "code",
   "execution_count": 16,
   "id": "cd0e8bc3",
   "metadata": {},
   "outputs": [
    {
     "name": "stdout",
     "output_type": "stream",
     "text": [
      "Factorial of 5 is 120\n"
     ]
    }
   ],
   "source": [
    "def factorial(num):\n",
    "    \"\"\"\n",
    "    This is a recursive function to find factorial of given number\n",
    "    \n",
    "    \"\"\"\n",
    "    return 1 if num==1 else (num*factorial(num-1))\n",
    "\n",
    "num = 5\n",
    "print(\"Factorial of {0} is {1}\".format(num,factorial(num)))"
   ]
  },
  {
   "cell_type": "markdown",
   "id": "2ed6eba2",
   "metadata": {},
   "source": [
    "# Python Program to display the fibonacci series upto n-th term using Recursive function"
   ]
  },
  {
   "cell_type": "code",
   "execution_count": 19,
   "id": "e9409a5b",
   "metadata": {},
   "outputs": [
    {
     "name": "stdout",
     "output_type": "stream",
     "text": [
      "Fibonacci Sequence\n",
      "0\n",
      "1\n",
      "1\n",
      "2\n",
      "3\n",
      "5\n",
      "8\n",
      "13\n",
      "21\n",
      "34\n"
     ]
    }
   ],
   "source": [
    "def fibonacci(num):\n",
    "    \"\"\"\n",
    "    Recursive function to print fibonacci series \n",
    "    \n",
    "    \"\"\"\n",
    "    if num <=1:\n",
    "        return num\n",
    "    else:\n",
    "        return fibonacci(num-1) + fibonacci(num-2)\n",
    "nterms=10 \n",
    "print(\"Fibonacci Sequence\")\n",
    "for num in range(nterms):\n",
    "    print(fibonacci(num))\n",
    "    "
   ]
  },
  {
   "cell_type": "code",
   "execution_count": 20,
   "id": "96b67bf0",
   "metadata": {},
   "outputs": [
    {
     "name": "stdout",
     "output_type": "stream",
     "text": [
      "Fibonacci Sequence\n",
      "0\n",
      "1\n",
      "1\n",
      "2\n",
      "3\n",
      "5\n",
      "8\n",
      "13\n",
      "21\n",
      "34\n"
     ]
    }
   ],
   "source": [
    "def fibonacci(num):\n",
    "    \"\"\"\n",
    "    Recursive function to print fibonacci series \n",
    "    \n",
    "    \"\"\"\n",
    "    return num if num <=1 else fibonacci(num-1) + fibonacci(num-2)\n",
    "nterms=10 \n",
    "print(\"Fibonacci Sequence\")\n",
    "for num in range(nterms):\n",
    "    print(fibonacci(num))"
   ]
  },
  {
   "cell_type": "code",
   "execution_count": null,
   "id": "a52fffab",
   "metadata": {},
   "outputs": [],
   "source": []
  }
 ],
 "metadata": {
  "kernelspec": {
   "display_name": "Python 3 (ipykernel)",
   "language": "python",
   "name": "python3"
  },
  "language_info": {
   "codemirror_mode": {
    "name": "ipython",
    "version": 3
   },
   "file_extension": ".py",
   "mimetype": "text/x-python",
   "name": "python",
   "nbconvert_exporter": "python",
   "pygments_lexer": "ipython3",
   "version": "3.10.9"
  }
 },
 "nbformat": 4,
 "nbformat_minor": 5
}
