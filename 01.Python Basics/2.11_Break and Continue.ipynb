{
 "cells": [
  {
   "cell_type": "markdown",
   "id": "2e0bf7d9",
   "metadata": {},
   "source": [
    "# Break Statement"
   ]
  },
  {
   "cell_type": "code",
   "execution_count": 5,
   "id": "9fe9b66e",
   "metadata": {},
   "outputs": [
    {
     "name": "stdout",
     "output_type": "stream",
     "text": [
      "1\n",
      "2\n",
      "outside of for loop\n"
     ]
    }
   ],
   "source": [
    "num =[1,2,3,4]\n",
    "for i in num:\n",
    "    if i==3:\n",
    "        break\n",
    "    print(i)\n",
    "else:\n",
    "    print(\"in the else block\")\n",
    "print(\"outside of for loop\")"
   ]
  },
  {
   "cell_type": "code",
   "execution_count": 6,
   "id": "7a613910",
   "metadata": {},
   "outputs": [
    {
     "name": "stdout",
     "output_type": "stream",
     "text": [
      "1\n",
      "2\n",
      "3\n",
      "4\n",
      "in the else block\n",
      "outside of for loop\n"
     ]
    }
   ],
   "source": [
    "num =[1,2,3,4]\n",
    "for i in num:\n",
    "    if i==5:\n",
    "        break\n",
    "    print(i)\n",
    "else:\n",
    "    print(\"in the else block\")\n",
    "print(\"outside of for loop\")"
   ]
  },
  {
   "cell_type": "markdown",
   "id": "648a7372",
   "metadata": {},
   "source": [
    "# Python Program to Check given number is Prime or not"
   ]
  },
  {
   "cell_type": "code",
   "execution_count": 11,
   "id": "e50162e9",
   "metadata": {},
   "outputs": [
    {
     "name": "stdout",
     "output_type": "stream",
     "text": [
      "Enter no : 15\n",
      "15 is divisible by 3 \n",
      "15 is  NOT Prime\n"
     ]
    }
   ],
   "source": [
    "num =int(input(\"Enter no : \"))\n",
    "\n",
    "isDivisible =False;\n",
    "\n",
    "i=2;\n",
    "while i < num:\n",
    "    if num%i==0:\n",
    "        isDivisible= True;\n",
    "        print(\"{} is divisible by {} \".format(num,i))\n",
    "        break; #only addition to previous code \n",
    "        \n",
    "        #2 sai divide huwa now dont go to all other numbers\n",
    "        #without break 3 sai 4 sai check karo\n",
    "        \n",
    "    i+=1;\n",
    "if isDivisible:\n",
    "    print(\"{} is  NOT Prime\". format(num))\n",
    "else:\n",
    "    print(\"{} is Prime\".format(num))"
   ]
  },
  {
   "cell_type": "markdown",
   "id": "cc84aaa9",
   "metadata": {},
   "source": [
    "# Continue Statement"
   ]
  },
  {
   "cell_type": "markdown",
   "id": "2631b65f",
   "metadata": {},
   "source": [
    "continue the loop and dont go down"
   ]
  },
  {
   "cell_type": "code",
   "execution_count": 17,
   "id": "35762777",
   "metadata": {},
   "outputs": [
    {
     "name": "stdout",
     "output_type": "stream",
     "text": [
      "2\n",
      "4\n",
      "else block \n"
     ]
    }
   ],
   "source": [
    "#print odd numbers\n",
    "num =[1,2,3,4,5]\n",
    "\n",
    "for i in num:\n",
    "    if i % 2 == 0:\n",
    "        print(i)\n",
    "else:\n",
    "    print(\"else block \")"
   ]
  },
  {
   "cell_type": "code",
   "execution_count": 18,
   "id": "5670e3c1",
   "metadata": {},
   "outputs": [
    {
     "name": "stdout",
     "output_type": "stream",
     "text": [
      "1\n",
      "3\n",
      "5\n",
      "else block \n"
     ]
    }
   ],
   "source": [
    "#print odd numbers\n",
    "num =[1,2,3,4,5]\n",
    "\n",
    "for i in num:\n",
    "    if i % 2 == 0:\n",
    "        continue\n",
    "    print(i)\n",
    "else:\n",
    "    print(\"else block \")"
   ]
  },
  {
   "cell_type": "code",
   "execution_count": null,
   "id": "d203c9e1",
   "metadata": {},
   "outputs": [],
   "source": []
  }
 ],
 "metadata": {
  "kernelspec": {
   "display_name": "Python 3 (ipykernel)",
   "language": "python",
   "name": "python3"
  },
  "language_info": {
   "codemirror_mode": {
    "name": "ipython",
    "version": 3
   },
   "file_extension": ".py",
   "mimetype": "text/x-python",
   "name": "python",
   "nbconvert_exporter": "python",
   "pygments_lexer": "ipython3",
   "version": "3.10.9"
  }
 },
 "nbformat": 4,
 "nbformat_minor": 5
}
