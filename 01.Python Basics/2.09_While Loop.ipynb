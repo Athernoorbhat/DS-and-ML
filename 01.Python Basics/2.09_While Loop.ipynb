{
 "cells": [
  {
   "cell_type": "markdown",
   "id": "a44e576c",
   "metadata": {},
   "source": [
    "# WHILE LOOP"
   ]
  },
  {
   "cell_type": "code",
   "execution_count": 6,
   "id": "9f4b5084",
   "metadata": {},
   "outputs": [
    {
     "name": "stdout",
     "output_type": "stream",
     "text": [
      "Product is : 6000\n"
     ]
    }
   ],
   "source": [
    "lst=[10,20,30]\n",
    "\n",
    "product = 1\n",
    "index = 0\n",
    "\n",
    "while index <len(lst): #0<2,->1<2,->2<2\n",
    "    product *= lst[index] #p=p*10\n",
    "    #product= product*lst[index]\n",
    "    index +=1\n",
    "    \n",
    "print(\"Product is : {}\".format(product))"
   ]
  },
  {
   "cell_type": "markdown",
   "id": "06d6353b",
   "metadata": {},
   "source": [
    "# WHILE LOOP WITH ELSE"
   ]
  },
  {
   "cell_type": "code",
   "execution_count": 8,
   "id": "46208e08",
   "metadata": {},
   "outputs": [
    {
     "name": "stdout",
     "output_type": "stream",
     "text": [
      "10\n",
      "20\n",
      "30\n",
      "list has ended\n"
     ]
    }
   ],
   "source": [
    "lst1=[10,20,30]\n",
    "\n",
    "index=0\n",
    "while index < len(lst1):\n",
    "    print(lst1[index])\n",
    "    index +=1\n",
    "else:\n",
    "    print(\"list has ended\")"
   ]
  },
  {
   "cell_type": "markdown",
   "id": "4437ad7d",
   "metadata": {},
   "source": [
    "# Prime Number Check"
   ]
  },
  {
   "cell_type": "code",
   "execution_count": 11,
   "id": "46e03329",
   "metadata": {},
   "outputs": [
    {
     "name": "stdout",
     "output_type": "stream",
     "text": [
      "Enter a number  :18\n",
      "18 is divisible by 2\n",
      "18 is divisible by 3\n",
      "18 is divisible by 6\n",
      "18 is divisible by 9\n",
      "18 is NOT Prime no \n"
     ]
    }
   ],
   "source": [
    "num = int(input(\"Enter a number  :\"))\n",
    "\n",
    "isDivisible = False;\n",
    "\n",
    "i=2;\n",
    "while i < num: # 1 and itslef no  kai bagair\n",
    "    if num % i == 0:\n",
    "        isDivisible = True;\n",
    "        print(\"{} is divisible by {}\".format(num,i))\n",
    "    i +=1;\n",
    "if isDivisible:\n",
    "    print(\"{} is NOT Prime no \".format(num))\n",
    "else:\n",
    "    print(\"{} is Prime no \".format(num))\n",
    "\n",
    "\n"
   ]
  },
  {
   "cell_type": "code",
   "execution_count": null,
   "id": "e701aa6f",
   "metadata": {},
   "outputs": [],
   "source": []
  }
 ],
 "metadata": {
  "kernelspec": {
   "display_name": "Python 3 (ipykernel)",
   "language": "python",
   "name": "python3"
  },
  "language_info": {
   "codemirror_mode": {
    "name": "ipython",
    "version": 3
   },
   "file_extension": ".py",
   "mimetype": "text/x-python",
   "name": "python",
   "nbconvert_exporter": "python",
   "pygments_lexer": "ipython3",
   "version": "3.10.9"
  }
 },
 "nbformat": 4,
 "nbformat_minor": 5
}
