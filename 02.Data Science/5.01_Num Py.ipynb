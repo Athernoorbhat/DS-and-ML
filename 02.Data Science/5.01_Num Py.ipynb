{
 "cells": [
  {
   "cell_type": "markdown",
   "id": "3d8822e8",
   "metadata": {},
   "source": [
    "# Num Py Array"
   ]
  },
  {
   "cell_type": "raw",
   "id": "e3b5755c",
   "metadata": {},
   "source": [
    "1.NumPy provides extension packages to python for multi-dimensional array\n",
    "2.NumPy designed for scientific computation(convenience).\n",
    "3.NumPy is also known as Array Oriented Computing.\n",
    "4.NumPy is closer to Hardware (efficiency)"
   ]
  },
  {
   "cell_type": "code",
   "execution_count": 5,
   "id": "78e7e34f",
   "metadata": {},
   "outputs": [
    {
     "name": "stdout",
     "output_type": "stream",
     "text": [
      "[0 1 2 3 4 5]\n",
      "[0 1 2 3 4 5 6 7 8 9]\n"
     ]
    }
   ],
   "source": [
    "#printing array with the help of List\n",
    "import numpy as np\n",
    "a=np.array([0,1,2,3,4,5]) #func of list\n",
    "print(a)\n",
    "\n",
    "#printing array of 0-9\n",
    "print(np.arange(10))"
   ]
  },
  {
   "cell_type": "markdown",
   "id": "d8621c3e",
   "metadata": {},
   "source": [
    "# NumPY Faster"
   ]
  },
  {
   "cell_type": "code",
   "execution_count": 8,
   "id": "a8ca6ade",
   "metadata": {
    "scrolled": true
   },
   "outputs": [
    {
     "name": "stdout",
     "output_type": "stream",
     "text": [
      "440 µs ± 7.89 µs per loop (mean ± std. dev. of 7 runs, 1,000 loops each)\n"
     ]
    }
   ],
   "source": [
    "lst=range(1000)\n",
    "%timeit [i**2 for i in lst] "
   ]
  },
  {
   "cell_type": "code",
   "execution_count": 9,
   "id": "88e74a5a",
   "metadata": {},
   "outputs": [
    {
     "name": "stdout",
     "output_type": "stream",
     "text": [
      "2.17 µs ± 16.6 ns per loop (mean ± std. dev. of 7 runs, 100,000 loops each)\n"
     ]
    }
   ],
   "source": [
    "a=np.arange(1000)\n",
    "%timeit a**2"
   ]
  },
  {
   "cell_type": "markdown",
   "id": "08776253",
   "metadata": {},
   "source": [
    "# 1.Creating Arrays"
   ]
  },
  {
   "cell_type": "markdown",
   "id": "d2deb3b9",
   "metadata": {},
   "source": [
    "# 1.1. Manual Construction of Array"
   ]
  },
  {
   "cell_type": "markdown",
   "id": "bce2f2db",
   "metadata": {},
   "source": [
    "# 1-D Array"
   ]
  },
  {
   "cell_type": "code",
   "execution_count": 17,
   "id": "4e0f0c77",
   "metadata": {},
   "outputs": [
    {
     "data": {
      "text/plain": [
       "array([0, 1, 2, 3, 4, 5])"
      ]
     },
     "execution_count": 17,
     "metadata": {},
     "output_type": "execute_result"
    }
   ],
   "source": [
    "# 1-D Arrays\n",
    "a=np.array([0,1,2,3,4,5])\n",
    "a"
   ]
  },
  {
   "cell_type": "code",
   "execution_count": 16,
   "id": "822aa532",
   "metadata": {},
   "outputs": [
    {
     "data": {
      "text/plain": [
       "1"
      ]
     },
     "execution_count": 16,
     "metadata": {},
     "output_type": "execute_result"
    }
   ],
   "source": [
    "#print dimensions\n",
    "a.ndim"
   ]
  },
  {
   "cell_type": "code",
   "execution_count": 13,
   "id": "c87e139d",
   "metadata": {
    "scrolled": true
   },
   "outputs": [
    {
     "data": {
      "text/plain": [
       "(6,)"
      ]
     },
     "execution_count": 13,
     "metadata": {},
     "output_type": "execute_result"
    }
   ],
   "source": [
    "#shape #6 elements\n",
    "a.shape"
   ]
  },
  {
   "cell_type": "code",
   "execution_count": 60,
   "id": "bcc065dc",
   "metadata": {},
   "outputs": [
    {
     "data": {
      "text/plain": [
       "6"
      ]
     },
     "execution_count": 60,
     "metadata": {},
     "output_type": "execute_result"
    }
   ],
   "source": [
    "a.size"
   ]
  },
  {
   "cell_type": "markdown",
   "id": "78e5efde",
   "metadata": {},
   "source": [
    "# List Of List"
   ]
  },
  {
   "cell_type": "code",
   "execution_count": 49,
   "id": "609d8d2a",
   "metadata": {},
   "outputs": [
    {
     "data": {
      "text/plain": [
       "array([[0, 1, 2, 3, 4],\n",
       "       [6, 7, 8, 9, 10]], dtype=object)"
      ]
     },
     "execution_count": 49,
     "metadata": {},
     "output_type": "execute_result"
    }
   ],
   "source": [
    "#List of list Array\n",
    "b=np.array([[0,1,2,3,4],[6,7,8,9,10]],dtype=object)\n",
    "b"
   ]
  },
  {
   "cell_type": "code",
   "execution_count": 50,
   "id": "a88e4f4c",
   "metadata": {},
   "outputs": [
    {
     "data": {
      "text/plain": [
       "2"
      ]
     },
     "execution_count": 50,
     "metadata": {},
     "output_type": "execute_result"
    }
   ],
   "source": [
    "#print dimensions\n",
    "b.ndim"
   ]
  },
  {
   "cell_type": "code",
   "execution_count": 51,
   "id": "3eafdd18",
   "metadata": {},
   "outputs": [
    {
     "data": {
      "text/plain": [
       "(2, 5)"
      ]
     },
     "execution_count": 51,
     "metadata": {},
     "output_type": "execute_result"
    }
   ],
   "source": [
    "#shape \n",
    "b.shape"
   ]
  },
  {
   "cell_type": "code",
   "execution_count": 52,
   "id": "d6b07e3f",
   "metadata": {
    "scrolled": true
   },
   "outputs": [
    {
     "data": {
      "text/plain": [
       "2"
      ]
     },
     "execution_count": 52,
     "metadata": {},
     "output_type": "execute_result"
    }
   ],
   "source": [
    "#returns the size of the first dimension\n",
    "len(b)"
   ]
  },
  {
   "cell_type": "code",
   "execution_count": 59,
   "id": "27c59932",
   "metadata": {},
   "outputs": [
    {
     "data": {
      "text/plain": [
       "10"
      ]
     },
     "execution_count": 59,
     "metadata": {},
     "output_type": "execute_result"
    }
   ],
   "source": [
    "b.size"
   ]
  },
  {
   "cell_type": "markdown",
   "id": "c441beab",
   "metadata": {},
   "source": [
    "# 2D  Array"
   ]
  },
  {
   "cell_type": "code",
   "execution_count": 44,
   "id": "f002bd5b",
   "metadata": {},
   "outputs": [
    {
     "data": {
      "text/plain": [
       "array([[0, 1, 2, 3, 4],\n",
       "       [5, 6, 7, 8, 9]])"
      ]
     },
     "execution_count": 44,
     "metadata": {},
     "output_type": "execute_result"
    }
   ],
   "source": [
    "c=np.array([[0,1,2,3,4,],[5,6,7,8,9]],dtype=np.int32)\n",
    "c"
   ]
  },
  {
   "cell_type": "code",
   "execution_count": 46,
   "id": "26e91a26",
   "metadata": {},
   "outputs": [
    {
     "data": {
      "text/plain": [
       "2"
      ]
     },
     "execution_count": 46,
     "metadata": {},
     "output_type": "execute_result"
    }
   ],
   "source": [
    "#print dimensions\n",
    "c.ndim"
   ]
  },
  {
   "cell_type": "code",
   "execution_count": 47,
   "id": "16e1e6ee",
   "metadata": {},
   "outputs": [
    {
     "data": {
      "text/plain": [
       "(2, 5)"
      ]
     },
     "execution_count": 47,
     "metadata": {},
     "output_type": "execute_result"
    }
   ],
   "source": [
    "#shape \n",
    "c.shape"
   ]
  },
  {
   "cell_type": "code",
   "execution_count": 48,
   "id": "9a356223",
   "metadata": {},
   "outputs": [
    {
     "data": {
      "text/plain": [
       "2"
      ]
     },
     "execution_count": 48,
     "metadata": {},
     "output_type": "execute_result"
    }
   ],
   "source": [
    "#returns the size of the first dimension\n",
    "len(c)"
   ]
  },
  {
   "cell_type": "code",
   "execution_count": 58,
   "id": "eb5215e4",
   "metadata": {},
   "outputs": [
    {
     "data": {
      "text/plain": [
       "10"
      ]
     },
     "execution_count": 58,
     "metadata": {},
     "output_type": "execute_result"
    }
   ],
   "source": [
    "c.size"
   ]
  },
  {
   "cell_type": "markdown",
   "id": "58925bac",
   "metadata": {},
   "source": [
    "# 3D Arrays"
   ]
  },
  {
   "cell_type": "code",
   "execution_count": 63,
   "id": "2dec5d68",
   "metadata": {},
   "outputs": [
    {
     "data": {
      "text/plain": [
       "array([[[0, 1],\n",
       "        [2, 3]],\n",
       "\n",
       "       [[4, 5],\n",
       "        [6, 7]]])"
      ]
     },
     "execution_count": 63,
     "metadata": {},
     "output_type": "execute_result"
    }
   ],
   "source": [
    "#list within list within list\n",
    "#CUBOID like\n",
    "d=np.array([[[0,1],[2,3]],[[4,5],[6,7]]])\n",
    "d"
   ]
  },
  {
   "cell_type": "code",
   "execution_count": 55,
   "id": "01d5b170",
   "metadata": {},
   "outputs": [
    {
     "data": {
      "text/plain": [
       "3"
      ]
     },
     "execution_count": 55,
     "metadata": {},
     "output_type": "execute_result"
    }
   ],
   "source": [
    "d.ndim"
   ]
  },
  {
   "cell_type": "code",
   "execution_count": 56,
   "id": "fa41a14b",
   "metadata": {},
   "outputs": [
    {
     "data": {
      "text/plain": [
       "8"
      ]
     },
     "execution_count": 56,
     "metadata": {},
     "output_type": "execute_result"
    }
   ],
   "source": [
    "d.size"
   ]
  },
  {
   "cell_type": "code",
   "execution_count": 64,
   "id": "4986c8f4",
   "metadata": {},
   "outputs": [
    {
     "data": {
      "text/plain": [
       "(2, 2, 2)"
      ]
     },
     "execution_count": 64,
     "metadata": {},
     "output_type": "execute_result"
    }
   ],
   "source": [
    "d.shape\n",
    "#tuple(len=2,brd=2,dep=2)"
   ]
  },
  {
   "cell_type": "raw",
   "id": "dbd0eeae",
   "metadata": {},
   "source": [
    "1D Array --> Vector\n",
    "2D Array --> Matrix\n",
    "3D Array --> Tensor"
   ]
  },
  {
   "cell_type": "markdown",
   "id": "701837f7",
   "metadata": {},
   "source": [
    "# 1.2. Functions for creating Arrays"
   ]
  },
  {
   "cell_type": "markdown",
   "id": "574e4fa1",
   "metadata": {},
   "source": [
    "# Using Arrange Function"
   ]
  },
  {
   "cell_type": "code",
   "execution_count": 66,
   "id": "d3149040",
   "metadata": {
    "scrolled": true
   },
   "outputs": [
    {
     "data": {
      "text/plain": [
       "array([0, 1, 2, 3, 4, 5, 6, 7, 8, 9])"
      ]
     },
     "execution_count": 66,
     "metadata": {},
     "output_type": "execute_result"
    }
   ],
   "source": [
    "a=np.arange(10) #0....9\n",
    "a"
   ]
  },
  {
   "cell_type": "code",
   "execution_count": 69,
   "id": "dfc7cf3e",
   "metadata": {
    "scrolled": true
   },
   "outputs": [
    {
     "data": {
      "text/plain": [
       "array([1, 3, 5, 7, 9])"
      ]
     },
     "execution_count": 69,
     "metadata": {},
     "output_type": "execute_result"
    }
   ],
   "source": [
    "a=np.arange(1,10,2) #0...9 with 2 step size\n",
    "a"
   ]
  },
  {
   "cell_type": "code",
   "execution_count": 78,
   "id": "6bad0906",
   "metadata": {},
   "outputs": [
    {
     "data": {
      "text/plain": [
       "array([0. , 0.2, 0.4, 0.6, 0.8])"
      ]
     },
     "execution_count": 78,
     "metadata": {},
     "output_type": "execute_result"
    }
   ],
   "source": [
    "a=np.arange(0,1,0.2,dtype=np.float64) #0...9 with 2 step size\n",
    "a\n"
   ]
  },
  {
   "cell_type": "markdown",
   "id": "557ca453",
   "metadata": {},
   "source": [
    "# Using Linspace"
   ]
  },
  {
   "cell_type": "code",
   "execution_count": 79,
   "id": "1bc84620",
   "metadata": {},
   "outputs": [
    {
     "data": {
      "text/plain": [
       "array([0. , 0.2, 0.4, 0.6, 0.8, 1. ])"
      ]
     },
     "execution_count": 79,
     "metadata": {},
     "output_type": "execute_result"
    }
   ],
   "source": [
    "#start,end,no of points\n",
    "a=np.linspace(0,1,6) \n",
    "a"
   ]
  },
  {
   "cell_type": "code",
   "execution_count": 81,
   "id": "a60c9667",
   "metadata": {},
   "outputs": [
    {
     "data": {
      "text/plain": [
       "array([1. , 1.4, 1.8, 2.2, 2.6, 3. ])"
      ]
     },
     "execution_count": 81,
     "metadata": {},
     "output_type": "execute_result"
    }
   ],
   "source": [
    "#start,end,no of points\n",
    "a=np.linspace(1,3,6) \n",
    "a"
   ]
  },
  {
   "cell_type": "markdown",
   "id": "d2897419",
   "metadata": {},
   "source": [
    "# Common Array"
   ]
  },
  {
   "cell_type": "code",
   "execution_count": 87,
   "id": "64cadc6d",
   "metadata": {},
   "outputs": [
    {
     "data": {
      "text/plain": [
       "array([[1., 1., 1.],\n",
       "       [1., 1., 1.],\n",
       "       [1., 1., 1.]])"
      ]
     },
     "execution_count": 87,
     "metadata": {},
     "output_type": "execute_result"
    }
   ],
   "source": [
    "a=np.ones((3,3)) #func of tuple\n",
    "a"
   ]
  },
  {
   "cell_type": "code",
   "execution_count": 83,
   "id": "8cf84d82",
   "metadata": {},
   "outputs": [
    {
     "data": {
      "text/plain": [
       "array([[0., 0., 0.],\n",
       "       [0., 0., 0.],\n",
       "       [0., 0., 0.]])"
      ]
     },
     "execution_count": 83,
     "metadata": {},
     "output_type": "execute_result"
    }
   ],
   "source": [
    "b=np.zeros((3,3)) #float\n",
    "b"
   ]
  },
  {
   "cell_type": "code",
   "execution_count": 88,
   "id": "59d69c7c",
   "metadata": {},
   "outputs": [
    {
     "data": {
      "text/plain": [
       "array([[1., 0.],\n",
       "       [0., 1.],\n",
       "       [0., 0.]])"
      ]
     },
     "execution_count": 88,
     "metadata": {},
     "output_type": "execute_result"
    }
   ],
   "source": [
    "#Identity 2-D array\n",
    "c=np.eye(3)\n",
    "c\n"
   ]
  },
  {
   "cell_type": "code",
   "execution_count": 89,
   "id": "08257fed",
   "metadata": {},
   "outputs": [
    {
     "data": {
      "text/plain": [
       "array([[1., 0.],\n",
       "       [0., 1.],\n",
       "       [0., 0.]])"
      ]
     },
     "execution_count": 89,
     "metadata": {},
     "output_type": "execute_result"
    }
   ],
   "source": [
    "# 3rows and 2 columns\n",
    "d=np.eye(3,2)\n",
    "d"
   ]
  },
  {
   "cell_type": "markdown",
   "id": "e36a3d6b",
   "metadata": {},
   "source": [
    "# Diagonal Functions"
   ]
  },
  {
   "cell_type": "code",
   "execution_count": 90,
   "id": "3c3d8084",
   "metadata": {},
   "outputs": [
    {
     "data": {
      "text/plain": [
       "array([[1, 0, 0, 0],\n",
       "       [0, 2, 0, 0],\n",
       "       [0, 0, 3, 0],\n",
       "       [0, 0, 0, 4]])"
      ]
     },
     "execution_count": 90,
     "metadata": {},
     "output_type": "execute_result"
    }
   ],
   "source": [
    "#creating array using diagonal func\n",
    "a=np.diag([1,2,3,4]) #4X4 Matrix\n",
    "a"
   ]
  },
  {
   "cell_type": "code",
   "execution_count": 91,
   "id": "b0469478",
   "metadata": {},
   "outputs": [
    {
     "data": {
      "text/plain": [
       "array([1, 2, 3, 4])"
      ]
     },
     "execution_count": 91,
     "metadata": {},
     "output_type": "execute_result"
    }
   ],
   "source": [
    "#extract Diagnonal elements\n",
    "np.diag(a) "
   ]
  },
  {
   "cell_type": "markdown",
   "id": "65ea5213",
   "metadata": {},
   "source": [
    "# Random Array"
   ]
  },
  {
   "cell_type": "code",
   "execution_count": 92,
   "id": "3e01ae9b",
   "metadata": {},
   "outputs": [
    {
     "data": {
      "text/plain": [
       "array([0.65711732, 0.26852209, 0.98336764, 0.33739764])"
      ]
     },
     "execution_count": 92,
     "metadata": {},
     "output_type": "execute_result"
    }
   ],
   "source": [
    "#uniform random no\n",
    "a=np.random.rand(4)\n",
    "a"
   ]
  },
  {
   "cell_type": "code",
   "execution_count": 95,
   "id": "d1bcf9f7",
   "metadata": {},
   "outputs": [
    {
     "data": {
      "text/plain": [
       "array([-1.23171037,  1.42584114,  0.0513131 , -0.7750699 ])"
      ]
     },
     "execution_count": 95,
     "metadata": {},
     "output_type": "execute_result"
    }
   ],
   "source": [
    "#Gausian Rndom no/standard normal no\n",
    "a=np.random.randn(4)\n",
    "a"
   ]
  },
  {
   "cell_type": "markdown",
   "id": "2a4bf605",
   "metadata": {},
   "source": [
    "# 2.Basic DataTypes"
   ]
  },
  {
   "cell_type": "code",
   "execution_count": 101,
   "id": "0ea71a1d",
   "metadata": {},
   "outputs": [
    {
     "name": "stdout",
     "output_type": "stream",
     "text": [
      "[0 1 2 3 4 5 6 7 8 9]\n"
     ]
    },
    {
     "data": {
      "text/plain": [
       "dtype('int32')"
      ]
     },
     "execution_count": 101,
     "metadata": {},
     "output_type": "execute_result"
    }
   ],
   "source": [
    "a=np.arange(10)\n",
    "print(a)\n",
    "a.dtype"
   ]
  },
  {
   "cell_type": "code",
   "execution_count": 98,
   "id": "238b8ef3",
   "metadata": {},
   "outputs": [
    {
     "data": {
      "text/plain": [
       "array([0., 1., 2., 3., 4., 5., 6., 7., 8., 9.])"
      ]
     },
     "execution_count": 98,
     "metadata": {},
     "output_type": "execute_result"
    }
   ],
   "source": [
    "#Explicity specify which data-type want:\n",
    "a=np.arange(10,dtype='float64')\n",
    "a"
   ]
  },
  {
   "cell_type": "code",
   "execution_count": 102,
   "id": "a372e49d",
   "metadata": {},
   "outputs": [
    {
     "name": "stdout",
     "output_type": "stream",
     "text": [
      "[[0. 0. 0.]\n",
      " [0. 0. 0.]\n",
      " [0. 0. 0.]]\n"
     ]
    },
    {
     "data": {
      "text/plain": [
       "dtype('float64')"
      ]
     },
     "execution_count": 102,
     "metadata": {},
     "output_type": "execute_result"
    }
   ],
   "source": [
    "#The default data type is float for zeros and ones function\n",
    "a=np.zeros((3,3))\n",
    "print(a)\n",
    "a.dtype"
   ]
  },
  {
   "cell_type": "code",
   "execution_count": 103,
   "id": "55de17f2",
   "metadata": {},
   "outputs": [
    {
     "data": {
      "text/plain": [
       "dtype('complex128')"
      ]
     },
     "execution_count": 103,
     "metadata": {},
     "output_type": "execute_result"
    }
   ],
   "source": [
    "d=np.array([1+2j,2+3j]) #complex no\n",
    "d.dtype"
   ]
  },
  {
   "cell_type": "code",
   "execution_count": 104,
   "id": "4038246f",
   "metadata": {},
   "outputs": [
    {
     "name": "stdout",
     "output_type": "stream",
     "text": [
      "bool\n"
     ]
    }
   ],
   "source": [
    "e=np.array([True,False,False,True])\n",
    "print(e.dtype)"
   ]
  },
  {
   "cell_type": "code",
   "execution_count": 106,
   "id": "2db35d69",
   "metadata": {},
   "outputs": [
    {
     "data": {
      "text/plain": [
       "dtype('<U5')"
      ]
     },
     "execution_count": 106,
     "metadata": {},
     "output_type": "execute_result"
    }
   ],
   "source": [
    "s=np.array(['Hi','Hello'])\n",
    "s.dtype"
   ]
  },
  {
   "cell_type": "markdown",
   "id": "c8ad4510",
   "metadata": {},
   "source": [
    "# 3. Indexing"
   ]
  },
  {
   "cell_type": "code",
   "execution_count": 109,
   "id": "0265376d",
   "metadata": {},
   "outputs": [
    {
     "name": "stdout",
     "output_type": "stream",
     "text": [
      "[0 1 2 3 4 5 6 7 8 9]\n",
      "5\n"
     ]
    }
   ],
   "source": [
    "#1-D Array\n",
    "a=np.arange(10)\n",
    "print(a)\n",
    "print(a[5])"
   ]
  },
  {
   "cell_type": "code",
   "execution_count": 114,
   "id": "c460434a",
   "metadata": {},
   "outputs": [
    {
     "name": "stdout",
     "output_type": "stream",
     "text": [
      "[[1 0 0]\n",
      " [0 2 0]\n",
      " [0 0 3]]\n",
      "1\n",
      "2\n",
      "3\n"
     ]
    }
   ],
   "source": [
    "#Multi Dimension  Array\n",
    "a=np.diag([1,2,3])\n",
    "print(a)\n",
    "print(a[0,0])\n",
    "print(a[1,1])\n",
    "print(a[2,2])"
   ]
  },
  {
   "cell_type": "code",
   "execution_count": 117,
   "id": "26c81c5f",
   "metadata": {},
   "outputs": [
    {
     "data": {
      "text/plain": [
       "array([[1, 0, 0],\n",
       "       [0, 2, 0],\n",
       "       [0, 5, 3]])"
      ]
     },
     "execution_count": 117,
     "metadata": {},
     "output_type": "execute_result"
    }
   ],
   "source": [
    "#assigning the value in the matrix\n",
    "a[2,1]=5\n",
    "a"
   ]
  },
  {
   "cell_type": "markdown",
   "id": "f2b00c6b",
   "metadata": {},
   "source": [
    "# 4.Slicing"
   ]
  },
  {
   "cell_type": "code",
   "execution_count": 118,
   "id": "4a4631dc",
   "metadata": {},
   "outputs": [
    {
     "data": {
      "text/plain": [
       "array([0, 1, 2, 3, 4, 5, 6, 7, 8, 9])"
      ]
     },
     "execution_count": 118,
     "metadata": {},
     "output_type": "execute_result"
    }
   ],
   "source": [
    "a=np.arange(10)\n",
    "a"
   ]
  },
  {
   "cell_type": "code",
   "execution_count": 119,
   "id": "d62fd714",
   "metadata": {},
   "outputs": [
    {
     "data": {
      "text/plain": [
       "array([1, 3, 5, 7])"
      ]
     },
     "execution_count": 119,
     "metadata": {},
     "output_type": "execute_result"
    }
   ],
   "source": [
    "a[1:8:2] #start,stop,stepsize"
   ]
  },
  {
   "cell_type": "code",
   "execution_count": 121,
   "id": "c9b63361",
   "metadata": {},
   "outputs": [
    {
     "name": "stdout",
     "output_type": "stream",
     "text": [
      "[0 1 2 3 4 5 6 7 8 9]\n"
     ]
    },
    {
     "data": {
      "text/plain": [
       "array([ 0,  1,  2,  3,  4, 10, 10, 10, 10, 10])"
      ]
     },
     "execution_count": 121,
     "metadata": {},
     "output_type": "execute_result"
    }
   ],
   "source": [
    "a=np.arange(10)\n",
    "print(a)\n",
    "a[5:]=10\n",
    "a"
   ]
  },
  {
   "cell_type": "code",
   "execution_count": 124,
   "id": "9fb053be",
   "metadata": {},
   "outputs": [
    {
     "name": "stdout",
     "output_type": "stream",
     "text": [
      "[0 1 2 3 4]\n"
     ]
    },
    {
     "data": {
      "text/plain": [
       "array([0, 1, 2, 3, 4, 4, 3, 2, 1, 0])"
      ]
     },
     "execution_count": 124,
     "metadata": {},
     "output_type": "execute_result"
    }
   ],
   "source": [
    "b=np.arange(5)\n",
    "print(b)\n",
    "a[5:]=b[::-1] #assigning on 5th onwards \n",
    "#start=0, end =len(a), stepsize=-1\n",
    "a"
   ]
  },
  {
   "cell_type": "markdown",
   "id": "63a766fd",
   "metadata": {},
   "source": [
    "# 5.Copies and Views"
   ]
  },
  {
   "cell_type": "raw",
   "id": "35283247",
   "metadata": {},
   "source": [
    "np.may_share_memory() --> to check if two arrays share the same memory block"
   ]
  },
  {
   "cell_type": "code",
   "execution_count": 125,
   "id": "ee57d518",
   "metadata": {},
   "outputs": [
    {
     "data": {
      "text/plain": [
       "array([0, 1, 2, 3, 4, 5, 6, 7, 8, 9])"
      ]
     },
     "execution_count": 125,
     "metadata": {},
     "output_type": "execute_result"
    }
   ],
   "source": [
    "a=np.arange(10)\n",
    "a"
   ]
  },
  {
   "cell_type": "code",
   "execution_count": 126,
   "id": "e032f386",
   "metadata": {},
   "outputs": [
    {
     "data": {
      "text/plain": [
       "array([0, 2, 4, 6, 8])"
      ]
     },
     "execution_count": 126,
     "metadata": {},
     "output_type": "execute_result"
    }
   ],
   "source": [
    "b=a[::2]\n",
    "b"
   ]
  },
  {
   "cell_type": "code",
   "execution_count": 127,
   "id": "343c094e",
   "metadata": {},
   "outputs": [
    {
     "data": {
      "text/plain": [
       "True"
      ]
     },
     "execution_count": 127,
     "metadata": {},
     "output_type": "execute_result"
    }
   ],
   "source": [
    "np.shares_memory(a,b)"
   ]
  },
  {
   "cell_type": "code",
   "execution_count": 129,
   "id": "66854709",
   "metadata": {},
   "outputs": [
    {
     "data": {
      "text/plain": [
       "array([10,  2,  4,  6,  8])"
      ]
     },
     "execution_count": 129,
     "metadata": {},
     "output_type": "execute_result"
    }
   ],
   "source": [
    "b[0]=10\n",
    "b"
   ]
  },
  {
   "cell_type": "code",
   "execution_count": 131,
   "id": "bbe6d5fc",
   "metadata": {},
   "outputs": [
    {
     "data": {
      "text/plain": [
       "array([10,  1,  2,  3,  4,  5,  6,  7,  8,  9])"
      ]
     },
     "execution_count": 131,
     "metadata": {},
     "output_type": "execute_result"
    }
   ],
   "source": [
    "a #a is also modified becoz same memory location"
   ]
  },
  {
   "cell_type": "code",
   "execution_count": 136,
   "id": "cec36b77",
   "metadata": {},
   "outputs": [
    {
     "data": {
      "text/plain": [
       "array([0, 2, 4, 6, 8])"
      ]
     },
     "execution_count": 136,
     "metadata": {},
     "output_type": "execute_result"
    }
   ],
   "source": [
    "#Forcing copying so that memory location different\n",
    "a=np.arange(10)\n",
    "c=a[::2].copy() #force copy\n",
    "c"
   ]
  },
  {
   "cell_type": "code",
   "execution_count": 134,
   "id": "896db671",
   "metadata": {},
   "outputs": [
    {
     "data": {
      "text/plain": [
       "False"
      ]
     },
     "execution_count": 134,
     "metadata": {},
     "output_type": "execute_result"
    }
   ],
   "source": [
    "np.shares_memory(a,c)"
   ]
  },
  {
   "cell_type": "code",
   "execution_count": 137,
   "id": "1733409d",
   "metadata": {},
   "outputs": [
    {
     "data": {
      "text/plain": [
       "array([0, 1, 2, 3, 4, 5, 6, 7, 8, 9])"
      ]
     },
     "execution_count": 137,
     "metadata": {},
     "output_type": "execute_result"
    }
   ],
   "source": [
    "c[0]=10\n",
    "a #no changes in a\n"
   ]
  },
  {
   "cell_type": "markdown",
   "id": "fe83d257",
   "metadata": {},
   "source": [
    "# 6.Fancy Indexing"
   ]
  },
  {
   "cell_type": "raw",
   "id": "355c7ebd",
   "metadata": {},
   "source": [
    "Mask creates copies not views"
   ]
  },
  {
   "cell_type": "code",
   "execution_count": 145,
   "id": "b1dbf4c1",
   "metadata": {},
   "outputs": [
    {
     "data": {
      "text/plain": [
       "array([15,  9, 14, 16,  2,  4, 17,  9,  4,  7, 14,  0, 17, 18, 14])"
      ]
     },
     "execution_count": 145,
     "metadata": {},
     "output_type": "execute_result"
    }
   ],
   "source": [
    "a=np.random.randint(0,20,15) #start=0,end=20,15 such nos\n",
    "a"
   ]
  },
  {
   "cell_type": "markdown",
   "id": "58f31dd2",
   "metadata": {},
   "source": [
    "a=np.random.randint(0,20) #start=0,end=20,1 nos\n",
    "a"
   ]
  },
  {
   "cell_type": "code",
   "execution_count": 146,
   "id": "0343aa5d",
   "metadata": {},
   "outputs": [],
   "source": [
    "#choosing only even no\n",
    "mask=(a%2==0)"
   ]
  },
  {
   "cell_type": "code",
   "execution_count": 147,
   "id": "2fbd50a6",
   "metadata": {},
   "outputs": [
    {
     "data": {
      "text/plain": [
       "array([14, 16,  2,  4,  4, 14,  0, 18, 14])"
      ]
     },
     "execution_count": 147,
     "metadata": {},
     "output_type": "execute_result"
    }
   ],
   "source": [
    "extract_from_a=a[mask]\n",
    "extract_from_a"
   ]
  },
  {
   "cell_type": "markdown",
   "id": "7c7e9074",
   "metadata": {},
   "source": [
    "Indexing with mask can be very useful to assign a new value to sub-array"
   ]
  },
  {
   "cell_type": "code",
   "execution_count": 148,
   "id": "548077e2",
   "metadata": {},
   "outputs": [
    {
     "data": {
      "text/plain": [
       "array([15,  9, -1, -1, -1, -1, 17,  9, -1,  7, -1, -1, 17, -1, -1])"
      ]
     },
     "execution_count": 148,
     "metadata": {},
     "output_type": "execute_result"
    }
   ],
   "source": [
    "a[mask]=-1 # all even becomes -1\n",
    "a"
   ]
  },
  {
   "cell_type": "markdown",
   "id": "69d1620f",
   "metadata": {},
   "source": [
    "Indexing with an array of integers"
   ]
  },
  {
   "cell_type": "code",
   "execution_count": 149,
   "id": "9ab24d38",
   "metadata": {},
   "outputs": [
    {
     "data": {
      "text/plain": [
       "array([ 0, 10, 20, 30, 40, 50, 60, 70, 80, 90])"
      ]
     },
     "execution_count": 149,
     "metadata": {},
     "output_type": "execute_result"
    }
   ],
   "source": [
    "a=np.arange(0,100,10)\n",
    "a"
   ]
  },
  {
   "cell_type": "code",
   "execution_count": 152,
   "id": "9b5d4db5",
   "metadata": {},
   "outputs": [
    {
     "data": {
      "text/plain": [
       "array([ 0, 20, 40, 60, 70, 80, 90])"
      ]
     },
     "execution_count": 152,
     "metadata": {},
     "output_type": "execute_result"
    }
   ],
   "source": [
    "#indexing with array of integers\n",
    "a[[0,2,4,6,7,8,9]]"
   ]
  },
  {
   "cell_type": "code",
   "execution_count": 153,
   "id": "15f6b654",
   "metadata": {},
   "outputs": [
    {
     "data": {
      "text/plain": [
       "array([   0,   10,   20,   30,   40,   50,   60,   70, -200, -200])"
      ]
     },
     "execution_count": 153,
     "metadata": {},
     "output_type": "execute_result"
    }
   ],
   "source": [
    "#assigning value\n",
    "a[[8,9]]=-200\n",
    "a"
   ]
  },
  {
   "cell_type": "code",
   "execution_count": 154,
   "id": "0735392d",
   "metadata": {},
   "outputs": [
    {
     "data": {
      "text/plain": [
       "array([   0,   10,   20,   30,   40,   50,   60, -200, -200, -200])"
      ]
     },
     "execution_count": 154,
     "metadata": {},
     "output_type": "execute_result"
    }
   ],
   "source": [
    "#assigning value\n",
    "a[[8,7]]=-200\n",
    "a"
   ]
  },
  {
   "cell_type": "code",
   "execution_count": null,
   "id": "6425def9",
   "metadata": {},
   "outputs": [],
   "source": []
  }
 ],
 "metadata": {
  "kernelspec": {
   "display_name": "Python 3 (ipykernel)",
   "language": "python",
   "name": "python3"
  },
  "language_info": {
   "codemirror_mode": {
    "name": "ipython",
    "version": 3
   },
   "file_extension": ".py",
   "mimetype": "text/x-python",
   "name": "python",
   "nbconvert_exporter": "python",
   "pygments_lexer": "ipython3",
   "version": "3.10.9"
  }
 },
 "nbformat": 4,
 "nbformat_minor": 5
}
