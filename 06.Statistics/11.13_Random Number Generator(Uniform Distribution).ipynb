{
 "cells": [
  {
   "cell_type": "markdown",
   "metadata": {
    "id": "VkOOg33M2iJp"
   },
   "source": [
    "# Random Number Generator (Uniform Distribution)\n"
   ]
  },
  {
   "cell_type": "code",
   "execution_count": 13,
   "metadata": {
    "colab": {
     "base_uri": "https://localhost:8080/"
    },
    "executionInfo": {
     "elapsed": 2287,
     "status": "ok",
     "timestamp": 1614181283222,
     "user": {
      "displayName": "Applied AI Course",
      "photoUrl": "https://lh3.googleusercontent.com/a-/AOh14GjjpR94Niu_srJxsFT_3bp9vDfqrjd2Zx94jDQdMg=s64",
      "userId": "06629147635963609455"
     },
     "user_tz": -330
    },
    "id": "0rPnWXup2iJq",
    "outputId": "37207d24-bc76-4121-f117-128e5091da6e"
   },
   "outputs": [
    {
     "name": "stdout",
     "output_type": "stream",
     "text": [
      "0.3108378364545821\n"
     ]
    }
   ],
   "source": [
    "import random\n",
    "print(random.random())"
   ]
  },
  {
   "cell_type": "code",
   "execution_count": 14,
   "metadata": {
    "colab": {
     "base_uri": "https://localhost:8080/"
    },
    "executionInfo": {
     "elapsed": 1858,
     "status": "ok",
     "timestamp": 1614181302421,
     "user": {
      "displayName": "Applied AI Course",
      "photoUrl": "https://lh3.googleusercontent.com/a-/AOh14GjjpR94Niu_srJxsFT_3bp9vDfqrjd2Zx94jDQdMg=s64",
      "userId": "06629147635963609455"
     },
     "user_tz": -330
    },
    "id": "QPzivAyl2iJw",
    "outputId": "6139c7cd-b4fe-422e-f75f-532f8d1af597"
   },
   "outputs": [
    {
     "data": {
      "text/plain": [
       "(150, 4)"
      ]
     },
     "execution_count": 14,
     "metadata": {},
     "output_type": "execute_result"
    }
   ],
   "source": [
    "#n data points set and want to sample uniformly 150 \n",
    "#load IRIS dataset with 150 points.\n",
    "from sklearn import datasets\n",
    "#loading the Iris dataset using the datasets.load_iris() function\n",
    "iris = datasets.load_iris()\n",
    "d = iris.data\n",
    "d.shape\n",
    "#print(d[0])"
   ]
  },
  {
   "cell_type": "code",
   "execution_count": 15,
   "metadata": {
    "colab": {
     "base_uri": "https://localhost:8080/",
     "height": 71
    },
    "executionInfo": {
     "elapsed": 3881,
     "status": "ok",
     "timestamp": 1582698917861,
     "user": {
      "displayName": "Applied AI Course",
      "photoUrl": "https://lh3.googleusercontent.com/a-/AAuE7mC6pMrRYsn22C9tuTEP5-bjFj-F25a3idPwqTuaHQ=s64",
      "userId": "06629147635963609455"
     },
     "user_tz": -330
    },
    "id": "ZRP6Getl2iJz",
    "outputId": "6adaa48f-20ba-43df-f834-7064cf8ebb4a"
   },
   "outputs": [
    {
     "name": "stdout",
     "output_type": "stream",
     "text": [
      "0.2\n"
     ]
    },
    {
     "data": {
      "text/plain": [
       "22"
      ]
     },
     "execution_count": 15,
     "metadata": {},
     "output_type": "execute_result"
    }
   ],
   "source": [
    "# Sample 30 points randomly from the 150 point dataset\n",
    "n=150 #total number of samples in the dataset\n",
    "#n = len(iris.data)\n",
    "m=30  #desired number of samples to be randomly \n",
    "      #selected from the dataset with uniform prob\n",
    "p = m/n #represents the probability of \n",
    "        #each sample being included in the randomly selected subset.\n",
    "\n",
    "print(p)\n",
    "\n",
    "sampled_data =[];\n",
    "\n",
    "for i in range(0,n):\n",
    "    if random.random() <=p:\n",
    "        sampled_data.append(d[i,:])\n",
    "    \n",
    "#print(sampled_data)\n",
    "len(sampled_data)"
   ]
  },
  {
   "cell_type": "raw",
   "metadata": {},
   "source": [
    "if random.random() <= p:: This condition checks if the randomly generated number is less than or equal to the sampling rate p. If it is, the sample is considered as part of the randomly selected subset.\n",
    "\n",
    "sampled_data.append(d[i, :]): If the condition is met, the current sample d[i, :] (d is a variable representing the original dataset) is appended to the sampled_data list."
   ]
  },
  {
   "cell_type": "code",
   "execution_count": null,
   "metadata": {
    "id": "V3qBMtCls3xP"
   },
   "outputs": [],
   "source": []
  }
 ],
 "metadata": {
  "colab": {
   "name": "12.11.ipynb",
   "provenance": []
  },
  "kernelspec": {
   "display_name": "Python 3 (ipykernel)",
   "language": "python",
   "name": "python3"
  },
  "language_info": {
   "codemirror_mode": {
    "name": "ipython",
    "version": 3
   },
   "file_extension": ".py",
   "mimetype": "text/x-python",
   "name": "python",
   "nbconvert_exporter": "python",
   "pygments_lexer": "ipython3",
   "version": "3.10.9"
  }
 },
 "nbformat": 4,
 "nbformat_minor": 1
}
